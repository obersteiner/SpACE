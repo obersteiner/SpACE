{
 "cells": [
  {
   "cell_type": "code",
   "execution_count": 1,
   "metadata": {},
   "outputs": [],
   "source": [
    "%matplotlib inline\n",
    "import matplotlib.pyplot as plt\n",
    "from sys import path\n",
    "path.append('../../src/')\n",
    "#path.append('../../../src/tools')\n",
    "import numpy as np\n",
    "\n",
    "#from numpy import *\n",
    "import scipy as sp\n",
    "from spatiallyAdaptiveExtendSplit import *\n",
    "from spatiallyAdaptiveSingleDimension2 import *\n",
    "from spatiallyAdaptiveCell import *\n",
    "\n",
    "from PerformTestCase import *\n",
    "from Function import *\n",
    "from ErrorCalculator import *\n",
    "from Utils import *\n",
    "import math\n",
    "dim = 5\n",
    "a = 0\n",
    "b = 1\n",
    "grid=TrapezoidalGrid(np.ones(dim)*a, np.ones(dim)*b, modified_basis=False, boundary=True)\n",
    "grid_single_dim = GlobalBSplineGrid(a=a*np.ones(dim), b=b*np.ones(dim), p=3, modified_basis=False, boundary=True)\n",
    "grid_single_dim2 = GlobalLagrangeGrid(a=a*np.ones(dim), b=b*np.ones(dim), p=3, modified_basis=False, boundary=True)\n",
    "grid_single_dim_lin = GlobalTrapezoidalGrid(a=a*np.ones(dim), b=b*np.ones(dim), modified_basis=False, boundary=True)\n"
   ]
  },
  {
   "cell_type": "code",
   "execution_count": null,
   "metadata": {
    "scrolled": true
   },
   "outputs": [],
   "source": [
    "midpoint = np.ones(dim) * 0.2\n",
    "coefficients = np.array([ 10**0 * (d+1) for d in range(dim)])\n",
    "f = GenzDiscontinious(border=midpoint,coeffs=coefficients)\n",
    "f.plot(np.ones(dim)*a,np.ones(dim)*b)\n",
    "errorOperator=ErrorCalculatorSurplusCell()\n",
    "errorOperator2=ErrorCalculatorExtendSplit()\n",
    "errorOperatorSingleDim = ErrorCalculatorSingleDimVolumeGuided()\n",
    "\n",
    "reference_solution = f.getAnalyticSolutionIntegral(np.ones(dim)*a, np.ones(dim)*b)\n",
    "\n",
    "#operation = Integration(f=f, grid=None, dim=dim, reference_solution=reference_solution)\n",
    "#adaptiveCombiInstanceExtend2 = SpatiallyAdaptiveExtendScheme(np.ones(dim)*a, np.ones(dim)*b,0,grid, no_initial_splitting=False,version=0, automatic_extend_split=True)\n",
    "from GridOperation import *\n",
    "operationSingleDim = Integration(f=f, grid=grid_single_dim_lin, dim=dim, reference_solution=reference_solution)\n",
    "operationSingleDim2 = Integration(f=f, grid=grid_single_dim_lin, dim=dim, reference_solution=reference_solution)\n",
    "adaptiveCombiInstanceSingleDim = SpatiallyAdaptiveSingleDimensions2(np.ones(dim) * a, np.ones(dim) * b, dim_adaptive=True, version=6, operation=operationSingleDim)\n",
    "adaptiveCombiInstanceSingleDim3 = SpatiallyAdaptiveSingleDimensions2(np.ones(dim) * a, np.ones(dim) * b, dim_adaptive=True, version=6, operation=operationSingleDim, rebalancing=False)\n",
    "\n",
    "#operation = Integration(f=f, grid=grid, dim=dim, reference_solution=reference_solution)\n",
    "\n",
    "#adaptiveCombiInstanceExtend2 = SpatiallyAdaptiveExtendScheme(np.ones(dim)*a, np.ones(dim)*b,0,grid, operation=operation, no_initial_splitting=False,version=0, automatic_extend_split=True)\n",
    "\n",
    "#adaptiveCombiInstanceExtend = SpatiallyAdaptiveExtendScheme(np.ones(dim)*a, np.ones(dim)*b,0,grid, operation=operation, no_initial_splitting=False,version=0)\n",
    "#adaptiveCombiInstanceCell = SpatiallyAdaptiveCellScheme(np.ones(dim)*a, np.ones(dim)*b,grid, operation=operation)\n",
    "\n",
    "algorithmArray = [(adaptiveCombiInstanceSingleDim,1,2, errorOperatorSingleDim, 'SingleDim rebalance linear strategy 3'), (adaptiveCombiInstanceSingleDim3,1,2, errorOperatorSingleDim, 'SingleDim  strategy 3')]\n",
    "evaluation_points = get_cross_product_list([np.linspace(a, b, 11)[1:-1] for d in range(dim)])\n",
    "#print(evaluation_points)\n",
    "performTestcaseArbitraryDim(f,a*np.ones(dim),b*np.ones(dim),algorithmArray,10,dim,9,grid,1,2, max_evaluations=1000000, evaluation_points = evaluation_points )\n"
   ]
  },
  {
   "cell_type": "code",
   "execution_count": null,
   "metadata": {},
   "outputs": [],
   "source": []
  }
 ],
 "metadata": {
  "kernelspec": {
   "display_name": "Python 3",
   "language": "python",
   "name": "python3"
  },
  "language_info": {
   "codemirror_mode": {
    "name": "ipython",
    "version": 3
   },
   "file_extension": ".py",
   "mimetype": "text/x-python",
   "name": "python",
   "nbconvert_exporter": "python",
   "pygments_lexer": "ipython3",
   "version": "3.6.9"
  }
 },
 "nbformat": 4,
 "nbformat_minor": 1
}
