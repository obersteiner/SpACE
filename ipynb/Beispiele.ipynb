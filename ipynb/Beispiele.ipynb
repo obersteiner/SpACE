{
 "cells": [
  {
   "cell_type": "markdown",
   "metadata": {
    "pycharm": {
     "name": "#%% md\n"
    }
   },
   "source": [
    "## Sparse Grid Regression with the Combination Technique: \n"
   ]
  },
  {
   "cell_type": "markdown",
   "metadata": {
    "pycharm": {
     "name": "#%% md\n"
    }
   },
   "source": [
    "### Utility functions :"
   ]
  },
  {
   "cell_type": "code",
   "execution_count": null,
   "metadata": {},
   "outputs": [],
   "source": [
    "from sparseSpACE.Function import *\n",
    "from sparseSpACE.Utils import *\n",
    "import numpy as np\n",
    "import math\n",
    "\n",
    "def construct_dataset(dim, function, num_points):\n",
    "    grid_points = np.random.rand(num_points,2)\n",
    "    y_vals = np.array([function(x) for x in grid_points])\n",
    "    return grid_points, y_vals.flatten()\n",
    "\n",
    "    \n",
    "def split_dataset(data, targets, parts):\n",
    "    training_size = 0\n",
    "    test_size = 0\n",
    "    for i in range(len(data)):\n",
    "        if i%parts != 0:\n",
    "            training_size += 1\n",
    "        else:\n",
    "            test_size += 1\n",
    "            \n",
    "    training_data = np.zeros((training_size, len(data[0]))) \n",
    "    training_targets = np.zeros(training_size) \n",
    "    \n",
    "    test_data = np.zeros((test_size, len(data[0]))) \n",
    "    test_targets = np.zeros(test_size) \n",
    "    \n",
    "    training_index = 0\n",
    "    test_index = 0\n",
    "    \n",
    "    for i in range(len(data)):\n",
    "        if i%parts != 0:\n",
    "            training_data[training_index] = data[i]\n",
    "            training_targets[training_index] = targets[i]\n",
    "            training_index += 1\n",
    "        else:\n",
    "            test_data[test_index] = data[i]\n",
    "            test_targets[test_index] = targets[i]\n",
    "            test_index += 1\n",
    "    \n",
    "    return training_data, training_targets, test_data, test_targets\n",
    "\n",
    "\n",
    "def train_regression(training_data, training_targets, regularization, matrix, minimum_level, maximum_level):\n",
    "    dim = len(training_data[0])\n",
    "    \n",
    "    a = np.zeros(dim)\n",
    "    b = np.ones(dim)\n",
    "    \n",
    "    operation = Regression(training_data, training_targets, regularization, dim, regularization_matrix=matrix)\n",
    "    \n",
    "    combiObject = StandardCombi(a, b, operation=operation)\n",
    "    \n",
    "    combiObject.perform_operation(minimum_level, maximum_level)\n",
    "    \n",
    "    return operation, combiObject\n",
    "\n",
    "\n",
    "def test_regression(test_data, test_targets, combiObject):\n",
    "    learned_targets = combiObject(test_data)\n",
    "    \n",
    "    difference = 0\n",
    "    for i in range(len(learned_targets)):\n",
    "        difference += (test_targets[i] - learned_targets[i]) ** 2\n",
    "        \n",
    "    return math.sqrt(difference/len(test_targets))\n",
    "\n",
    "def scale_data(data, target, rangee=[0.05,0.95]):\n",
    "    dataSet = DataSetRegression((data, target))\n",
    "    dataSet.scale_range(rangee)\n",
    "    data, target = dataSet.get_data()[0], dataSet.get_data()[1]\n",
    "    return data, target"
   ]
  },
  {
   "cell_type": "markdown",
   "metadata": {},
   "source": [
    "## Result 1: Increasing size of dataset\n",
    "Information: \n",
    "- Data set: Gaussian function ((i*10)^2 points with i in [1,10])\n",
    "- levels: 1,5\n",
    "- training / test ratio: 1/5\n",
    "- lambda: 10^-6\n",
    "- matrix: C and I"
   ]
  },
  {
   "cell_type": "code",
   "execution_count": null,
   "metadata": {},
   "outputs": [],
   "source": [
    "%matplotlib inline\n",
    "import numpy as np\n",
    "from sparseSpACE.ErrorCalculator import *\n",
    "from sparseSpACE.GridOperation import *\n",
    "from sparseSpACE.StandardCombi import *\n",
    "from sklearn import datasets\n",
    "\n",
    "func = GenzGaussian((0.5,0.5), (10,10))\n",
    "\n",
    "\n",
    "stringBuilderC = \"\"\n",
    "\n",
    "for i in range(1,11):\n",
    "    data, target = construct_dataset(2, func, (i*10)**2)\n",
    "    training_data, training_targets, test_data, test_targets = split_dataset(data, target, 5)\n",
    "    operation, combiObject = train_regression(training_data, training_targets, 10**-6, 0, 1, 5)\n",
    "    stringBuilderC += \"\" + str((i*10)**2) + \" & \"+ str(test_regression(test_data, test_targets, combiObject)) + \"\\\\\\\\\\n\"\n",
    "\n",
    "stringBuilderI = \"\"\n",
    "\n",
    "for i in range(1,11):\n",
    "    data, target = construct_dataset(2, func, (i*10)**2)\n",
    "    training_data, training_targets, test_data, test_targets = split_dataset(data, target, 5)\n",
    "    operation, combiObject = train_regression(training_data, training_targets, 10**-6, 1, 1, 5)\n",
    "    stringBuilderI += \"\" + str((i*10)**2) + \" & \"+ str(test_regression(test_data, test_targets, combiObject)) + \"\\\\\\\\\\n\"    \n",
    "    \n",
    "print(\"Testfehler:\")\n",
    "print(stringBuilderC)\n",
    "print(stringBuilderI)"
   ]
  },
  {
   "cell_type": "markdown",
   "metadata": {},
   "source": [
    "## Result 2: Increasing levels of the grid\n",
    "Information: \n",
    "- Data set: Gaussian function (400 points)\n",
    "- levels: 1,x with x in [2,8]\n",
    "- training / test ratio: 1/5\n",
    "- lambda: 10^-6\n",
    "- matrix: C and I"
   ]
  },
  {
   "cell_type": "code",
   "execution_count": null,
   "metadata": {
    "pycharm": {
     "is_executing": false,
     "name": "#%%\n"
    },
    "scrolled": false
   },
   "outputs": [],
   "source": [
    "# import sparseSpACE\n",
    "%matplotlib inline\n",
    "import numpy as np\n",
    "from sparseSpACE.ErrorCalculator import *\n",
    "from sparseSpACE.GridOperation import *\n",
    "from sparseSpACE.StandardCombi import *\n",
    "from sklearn import datasets\n",
    "\n",
    "func = GenzGaussian((0.5,0.5), (10,10))\n",
    "data, target = construct_dataset(2, func, 400)\n",
    "\n",
    "\n",
    "#split the dataset into training and test data\n",
    "training_data, training_targets, test_data, test_targets = split_dataset(data, target, 5)\n",
    "\n",
    "operation, combiObject = train_regression(training_data, training_targets, 0, 0, 1, i)\n",
    "print(test_regression(test_data, test_targets, combiObject))\n",
    "\n",
    "stringBuilderC = \"\"\n",
    "\n",
    "for i in range(2, 9):\n",
    "    operation, combiObject = train_regression(training_data, training_targets, 10**-6, 0, 1, i)\n",
    "    stringBuilderC += \"\" + str(i) + \" & \"+ str(test_regression(test_data, test_targets, combiObject)) + \"\\\\\\\\\\n\"\n",
    "    \n",
    "stringBuilderI = \"\"\n",
    "for i in range(2, 9):\n",
    "    operation, combiObject = train_regression(training_data, training_targets, 10**-6, 1, 1, i)\n",
    "    stringBuilderI += \"\" + str(i) + \" & \"+ str(test_regression(test_data, test_targets, combiObject)) + \"\\\\\\\\\\n\"\n",
    "\n",
    "print(\"Testfehler:\")\n",
    "print(stringBuilderC)\n",
    "print(stringBuilderI)"
   ]
  },
  {
   "cell_type": "markdown",
   "metadata": {
    "pycharm": {
     "is_executing": false,
     "name": "#%% md\n"
    }
   },
   "source": [
    "\n"
   ]
  },
  {
   "cell_type": "markdown",
   "metadata": {},
   "source": [
    "## Result 3: Increasing regularization parameter lambda\n",
    "Information: \n",
    "- Data set: diabetes\n",
    "- levels: 1,4\n",
    "- training / test ratio: 1/5\n",
    "- lambda: 10^-i with i in [0,10]\n",
    "- matrix: C and I"
   ]
  },
  {
   "cell_type": "code",
   "execution_count": null,
   "metadata": {
    "pycharm": {
     "is_executing": false,
     "name": "#%%\n"
    },
    "scrolled": false
   },
   "outputs": [],
   "source": [
    "%matplotlib inline\n",
    "import numpy as np\n",
    "from sparseSpACE.ErrorCalculator import *\n",
    "from sparseSpACE.GridOperation import *\n",
    "from sparseSpACE.StandardCombi import *\n",
    "from sparseSpACE.DEMachineLearning import *\n",
    "from sklearn import datasets\n",
    "\n",
    "data, target = datasets.load_diabetes(return_X_y=True)\n",
    "\n",
    "data, target = scale_data(data, target)\n",
    "\n",
    "training_data, training_targets, test_data, test_targets = split_dataset(data, target, 5)   \n",
    "\n",
    "operation, combiObject = train_regression(training_data, training_targets, regularization=0, matrix=1, minimum_level=1, maximum_level=4)\n",
    "print(test_regression(test_data, test_targets, combiObject))\n",
    "\n",
    "stringBuilder1 = \"\"\n",
    "for i in range(10):\n",
    "    operation, combiObject = train_regression(training_data, training_targets, regularization=10**-i, matrix=0, minimum_level=1, maximum_level=4)\n",
    "    stringBuilder1 = stringBuilder1 + str(10**-i) +\" & \" + str(test_regression(test_data, test_targets, combiObject)) + \"\\\\\\\\\\n\"\n",
    "\n",
    "stringBuilder2 = \"\"\n",
    "for i in range(10):\n",
    "    operation, combiObject = train_regression(training_data, training_targets, regularization=10**-i, matrix=1, minimum_level=1, maximum_level=4)\n",
    "    stringBuilder2 = stringBuilder2 + str(10**-i) +\" & \" + str(test_regression(test_data, test_targets, combiObject))  + \"\\\\\\\\\\n\"\n",
    "    \n",
    "print(\"Tabelle:\")\n",
    "print(stringBuilder1)\n",
    "print(stringBuilder2)\n"
   ]
  },
  {
   "cell_type": "markdown",
   "metadata": {
    "pycharm": {
     "is_executing": false,
     "name": "#%% md\n"
    }
   },
   "source": [
    "## Result 4: Increasing regularization parameter lambda\n",
    "\n",
    "Information:\n",
    "\n",
    "- Data set: boston\n",
    "- levels: 1,4\n",
    "- training / test ratio: 1/5\n",
    "- lambda: 10^-i with i in [0,10]\n",
    "- matrix: C and I\n"
   ]
  },
  {
   "cell_type": "code",
   "execution_count": null,
   "metadata": {
    "pycharm": {
     "is_executing": false,
     "name": "#%%\n"
    }
   },
   "outputs": [],
   "source": [
    "%matplotlib inline\n",
    "import numpy as np\n",
    "from sparseSpACE.ErrorCalculator import *\n",
    "from sparseSpACE.GridOperation import *\n",
    "from sparseSpACE.StandardCombi import *\n",
    "from sparseSpACE.DEMachineLearning import *\n",
    "from sklearn import datasets\n",
    "\n",
    "data, target = datasets.load_boston(return_X_y=True)\n",
    "\n",
    "data, target = scale_data(data, target)\n",
    "\n",
    "training_data, training_targets, test_data, test_targets = split_dataset(data, target, 5)   \n",
    "\n",
    "operation, combiObject = train_regression(training_data, training_targets, regularization=0, matrix=1, minimum_level=1, maximum_level=4)\n",
    "print(test_regression(test_data, test_targets, combiObject))\n",
    "\n",
    "stringBuilder1 = \"\"\n",
    "for i in range(10):\n",
    "    operation, combiObject = train_regression(training_data, training_targets, regularization=10**-i, matrix=0, minimum_level=1, maximum_level=4)\n",
    "    stringBuilder1 = stringBuilder1 + str(10**-i) +\" & \" + str(test_regression(test_data, test_targets, combiObject)) + \"\\\\\\\\\\n\"\n",
    "\n",
    "stringBuilder2 = \"\"\n",
    "for i in range(10):\n",
    "    operation, combiObject = train_regression(training_data, training_targets, regularization=10**-i, matrix=1, minimum_level=1, maximum_level=4)\n",
    "    stringBuilder2 = stringBuilder2 + str(10**-i) +\" & \" + str(test_regression(test_data, test_targets, combiObject))  + \"\\\\\\\\\\n\"\n",
    "    \n",
    "print(\"Tabelle:\")\n",
    "print(stringBuilder1)\n",
    "print(stringBuilder2)"
   ]
  },
  {
   "cell_type": "markdown",
   "metadata": {},
   "source": [
    "## Result 5: Increasing training/test ratio\n",
    "\n",
    "Information:\n",
    "\n",
    "- Data set: Gaussian Function\n",
    "- levels: 1,5\n",
    "- training / test ratio: 1/1 -> 1/29\n",
    "- lambda: 10^-6\n",
    "- matrix: C and I\n",
    "\n"
   ]
  },
  {
   "cell_type": "code",
   "execution_count": null,
   "metadata": {
    "scrolled": false
   },
   "outputs": [],
   "source": [
    "# import sparseSpACE\n",
    "%matplotlib inline\n",
    "import numpy as np\n",
    "from sparseSpACE.ErrorCalculator import *\n",
    "from sparseSpACE.GridOperation import *\n",
    "from sparseSpACE.StandardCombi import *\n",
    "from sklearn import datasets\n",
    "\n",
    "func = GenzGaussian((0.5,0.5), (10,10))\n",
    "data, target = construct_dataset(2, func, 100)\n",
    "\n",
    "\n",
    "#split the dataset into training and test data\n",
    "\n",
    "\n",
    "stringBuilderC = \"\"\n",
    "\n",
    "for i in range(2, 30):\n",
    "    training_data, training_targets, test_data, test_targets = split_dataset(data, target, i)\n",
    "    operation, combiObject = train_regression(training_data, training_targets, 10**-6, 0, 1, 5)\n",
    "    stringBuilderC += \"\" + str(i) + \" & \"+ str(test_regression(test_data, test_targets, combiObject)) + \"\\\\\\\\\\n\"\n",
    "    \n",
    "stringBuilderI = \"\"\n",
    "for i in range(2, 30):\n",
    "    training_data, training_targets, test_data, test_targets = split_dataset(data, target, i)\n",
    "    operation, combiObject = train_regression(training_data, training_targets, 10**-6, 1, 1, 5)\n",
    "    stringBuilderI += \"\" + str(i) + \" & \"+ str(test_regression(test_data, test_targets, combiObject)) + \"\\\\\\\\\\n\"\n",
    "\n",
    "print(\"Testfehler:\")\n",
    "print(stringBuilderC)\n",
    "print(stringBuilderI)"
   ]
  },
  {
   "cell_type": "code",
   "execution_count": null,
   "metadata": {},
   "outputs": [],
   "source": []
  }
 ],
 "metadata": {
  "kernelspec": {
   "display_name": "Python 3",
   "language": "python",
   "name": "python3"
  },
  "language_info": {
   "codemirror_mode": {
    "name": "ipython",
    "version": 3
   },
   "file_extension": ".py",
   "mimetype": "text/x-python",
   "name": "python",
   "nbconvert_exporter": "python",
   "pygments_lexer": "ipython3",
   "version": "3.8.5"
  },
  "pycharm": {
   "stem_cell": {
    "cell_type": "raw",
    "metadata": {
     "collapsed": false
    },
    "source": []
   }
  }
 },
 "nbformat": 4,
 "nbformat_minor": 1
}
