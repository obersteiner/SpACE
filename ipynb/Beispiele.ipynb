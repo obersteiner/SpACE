{
 "cells": [
  {
   "cell_type": "markdown",
   "metadata": {
    "pycharm": {
     "name": "#%% md\n"
    }
   },
   "source": [
    "# Sparse Grid Regression with the Combination Technique: \n"
   ]
  },
  {
   "cell_type": "markdown",
   "metadata": {
    "pycharm": {
     "name": "#%% md\n"
    }
   },
   "source": [
    "### Utility functions :"
   ]
  },
  {
   "cell_type": "code",
   "execution_count": null,
   "metadata": {},
   "outputs": [],
   "source": [
    "from sparseSpACE.Function import *\n",
    "from sparseSpACE.Utils import *\n",
    "from sparseSpACE.DEMachineLearning import *\n",
    "import numpy as np\n",
    "import math\n",
    "\n",
    "def construct_dataset(dim, function, num_points):\n",
    "    grid_points = np.random.rand(num_points,2)\n",
    "    y_vals = np.array([function(x) for x in grid_points])\n",
    "    return grid_points, y_vals.flatten()\n",
    "\n",
    "    \n",
    "def split_dataset(data, targets, parts):\n",
    "    training_size = 0\n",
    "    test_size = 0\n",
    "    for i in range(len(data)):\n",
    "        if i%parts != 0:\n",
    "            training_size += 1\n",
    "        else:\n",
    "            test_size += 1\n",
    "            \n",
    "    training_data = np.zeros((training_size, len(data[0]))) \n",
    "    training_targets = np.zeros(training_size) \n",
    "    \n",
    "    test_data = np.zeros((test_size, len(data[0]))) \n",
    "    test_targets = np.zeros(test_size) \n",
    "    \n",
    "    training_index = 0\n",
    "    test_index = 0\n",
    "    \n",
    "    for i in range(len(data)):\n",
    "        if i%parts != 0:\n",
    "            training_data[training_index] = data[i]\n",
    "            training_targets[training_index] = targets[i]\n",
    "            training_index += 1\n",
    "        else:\n",
    "            test_data[test_index] = data[i]\n",
    "            test_targets[test_index] = targets[i]\n",
    "            test_index += 1\n",
    "    \n",
    "    return training_data, training_targets, test_data, test_targets\n",
    "\n",
    "\n",
    "def train_regression(training_data, training_targets, regularization, matrix, minimum_level, maximum_level):\n",
    "    dim = len(training_data[0])\n",
    "    \n",
    "    a = np.zeros(dim)\n",
    "    b = np.ones(dim)\n",
    "    \n",
    "    operation = Regression(training_data, training_targets, regularization, dim, regularization_matrix=matrix)\n",
    "    \n",
    "    combiObject = StandardCombi(a, b, operation=operation)\n",
    "    \n",
    "    combiObject.perform_operation(minimum_level, maximum_level)\n",
    "    \n",
    "    return operation, combiObject\n",
    "\n",
    "\n",
    "def test_regression(test_data, test_targets, combiObject):\n",
    "    learned_targets = combiObject(test_data)\n",
    "    \n",
    "    difference = 0\n",
    "    for i in range(len(learned_targets)):\n",
    "        difference += (test_targets[i] - learned_targets[i]) ** 2\n",
    "        \n",
    "    return math.sqrt(difference/len(test_targets))\n",
    "\n",
    "def scale_data(data, target, rangee=[0.05,0.95]):\n",
    "    dataSet = DataSetRegression((data, target))\n",
    "    dataSet.scale_range(rangee)\n",
    "    data, target = dataSet.get_data()[0], dataSet.get_data()[1]\n",
    "    return data, target\n",
    "\n",
    "\n",
    "def test_regression_spatially_adaptive(test_data, test_targets, adaptiveCombiInstanceSingleDim, grid):\n",
    "    learned_targets = adaptiveCombiInstanceSingleDim(test_data)\n",
    "    \n",
    "    difference = 0\n",
    "    for i in range(len(learned_targets)):\n",
    "        difference += (test_targets[i] - learned_targets[i]) ** 2\n",
    "        \n",
    "    return math.sqrt(difference/len(test_targets))\n",
    "\n",
    "def find_best_lambda_C(data, targets, level_min=1, level_max=5):\n",
    "    lambdas = np.zeros(7)\n",
    "    training_data, training_targets, test_data, test_targets = split_dataset(data, target, 4)\n",
    "    \n",
    "    for i in range(3,10):\n",
    "        operation, combiObject = train_regression(training_data, training_targets, 10**-i, 0, level_min, level_max)\n",
    "        lambdas[i-3] = test_regression(test_data, test_targets, combiObject)\n",
    "        \n",
    "    exp = np.where(lambdas == np.amin(lambdas))\n",
    "    return 10.**-(exp[0][0])\n",
    "    \n",
    "def find_best_lambda_I(data, targets, level_min=1, level_max=5):\n",
    "    lambdas = np.zeros(7)\n",
    "    training_data, training_targets, test_data, test_targets = split_dataset(data, target, 4)\n",
    "    \n",
    "    for i in range(3,10):\n",
    "        operation, combiObject = train_regression(training_data, training_targets, 10**-i, 1, level_min, level_max)\n",
    "        lambdas[i-3] = test_regression(test_data, test_targets, combiObject)\n",
    "        \n",
    "    exp = np.where(lambdas == np.amin(lambdas))\n",
    "    return 10.**-(exp[0][0])"
   ]
  },
  {
   "cell_type": "markdown",
   "metadata": {},
   "source": [
    "## Test: Increasing size of dataset -> Error\n",
    "Information: \n",
    "- Data set: Gaussian function ((i*10)^2 points with i in [1,10])\n",
    "- levels: 1,5\n",
    "- training / test ratio: 1/5\n",
    "- lambda: 10^-6\n",
    "- matrix: C and I"
   ]
  },
  {
   "cell_type": "code",
   "execution_count": null,
   "metadata": {
    "scrolled": true
   },
   "outputs": [],
   "source": [
    "%matplotlib inline\n",
    "import numpy as np\n",
    "from sparseSpACE.ErrorCalculator import *\n",
    "from sparseSpACE.GridOperation import *\n",
    "from sparseSpACE.StandardCombi import *\n",
    "from sklearn import datasets\n",
    "\n",
    "func = GenzGaussian((0.5,0.5), (10,10))\n",
    "\n",
    "stringBuilderC = \"\"\n",
    "for i in range(1,11):\n",
    "    data, target = construct_dataset(2, func, (i*10)**2)\n",
    "    training_data, training_targets, test_data, test_targets = split_dataset(data, target, 5)\n",
    "    lambdaC = find_best_lambda_C(data, target, 1, 5)\n",
    "    operation, combiObject = train_regression(training_data, training_targets, lambdaC, 0, 1, 5)\n",
    "    stringBuilderC += \"\" + str((i*10)**2) + \" & \"+ str(test_regression(test_data, test_targets, combiObject)) + \"\\\\\\\\\\n\"\n",
    "\n",
    "stringBuilderI = \"\"\n",
    "for i in range(1,11):\n",
    "    data, target = construct_dataset(2, func, (i*10)**2)\n",
    "    training_data, training_targets, test_data, test_targets = split_dataset(data, target, 5)\n",
    "    lambdaI = find_best_lambda_I(data, target, 1, 5)\n",
    "    operation, combiObject = train_regression(training_data, training_targets, lambdaI, 1, 1, 5)\n",
    "    stringBuilderI += \"\" + str((i*10)**2) + \" & \"+ str(test_regression(test_data, test_targets, combiObject)) + \"\\\\\\\\\\n\"    \n",
    "    \n",
    "print(\"Testfehler:\")\n",
    "print(stringBuilderC)\n",
    "print(stringBuilderI)"
   ]
  },
  {
   "cell_type": "markdown",
   "metadata": {},
   "source": [
    "## Test: Increasing number of grid points -> Error\n",
    "Information: \n",
    "- Data set: Gaussian function (400 points)\n",
    "- levels: 1,x with x in [2,8]\n",
    "- training / test ratio: 1/5\n",
    "- lambda: 10^-6\n",
    "- matrix: C and I"
   ]
  },
  {
   "cell_type": "code",
   "execution_count": null,
   "metadata": {
    "pycharm": {
     "is_executing": false,
     "name": "#%%\n"
    },
    "scrolled": false
   },
   "outputs": [],
   "source": [
    "# import sparseSpACE\n",
    "%matplotlib inline\n",
    "import numpy as np\n",
    "from sparseSpACE.ErrorCalculator import *\n",
    "from sparseSpACE.GridOperation import *\n",
    "from sparseSpACE.StandardCombi import *\n",
    "from sklearn import datasets\n",
    "\n",
    "func = GenzGaussian((0.5,0.5), (10,10))\n",
    "data, target = construct_dataset(2, func, 400)\n",
    "\n",
    "\n",
    "#split the dataset into training and test data\n",
    "training_data, training_targets, test_data, test_targets = split_dataset(data, target, 5)\n",
    "\n",
    "# lambdas already found out\n",
    "lambdaC = 0.01 #find_best_lambda_C(data, target, 1, 4)\n",
    "lambdaI = 0.01 #find_best_lambda_I(data, target, 1, 4)\n",
    "print(lambdaC, lambdaI)\n",
    "\n",
    "stringBuilderC = \"\"\n",
    "\n",
    "for i in range(2, 9):\n",
    "    operation, combiObject = train_regression(training_data, training_targets, lambdaC, 0, 1, i)\n",
    "    stringBuilderC += \"\" + str(operation.get_grid().get_num_points()) + \" & \"+ str(test_regression(test_data, test_targets, combiObject)) + \"\\\\\\\\\\n\"\n",
    "    \n",
    "stringBuilderI = \"\"\n",
    "for i in range(2, 9):\n",
    "    operation, combiObject = train_regression(training_data, training_targets, lambdaI, 1, 1, i)\n",
    "    stringBuilderI += \"\" + str(operation.get_grid().get_num_points()) + \" & \"+ str(test_regression(test_data, test_targets, combiObject)) + \"\\\\\\\\\\n\"    \n",
    "    \n",
    "    \n",
    "print(\"Testfehler:\")\n",
    "print(stringBuilderC)\n",
    "print(stringBuilderI)"
   ]
  },
  {
   "cell_type": "markdown",
   "metadata": {
    "pycharm": {
     "is_executing": false,
     "name": "#%% md\n"
    }
   },
   "source": [
    "\n"
   ]
  },
  {
   "cell_type": "markdown",
   "metadata": {},
   "source": [
    "## Test: Increasing regularization parameter lambda -> Error\n",
    "Information: \n",
    "- Data set: diabetes\n",
    "- levels: 1,4\n",
    "- training / test ratio: 1/5\n",
    "- lambda: 10^-i with i in [0,10]\n",
    "- matrix: C and I"
   ]
  },
  {
   "cell_type": "code",
   "execution_count": null,
   "metadata": {
    "pycharm": {
     "is_executing": false,
     "name": "#%%\n"
    },
    "scrolled": false
   },
   "outputs": [],
   "source": [
    "%matplotlib inline\n",
    "import numpy as np\n",
    "from sparseSpACE.ErrorCalculator import *\n",
    "from sparseSpACE.GridOperation import *\n",
    "from sparseSpACE.StandardCombi import *\n",
    "from sparseSpACE.DEMachineLearning import *\n",
    "from sklearn import datasets\n",
    "\n",
    "data, target = datasets.load_diabetes(return_X_y=True)\n",
    "\n",
    "data, target = scale_data(data, target)\n",
    "\n",
    "training_data, training_targets, test_data, test_targets = split_dataset(data, target, 5)   \n",
    "\n",
    "operation, combiObject = train_regression(training_data, training_targets, regularization=0, matrix=1, minimum_level=1, maximum_level=4)\n",
    "print(test_regression(test_data, test_targets, combiObject))\n",
    "\n",
    "stringBuilder1 = \"\"\n",
    "for i in range(10):\n",
    "    operation, combiObject = train_regression(training_data, training_targets, regularization=10**-i, matrix=0, minimum_level=1, maximum_level=4)\n",
    "    stringBuilder1 = stringBuilder1 + str(10**-i) +\" & \" + str(test_regression(test_data, test_targets, combiObject)) + \"\\\\\\\\\\n\"\n",
    "\n",
    "stringBuilder2 = \"\"\n",
    "for i in range(10):\n",
    "    operation, combiObject = train_regression(training_data, training_targets, regularization=10**-i, matrix=1, minimum_level=1, maximum_level=4)\n",
    "    stringBuilder2 = stringBuilder2 + str(10**-i) +\" & \" + str(test_regression(test_data, test_targets, combiObject))  + \"\\\\\\\\\\n\"\n",
    "    \n",
    "print(\"Tabelle:\")\n",
    "print(stringBuilder1)\n",
    "print(stringBuilder2)\n"
   ]
  },
  {
   "cell_type": "markdown",
   "metadata": {
    "pycharm": {
     "is_executing": false,
     "name": "#%% md\n"
    }
   },
   "source": [
    "## Test: Increasing regularization parameter lambda -> Error\n",
    "\n",
    "Information:\n",
    "\n",
    "- Data set: boston\n",
    "- levels: 1,4\n",
    "- training / test ratio: 1/5\n",
    "- lambda: 10^-i with i in [0,10]\n",
    "- matrix: C and I\n"
   ]
  },
  {
   "cell_type": "code",
   "execution_count": null,
   "metadata": {
    "pycharm": {
     "is_executing": false,
     "name": "#%%\n"
    }
   },
   "outputs": [],
   "source": [
    "%matplotlib inline\n",
    "import numpy as np\n",
    "from sparseSpACE.ErrorCalculator import *\n",
    "from sparseSpACE.GridOperation import *\n",
    "from sparseSpACE.StandardCombi import *\n",
    "from sparseSpACE.DEMachineLearning import *\n",
    "from sklearn import datasets\n",
    "\n",
    "data, target = datasets.load_boston(return_X_y=True)\n",
    "\n",
    "data, target = scale_data(data, target)\n",
    "\n",
    "training_data, training_targets, test_data, test_targets = split_dataset(data, target, 5)   \n",
    "\n",
    "operation, combiObject = train_regression(training_data, training_targets, regularization=0, matrix=1, minimum_level=1, maximum_level=4)\n",
    "print(test_regression(test_data, test_targets, combiObject))\n",
    "\n",
    "stringBuilder1 = \"\"\n",
    "for i in range(10):\n",
    "    operation, combiObject = train_regression(training_data, training_targets, regularization=10**-i, matrix=0, minimum_level=1, maximum_level=4)\n",
    "    stringBuilder1 = stringBuilder1 + str(10**-i) +\" & \" + str(test_regression(test_data, test_targets, combiObject)) + \"\\\\\\\\\\n\"\n",
    "\n",
    "stringBuilder2 = \"\"\n",
    "for i in range(10):\n",
    "    operation, combiObject = train_regression(training_data, training_targets, regularization=10**-i, matrix=1, minimum_level=1, maximum_level=4)\n",
    "    stringBuilder2 = stringBuilder2 + str(10**-i) +\" & \" + str(test_regression(test_data, test_targets, combiObject))  + \"\\\\\\\\\\n\"\n",
    "    \n",
    "print(\"Tabelle:\")\n",
    "print(stringBuilder1)\n",
    "print(stringBuilder2)"
   ]
  },
  {
   "cell_type": "markdown",
   "metadata": {},
   "source": [
    "## Test: Decreasing training/test ratio -> Error\n",
    "\n",
    "Information:\n",
    "\n",
    "- Data set: Gaussian Function\n",
    "- levels: 1,5\n",
    "- training / test ratio: 1/1 -> 1/29\n",
    "- lambda: 10^-6\n",
    "- matrix: C and I\n",
    "\n"
   ]
  },
  {
   "cell_type": "code",
   "execution_count": null,
   "metadata": {
    "scrolled": true
   },
   "outputs": [],
   "source": [
    "# import sparseSpACE\n",
    "%matplotlib inline\n",
    "import numpy as np\n",
    "from sparseSpACE.ErrorCalculator import *\n",
    "from sparseSpACE.GridOperation import *\n",
    "from sparseSpACE.StandardCombi import *\n",
    "from sklearn import datasets\n",
    "\n",
    "func = GenzGaussian((0.5,0.5), (10,10))\n",
    "data, target = construct_dataset(2, func, 100)\n",
    "\n",
    "\n",
    "#split the dataset into training and test data\n",
    "\n",
    "\n",
    "stringBuilderC = \"\"\n",
    "\n",
    "for i in range(2, 25):\n",
    "    training_data, training_targets, test_data, test_targets = split_dataset(data, target, i)\n",
    "    lambdaC = 10**-6#find_best_lambda_C(data, target, 1, 5)\n",
    "    operation, combiObject = train_regression(training_data, training_targets, lambdaC, 0, 1, 5)\n",
    "    stringBuilderC += \"\" + str(i) + \" & \"+ str(test_regression(test_data, test_targets, combiObject)) + \"\\\\\\\\\\n\"\n",
    "    \n",
    "stringBuilderI = \"\"\n",
    "for i in range(2, 25):\n",
    "    training_data, training_targets, test_data, test_targets = split_dataset(data, target, i)\n",
    "    lambdaI = 10**-6#find_best_lambda_I(data, target, 1, 5)\n",
    "    operation, combiObject = train_regression(training_data, training_targets, lambdaI, 1, 1, 5)\n",
    "    stringBuilderI += \"\" + str(i) + \" & \"+ str(test_regression(test_data, test_targets, combiObject)) + \"\\\\\\\\\\n\"\n",
    "\n",
    "print(\"Testfehler:\")\n",
    "print(stringBuilderC)\n",
    "print(stringBuilderI)"
   ]
  },
  {
   "cell_type": "markdown",
   "metadata": {},
   "source": [
    "## Test: Increasing size of data set -> Time\n",
    "\n",
    "Information:\n",
    "\n",
    "- Data set: Gaussian Function\n",
    "- levels: 1,5\n",
    "- training / test ratio: 1/5\n",
    "- lambda: 10^-6\n",
    "- matrix: C and I"
   ]
  },
  {
   "cell_type": "code",
   "execution_count": null,
   "metadata": {
    "scrolled": true
   },
   "outputs": [],
   "source": [
    "%matplotlib inline\n",
    "import numpy as np\n",
    "from sparseSpACE.ErrorCalculator import *\n",
    "from sparseSpACE.GridOperation import *\n",
    "from sparseSpACE.StandardCombi import *\n",
    "from sklearn import datasets\n",
    "\n",
    "func = GenzGaussian((0.5,0.5), (10,10))\n",
    "\n",
    "\n",
    "stringBuilderC = \"\"\n",
    "\n",
    "for i in range(1,11):\n",
    "    data, target = construct_dataset(2, func, (i*10)**2)\n",
    "    operation, combiObject = train_regression(data, target, 10**-6, 0, 1, 5)\n",
    "    stringBuilderC += \"\" + str((i*10)**2) + \" & \\\\\\\\\\n\"\n",
    "\n",
    "stringBuilderI = \"\"\n",
    "\n",
    "for i in range(1,11):\n",
    "    data, target = construct_dataset(2, func, (i*10)**2)\n",
    "    operation, combiObject = train_regression(data, target, 10**-6, 1, 1, 5)\n",
    "    stringBuilderI += \"\" + str((i*10)**2) + \" & \\\\\\\\\\n\"  \n",
    "    \n",
    "for i in range(1,11):\n",
    "    data, target = construct_dataset(2, func, (i*10)**2)\n",
    "    operation, combiObject = train_regression(data, target, 0, 1, 1, 5)\n",
    "    stringBuilderI += \"\" + str((i*10)**2) + \" & \\\\\\\\\\n\" \n",
    "    \n",
    "print(\"Testfehler:\")\n",
    "print(stringBuilderC)\n",
    "print(stringBuilderI)"
   ]
  },
  {
   "cell_type": "markdown",
   "metadata": {},
   "source": [
    "## Test: Increasing number of grid points -> Time\n",
    "Information: \n",
    "- Data set: Gaussian function (400 points)\n",
    "- levels: 1,x with x in [2,8]\n",
    "- training / test ratio: 1/5\n",
    "- lambda: 10^-6\n",
    "- matrix: C and I"
   ]
  },
  {
   "cell_type": "code",
   "execution_count": null,
   "metadata": {},
   "outputs": [],
   "source": [
    "%matplotlib inline\n",
    "import numpy as np\n",
    "from sparseSpACE.ErrorCalculator import *\n",
    "from sparseSpACE.GridOperation import *\n",
    "from sparseSpACE.StandardCombi import *\n",
    "from sklearn import datasets\n",
    "\n",
    "func = GenzGaussian((0.5,0.5), (10,10))\n",
    "data, target = construct_dataset(2, func, 400)\n",
    "\n",
    "stringBuilderC = \"\"\n",
    "\n",
    "for i in range(2, 9):\n",
    "    operation, combiObject = train_regression(data, target, 10**-6, 0, 1, i)\n",
    "    stringBuilderC += \"\" + str(operation.get_grid().get_num_points()) + \" & \" + str(combiObject.get_time_used()) + \"\\\\\\\\\\n\"\n",
    "    \n",
    "stringBuilderI = \"\"\n",
    "for i in range(2, 9):\n",
    "    operation, combiObject = train_regression(data, target, 10**-6, 1, 1, i)\n",
    "    stringBuilderI += \"\" + str(operation.get_grid().get_num_points()) + \" & \" + str(combiObject.get_time_used()) + \"\\\\\\\\\\n\"\n",
    "    \n",
    "sstringBuilderI += \"\\n\"\n",
    "for i in range(2, 9):\n",
    "    operation, combiObject = train_regression(data, target, 0, 0, 1, i)\n",
    "    stringBuilderI += \"\" + str(operation.get_grid().get_num_points()) + \" & \" + str(combiObject.get_time_used()) + \"\\\\\\\\\\n\"\n",
    "\n",
    "print(\"Testfehler:\")\n",
    "print(stringBuilderC)\n",
    "print(stringBuilderI)"
   ]
  },
  {
   "cell_type": "markdown",
   "metadata": {},
   "source": [
    "# Spatially adaptive"
   ]
  },
  {
   "cell_type": "markdown",
   "metadata": {},
   "source": [
    "## Test: Increasing lambda -> Fault\n",
    "\n",
    "\n",
    "############################################################################################################################################\n",
    "Information:\n",
    "\n",
    "- Data set: Gaussian function (500 points)\n",
    "- training / test ratio: 1/5\n",
    "- lambda: 10^-6\n",
    "- margin = 0.5\n",
    "- max_evaluations = 500"
   ]
  },
  {
   "cell_type": "code",
   "execution_count": null,
   "metadata": {
    "scrolled": true
   },
   "outputs": [],
   "source": [
    "%matplotlib inline\n",
    "import sparseSpACE\n",
    "import numpy as np\n",
    "from sparseSpACE.spatiallyAdaptiveSingleDimension2 import *\n",
    "from sparseSpACE.Function import *\n",
    "from sparseSpACE.ErrorCalculator import *\n",
    "from sparseSpACE.GridOperation import *\n",
    "\n",
    "# dimension of the problem\n",
    "dim = 2\n",
    "\n",
    "margin = 0.3\n",
    "max_evaluations_var = 200\n",
    "stop_error = 10**-5\n",
    "\n",
    "# define integration domain boundaries\n",
    "a = np.zeros(dim)\n",
    "b = np.ones(dim)\n",
    "\n",
    "func = GenzGaussian((0.5,0.5), (10,10))\n",
    "data, target = construct_dataset(dim, func, 400)\n",
    "\n",
    "data, target = scale_data(data, target)\n",
    "\n",
    "\n",
    "#split the dataset into training and test data\n",
    "training_data, training_targets, test_data, test_targets = split_dataset(data, target, 5)\n",
    "\n",
    "# define error estimator for refinement\n",
    "errorOperator = ErrorCalculatorSingleDimVolumeGuided()\n",
    "\n",
    "# define equidistant grid\n",
    "grid=GlobalTrapezoidalGrid(a=a, b=b, modified_basis=False, boundary=False)\n",
    "\n",
    "operation = Regression(training_data, training_targets, 0, dim, regularization_matrix=1, grid=grid)\n",
    "adaptiveCombiInstanceSingleDim = SpatiallyAdaptiveSingleDimensions2(np.ones(dim) * a, np.ones(dim) * b, margin, operation=operation, rebalancing=False)\n",
    "adaptiveCombiInstanceSingleDim.performSpatiallyAdaptiv(1, 2, errorOperator, stop_error, do_plot=False, max_evaluations=max_evaluations_var)\n",
    "differenceOhne = test_regression_spatially_adaptive(test_data, test_targets, adaptiveCombiInstanceSingleDim, operation.grid)\n",
    "\n",
    "\n",
    "stringBuilderC = \"\"\n",
    "for i in range(10):\n",
    "    operation = Regression(training_data, training_targets, 10**-i, dim, regularization_matrix=0, grid=grid)\n",
    "    adaptiveCombiInstanceSingleDim = SpatiallyAdaptiveSingleDimensions2(np.ones(dim) * a, np.ones(dim) * b, margin, operation=operation, rebalancing=False)\n",
    "    adaptiveCombiInstanceSingleDim.performSpatiallyAdaptiv(1, 2, errorOperator, stop_error, do_plot=False, max_evaluations=max_evaluations_var)\n",
    "    difference = test_regression_spatially_adaptive(test_data, test_targets, adaptiveCombiInstanceSingleDim, operation.grid)\n",
    "    stringBuilderC += str(10**-i) + \" & \" + str(difference) + \"\\\\\\\\\\n\"\n",
    "    \n",
    "stringBuilderI = \"\"\n",
    "for i in range(10):\n",
    "    operation = Regression(training_data, training_targets, 10**-i, dim, regularization_matrix=1, grid=grid)\n",
    "    adaptiveCombiInstanceSingleDim = SpatiallyAdaptiveSingleDimensions2(np.ones(dim) * a, np.ones(dim) * b, margin, operation=operation, rebalancing=False)\n",
    "    adaptiveCombiInstanceSingleDim.performSpatiallyAdaptiv(1, 2, errorOperator, stop_error, do_plot=False, max_evaluations=max_evaluations_var)\n",
    "    difference = test_regression_spatially_adaptive(test_data, test_targets, adaptiveCombiInstanceSingleDim, operation.grid)\n",
    "    stringBuilderI += str(10**-i) + \" & \" + str(difference) + \"\\\\\\\\\\n\"\n",
    "    \n",
    "print(stringBuilderC)\n",
    "print(stringBuilderI)\n",
    "print(\"Ohne: \" + str(differenceOhne))"
   ]
  },
  {
   "cell_type": "markdown",
   "metadata": {},
   "source": [
    "## Test: Increasing max evaluations -> Fault\n",
    "###########################################\n",
    "\n",
    "Information:\n",
    "\n",
    "- Data set: Gaussian function\n",
    "- training / test ratio: 1/5\n",
    "- lambda: 0\n",
    "- margin = 0.5\n",
    "- max_evaluations = 500"
   ]
  },
  {
   "cell_type": "code",
   "execution_count": null,
   "metadata": {},
   "outputs": [],
   "source": [
    "%matplotlib inline\n",
    "import sparseSpACE\n",
    "import numpy as np\n",
    "from sparseSpACE.spatiallyAdaptiveSingleDimension2 import *\n",
    "from sparseSpACE.Function import *\n",
    "from sparseSpACE.ErrorCalculator import *\n",
    "from sparseSpACE.GridOperation import *\n",
    "\n",
    "# dimension of the problem\n",
    "dim = 2\n",
    "\n",
    "margin = 0.3\n",
    "max_evaluations_var = 200\n",
    "stop_error = 10**-5\n",
    "\n",
    "# define integration domain boundaries\n",
    "a = np.zeros(dim)\n",
    "b = np.ones(dim)\n",
    "\n",
    "func = GenzGaussian((0.5,0.5), (10,10))\n",
    "data, target = construct_dataset(dim, func, 400)\n",
    "\n",
    "data, target = scale_data(data, target)\n",
    "\n",
    "\n",
    "#split the dataset into training and test data\n",
    "training_data, training_targets, test_data, test_targets = split_dataset(data, target, 5)\n",
    "\n",
    "# define error estimator for refinement\n",
    "errorOperator = ErrorCalculatorSingleDimVolumeGuided()\n",
    "\n",
    "# define equidistant grid\n",
    "grid=GlobalTrapezoidalGrid(a=a, b=b, modified_basis=False, boundary=False)\n",
    "\n",
    "stringBuilderOhne = \"\"\n",
    "for i in range(4):\n",
    "    operation = Regression(training_data, training_targets, 0, dim, regularization_matrix=0, grid=grid)\n",
    "    adaptiveCombiInstanceSingleDim = SpatiallyAdaptiveSingleDimensions2(np.ones(dim) * a, np.ones(dim) * b, margin, operation=operation, rebalancing=False)\n",
    "    adaptiveCombiInstanceSingleDim.performSpatiallyAdaptiv(1, 2, errorOperator, stop_error, do_plot=False, max_evaluations=10**i)\n",
    "    difference = test_regression_spatially_adaptive(test_data, test_targets, adaptiveCombiInstanceSingleDim, operation.grid)\n",
    "    stringBuilderOhne += str(10**i) + \" & \" + str(difference) + \"\\\\\\\\\\n\"\n",
    "\n",
    "print(stringBuilderOhne)"
   ]
  },
  {
   "cell_type": "code",
   "execution_count": null,
   "metadata": {},
   "outputs": [],
   "source": []
  }
 ],
 "metadata": {
  "kernelspec": {
   "display_name": "Python 3",
   "language": "python",
   "name": "python3"
  },
  "language_info": {
   "codemirror_mode": {
    "name": "ipython",
    "version": 3
   },
   "file_extension": ".py",
   "mimetype": "text/x-python",
   "name": "python",
   "nbconvert_exporter": "python",
   "pygments_lexer": "ipython3",
   "version": "3.8.5"
  },
  "pycharm": {
   "stem_cell": {
    "cell_type": "raw",
    "metadata": {
     "collapsed": false
    },
    "source": []
   }
  }
 },
 "nbformat": 4,
 "nbformat_minor": 1
}
