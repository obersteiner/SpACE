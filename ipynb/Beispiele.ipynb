{
 "cells": [
  {
   "cell_type": "markdown",
   "metadata": {
    "pycharm": {
     "name": "#%% md\n"
    }
   },
   "source": [
    "# Sparse Grid Regression with the Combination Technique: \n"
   ]
  },
  {
   "cell_type": "markdown",
   "metadata": {
    "pycharm": {
     "name": "#%% md\n"
    }
   },
   "source": [
    "### Utility functions :"
   ]
  },
  {
   "cell_type": "code",
   "execution_count": null,
   "metadata": {
    "scrolled": false
   },
   "outputs": [],
   "source": [
    "from sparseSpACE.Function import *\n",
    "from sparseSpACE.Utils import *\n",
    "from sparseSpACE.DEMachineLearning import *\n",
    "import numpy as np\n",
    "import math\n",
    "\n",
    "def construct_dataset(dim, function, num_points):\n",
    "    grid_points = np.random.rand(num_points, dim)\n",
    "    y_vals = np.array([function(x) for x in grid_points])\n",
    "    return grid_points, y_vals.flatten()\n",
    "\n",
    "    \n",
    "#def split_dataset(data, targets, parts):\n",
    "#    training_size = 0\n",
    "#    test_size = 0\n",
    "#    for i in range(len(data)):\n",
    "#        if i%parts != 0:\n",
    "#            training_size += 1\n",
    "#        else:\n",
    "#            test_size += 1\n",
    "#            \n",
    "#    training_data = np.zeros((training_size, len(data[0]))) \n",
    "#    training_targets = np.zeros(training_size) \n",
    "#    \n",
    "#    test_data = np.zeros((test_size, len(data[0]))) \n",
    "#    test_targets = np.zeros(test_size) \n",
    "#    \n",
    "#    training_index = 0\n",
    "#    test_index = 0\n",
    "#    \n",
    "#    for i in range(len(data)):\n",
    "#        if i%parts != 0:\n",
    "#            training_data[training_index] = data[i]\n",
    "#            training_targets[training_index] = targets[i]\n",
    "#            training_index += 1\n",
    "#       else:\n",
    "#            test_data[test_index] = data[i]\n",
    "#            test_targets[test_index] = targets[i]\n",
    "#            test_index += 1\n",
    "#    \n",
    "#    return training_data, training_targets, test_data, test_targets\n",
    "\n",
    "\n",
    "#def train_regression(training_data, training_targets, regularization, matrix, minimum_level, maximum_level):\n",
    "#    dim = len(training_data[0])\n",
    "#    \n",
    "#    a = np.zeros(dim)\n",
    "#    b = np.ones(dim)\n",
    "#    \n",
    "#    operation = Regression(training_data, training_targets, regularization, regularization_matrix=matrix)\n",
    "#    \n",
    "#    combiObject = StandardCombi(a, b, operation=operation)\n",
    "#    \n",
    "#    combiObject.perform_operation(minimum_level, maximum_level)\n",
    "#    \n",
    "#    return operation, combiObject\n",
    "\n",
    "\n",
    "#def test_regression(test_data, test_targets, combiObject):\n",
    "#    learned_targets = combiObject(test_data)\n",
    "#    \n",
    "#    difference = 0\n",
    "#    for i in range(len(learned_targets)):\n",
    "#        difference += (test_targets[i] - learned_targets[i]) ** 2\n",
    "#        \n",
    "#    return math.sqrt(difference/len(test_targets))\n",
    "\n",
    "#def scale_data(data, target, rangee=[0.05,0.95]):\n",
    "#    dataSet = DataSetRegression((data, target))\n",
    "#    dataSet.scale_range(rangee)\n",
    "#    data, target = dataSet.get_data()[0], dataSet.get_data()[1]\n",
    "#    return data, target\n",
    "\n",
    "\n",
    "def test_regression_spatially_adaptive(test_data, test_targets, adaptiveCombiInstanceSingleDim, grid):\n",
    "    learned_targets = adaptiveCombiInstanceSingleDim(test_data)\n",
    "    \n",
    "    difference = 0\n",
    "    for i in range(len(learned_targets)):\n",
    "        difference += (test_targets[i] - learned_targets[i]) ** 2\n",
    "        \n",
    "    return math.sqrt(difference/len(test_targets))\n",
    "\n",
    "def find_best_lambda(data, targets, matrix, level_min=1, level_max=5):\n",
    "    lambdas = np.zeros(7)\n",
    "    \n",
    "    for i in range(3,10):\n",
    "        operation = Regression(data, target, 10**-i, matrix)\n",
    "        combiObject = operation.train(0.4, 1, 5)\n",
    "        lambdas[i-3] = operation.test(combiObject)\n",
    "        \n",
    "    exp = np.where(lambdas == np.amin(lambdas))\n",
    "    return 10.**-(exp[0][0])"
   ]
  },
  {
   "cell_type": "markdown",
   "metadata": {},
   "source": [
    "## Test: Increasing size of dataset -> Error\n"
   ]
  },
  {
   "cell_type": "code",
   "execution_count": null,
   "metadata": {
    "scrolled": true
   },
   "outputs": [],
   "source": [
    "%matplotlib inline\n",
    "import numpy as np\n",
    "from sparseSpACE.ErrorCalculator import *\n",
    "from sparseSpACE.GridOperation import *\n",
    "from sparseSpACE.StandardCombi import *\n",
    "from sklearn import datasets\n",
    "\n",
    "func = GenzGaussian((0.5,0.5), (10,10))\n",
    "\n",
    "stringBuilderC = \"\"\n",
    "for i in range(1,11):\n",
    "    data, target = construct_dataset(2, func, (i*10)**2)\n",
    "    lambdaC = find_best_lambda(data, target, 'C', 1, 5)\n",
    "    operation = Regression(data, target, lambdaC, 'C')\n",
    "    combiObject = operation.train(0.2, 1, 5)\n",
    "    stringBuilderC += \"\" + str((i*10)**2) + \" & \"+ str(operation.test(combiObject)) + \"\\\\\\\\\\n\"\n",
    "\n",
    "stringBuilderI = \"\"\n",
    "for i in range(1,11):\n",
    "    data, target = construct_dataset(2, func, (i*10)**2)\n",
    "    lambdaI = find_best_lambda(data, target, 'I', 1, 5)\n",
    "    operation = Regression(data, target, lambdaI, 'I')\n",
    "    combiObject = operation.train(0.2, 1, 5)\n",
    "    stringBuilderI += \"\" + str((i*10)**2) + \" & \"+ str(operation.test(combiObject)) + \"\\\\\\\\\\n\"\n",
    "    \n",
    "print(\"Testfehler:\")\n",
    "print(stringBuilderC)\n",
    "print(stringBuilderI)"
   ]
  },
  {
   "cell_type": "markdown",
   "metadata": {},
   "source": [
    "## Test: Increasing number of grid points -> Error\n"
   ]
  },
  {
   "cell_type": "code",
   "execution_count": null,
   "metadata": {
    "pycharm": {
     "is_executing": false,
     "name": "#%%\n"
    },
    "scrolled": true
   },
   "outputs": [],
   "source": [
    "# import sparseSpACE\n",
    "%matplotlib inline\n",
    "import numpy as np\n",
    "from sparseSpACE.ErrorCalculator import *\n",
    "from sparseSpACE.GridOperation import *\n",
    "from sparseSpACE.StandardCombi import *\n",
    "from sklearn import datasets\n",
    "\n",
    "func = GenzGaussian((0.5,0.5), (10,10))\n",
    "data, target = construct_dataset(2, func, 400)\n",
    "\n",
    "\n",
    "stringBuilderC = \"\"\n",
    "for i in range(2, 9):\n",
    "    lambdaC = find_best_lambda(data, target, 'C', 1, i)\n",
    "    operation = Regression(data, target, lambdaC, 'C')\n",
    "    combiObject = operation.train(0.2, 1, i)\n",
    "    stringBuilderC += \"\"+str(operation.get_grid().get_num_points())+\" & \"+str(operation.test(combiObject))+\"\\\\\\\\\\n\"\n",
    "\n",
    "    \n",
    "stringBuilderI = \"\"\n",
    "for i in range(2, 9):\n",
    "    lambdaI = find_best_lambda(data, target, 'I', 1, i)\n",
    "    operation = Regression(data, target, lambdaI, 'I')\n",
    "    combiObject = operation.train(0.2, 1, i)\n",
    "    stringBuilderI += \"\"+str(operation.get_grid().get_num_points())+\" & \"+str(operation.test(combiObject))+\"\\\\\\\\\\n\"\n",
    "  \n",
    "    \n",
    "print(\"Testfehler:\")\n",
    "print(stringBuilderC)\n",
    "print(stringBuilderI)"
   ]
  },
  {
   "cell_type": "markdown",
   "metadata": {
    "pycharm": {
     "is_executing": false,
     "name": "#%% md\n"
    }
   },
   "source": [
    "\n"
   ]
  },
  {
   "cell_type": "markdown",
   "metadata": {},
   "source": [
    "## Test: Increasing regularization parameter lambda -> Error\n"
   ]
  },
  {
   "cell_type": "code",
   "execution_count": null,
   "metadata": {
    "pycharm": {
     "is_executing": false,
     "name": "#%%\n"
    },
    "scrolled": true
   },
   "outputs": [],
   "source": [
    "%matplotlib inline\n",
    "import numpy as np\n",
    "from sparseSpACE.ErrorCalculator import *\n",
    "from sparseSpACE.GridOperation import *\n",
    "from sparseSpACE.StandardCombi import *\n",
    "from sparseSpACE.DEMachineLearning import *\n",
    "from sklearn import datasets\n",
    "\n",
    "data, target = datasets.load_diabetes(return_X_y=True)\n",
    "\n",
    "stringBuilderC = \"\"\n",
    "for i in range(10):\n",
    "    operation = Regression(data, target, 10**-i, 'C')\n",
    "    combiObject = operation.train(0.2, 1, 5)\n",
    "    stringBuilderC += \"\"+str(10**-i)+\" & \" + str(operation.test(combiObject))+\"\\\\\\\\\\n\"\n",
    "\n",
    "stringBuilderI = \"\"\n",
    "for i in range(10):\n",
    "    operation = Regression(data, target, 10**-i, 'I')\n",
    "    combiObject = operation.train(0.2, 1, 5)\n",
    "    stringBuilderI += \"\"+str(10**-i)+\" & \" + str(operation.test(combiObject))+\"\\\\\\\\\\n\"\n",
    "    \n",
    "print(\"Tabelle:\")\n",
    "print(stringBuilderC)\n",
    "print(stringBuilderI)\n"
   ]
  },
  {
   "cell_type": "markdown",
   "metadata": {
    "pycharm": {
     "is_executing": false,
     "name": "#%% md\n"
    }
   },
   "source": [
    "## Test: Increasing regularization parameter lambda -> Error\n"
   ]
  },
  {
   "cell_type": "code",
   "execution_count": null,
   "metadata": {
    "pycharm": {
     "is_executing": false,
     "name": "#%%\n"
    },
    "scrolled": true
   },
   "outputs": [],
   "source": [
    "%matplotlib inline\n",
    "import numpy as np\n",
    "from sparseSpACE.ErrorCalculator import *\n",
    "from sparseSpACE.GridOperation import *\n",
    "from sparseSpACE.StandardCombi import *\n",
    "from sparseSpACE.DEMachineLearning import *\n",
    "from sklearn import datasets\n",
    "\n",
    "data, target = datasets.load_boston(return_X_y=True)\n",
    "\n",
    "stringBuilderC = \"\"\n",
    "for i in range(10):\n",
    "    operation = Regression(data, target, 10**-i, 'C')\n",
    "    combiObject = operation.train(0.2, 1, 5)\n",
    "    stringBuilderC += \"\"+str(10**-i)+\" & \" + str(operation.test(combiObject))+\"\\\\\\\\\\n\"\n",
    "\n",
    "stringBuilderI = \"\"\n",
    "for i in range(10):\n",
    "    operation = Regression(data, target, 10**-i, 'I')\n",
    "    combiObject = operation.train(0.2, 1, 5)\n",
    "    stringBuilderI += \"\"+str(10**-i)+\" & \" + str(operation.test(combiObject))+\"\\\\\\\\\\n\"\n",
    "    \n",
    "print(\"Tabelle:\")\n",
    "print(stringBuilderC)\n",
    "print(stringBuilderI)\n"
   ]
  },
  {
   "cell_type": "markdown",
   "metadata": {},
   "source": [
    "## Test: Increase test percentage -> Error\n"
   ]
  },
  {
   "cell_type": "code",
   "execution_count": null,
   "metadata": {
    "scrolled": true
   },
   "outputs": [],
   "source": [
    "# import sparseSpACE\n",
    "%matplotlib inline\n",
    "import numpy as np\n",
    "from sparseSpACE.ErrorCalculator import *\n",
    "from sparseSpACE.GridOperation import *\n",
    "from sparseSpACE.StandardCombi import *\n",
    "from sklearn import datasets\n",
    "\n",
    "func = GenzGaussian((0.5,0.5), (10,10))\n",
    "data, target = construct_dataset(2, func, 400)\n",
    "\n",
    "lambdaC = find_best_lambda(data, target, 'C', 1, 5)\n",
    "lambdaI = find_best_lambda(data, target, 'I', 1, 5)\n",
    "\n",
    "stringBuilderC = \"\"\n",
    "for i in range(1, 10):\n",
    "    operation = Regression(data, target, lambdaC, 'C')\n",
    "    combiObject = operation.train(i/10, 1, 5)\n",
    "    stringBuilderC += \"\"+str(i/10)+\" & \" + str(operation.test(combiObject))+\"\\\\\\\\\\n\"\n",
    "    \n",
    "stringBuilderI = \"\"\n",
    "for i in range(1, 10):\n",
    "    operation = Regression(data, target, lambdaI, 'I')\n",
    "    combiObject = operation.train(i/10, 1, 5)\n",
    "    stringBuilderI += \"\"+str(i/10)+\" & \" + str(operation.test(combiObject))+\"\\\\\\\\\\n\"\n",
    "\n",
    "print(\"Matrix C:\")\n",
    "print(stringBuilderC)\n",
    "print(\"Matrix I:\")\n",
    "print(stringBuilderI)"
   ]
  },
  {
   "cell_type": "markdown",
   "metadata": {},
   "source": [
    "## Test: Increasing size of data set -> Time\n"
   ]
  },
  {
   "cell_type": "code",
   "execution_count": null,
   "metadata": {
    "scrolled": true
   },
   "outputs": [],
   "source": [
    "%matplotlib inline\n",
    "import numpy as np\n",
    "from sparseSpACE.ErrorCalculator import *\n",
    "from sparseSpACE.GridOperation import *\n",
    "from sparseSpACE.StandardCombi import *\n",
    "from sklearn import datasets\n",
    "\n",
    "func = GenzGaussian((0.5,0.5), (10,10))\n",
    "\n",
    "stringBuilderC = \"\"\n",
    "for i in range(1,11):\n",
    "    data, target = construct_dataset(2, func, (i*10)**2)\n",
    "    lambdaC = find_best_lambda(data, target, 'C', 1, 5)\n",
    "    operation = Regression(data, target, lambdaC, 'C')\n",
    "    combiObject = operation.train(0.1, 1, 5)\n",
    "    stringBuilderC += \"\" + str((i*10)**2) + \" & \"+ str(combiObject.get_time_used()) + \"\\\\\\\\\\n\"\n",
    "\n",
    "stringBuilderI = \"\"\n",
    "for i in range(1,11):\n",
    "    data, target = construct_dataset(2, func, (i*10)**2)\n",
    "    lambdaI = find_best_lambda(data, target, 'I', 1, 5)\n",
    "    operation = Regression(data, target, lambdaI, 'I')\n",
    "    combiObject = operation.train(0.1, 1, 5)\n",
    "    stringBuilderI += \"\" + str((i*10)**2) + \" & \"+ str(combiObject.get_time_used()) + \"\\\\\\\\\\n\"\n",
    "    \n",
    "print(\"Testfehler:\")\n",
    "print(stringBuilderC)\n",
    "print(stringBuilderI)"
   ]
  },
  {
   "cell_type": "markdown",
   "metadata": {},
   "source": [
    "## Test: Increasing number of grid points -> Time\n"
   ]
  },
  {
   "cell_type": "code",
   "execution_count": null,
   "metadata": {},
   "outputs": [],
   "source": [
    "# import sparseSpACE\n",
    "%matplotlib inline\n",
    "import numpy as np\n",
    "from sparseSpACE.ErrorCalculator import *\n",
    "from sparseSpACE.GridOperation import *\n",
    "from sparseSpACE.StandardCombi import *\n",
    "from sklearn import datasets\n",
    "\n",
    "func = GenzGaussian((0.5,0.5), (10,10))\n",
    "data, target = construct_dataset(2, func, 400)\n",
    "\n",
    "\n",
    "stringBuilderC = \"\"\n",
    "for i in range(2, 9):\n",
    "    lambdaC = find_best_lambda(data, target, 'C', 1, i)\n",
    "    operation = Regression(data, target, lambdaC, 'C')\n",
    "    combiObject = operation.train(0.1, 1, i)\n",
    "    stringBuilderC += \"\"+str(operation.get_grid().get_num_points())+\" & \"+str(combiObject.get_time_used())+\"\\\\\\\\\\n\"\n",
    "\n",
    "    \n",
    "stringBuilderI = \"\"\n",
    "for i in range(2, 9):\n",
    "    lambdaI = find_best_lambda(data, target, 'I', 1, i)\n",
    "    operation = Regression(data, target, lambdaI, 'I')\n",
    "    combiObject = operation.train(0.1, 1, i)\n",
    "    stringBuilderI += \"\"+str(operation.get_grid().get_num_points())+\" & \"+str(combiObject.get_time_used())+\"\\\\\\\\\\n\"\n",
    "  \n",
    "    \n",
    "print(\"Matrix C:\")\n",
    "print(stringBuilderC)\n",
    "print(\"Matrix I:\")\n",
    "print(stringBuilderI)"
   ]
  },
  {
   "cell_type": "markdown",
   "metadata": {},
   "source": [
    "## Test: Increase dimension -> Error"
   ]
  },
  {
   "cell_type": "code",
   "execution_count": null,
   "metadata": {
    "scrolled": true
   },
   "outputs": [],
   "source": [
    "# import sparseSpACE\n",
    "%matplotlib inline\n",
    "import numpy as np\n",
    "from sparseSpACE.ErrorCalculator import *\n",
    "from sparseSpACE.GridOperation import *\n",
    "from sparseSpACE.StandardCombi import *\n",
    "from sklearn import datasets\n",
    "\n",
    "func = GenzGaussian((0.5,0.5), (5,5))\n",
    "func.plot((0,0),(1,1))\n",
    "\n",
    "\n",
    "stringBuilderC = \"\"\n",
    "for i in range(2, 5):\n",
    "    liste = [0.5 for _ in range(i)]\n",
    "    liste2 = [5 for _ in range(i)]\n",
    "    func = GenzGaussian(tuple(liste), tuple(liste2))\n",
    "    data, target = construct_dataset(i, func, 400)\n",
    "    lambdaC = find_best_lambda(data, target, 'C', 1, 5)\n",
    "    operation = Regression(data, target, lambdaC, 'C')\n",
    "    combiObject = operation.train(0.2, 1, 5)\n",
    "    stringBuilderC += \"\"+str(i)+\" & \"+str(operation.test(combiObject))+\"\\\\\\\\\\n\"\n",
    "\n",
    "    \n",
    "stringBuilderI = \"\"\n",
    "for i in range(2, 5):\n",
    "    liste = [0.5 for _ in range(i)]\n",
    "    liste2 = [5 for _ in range(i)]\n",
    "    func = GenzGaussian(tuple(liste), tuple(liste2))\n",
    "    data, target = construct_dataset(i, func, 400)\n",
    "    lambdaI = find_best_lambda(data, target, 'I', 1, 5)\n",
    "    operation = Regression(data, target, lambdaI, 'I')\n",
    "    combiObject = operation.train(0.2, 1, 5)\n",
    "    stringBuilderI += \"\"+str(i)+\" & \"+str(operation.test(combiObject))+\"\\\\\\\\\\n\"\n",
    "  \n",
    "    \n",
    "print(\"Matrix C:\")\n",
    "print(stringBuilderC)\n",
    "print(\"Matrix I:\")\n",
    "print(stringBuilderI)"
   ]
  },
  {
   "cell_type": "markdown",
   "metadata": {},
   "source": [
    "## Test: Increase dimension -> Time"
   ]
  },
  {
   "cell_type": "code",
   "execution_count": null,
   "metadata": {},
   "outputs": [],
   "source": [
    "# import sparseSpACE\n",
    "%matplotlib inline\n",
    "import numpy as np\n",
    "from sparseSpACE.ErrorCalculator import *\n",
    "from sparseSpACE.GridOperation import *\n",
    "from sparseSpACE.StandardCombi import *\n",
    "from sklearn import datasets\n",
    "\n",
    "func = GenzGaussian((0.5,0.5), (5,5))\n",
    "func.plot((0,0),(1,1))\n",
    "\n",
    "\n",
    "stringBuilderC = \"\"\n",
    "for i in range(2, 10):\n",
    "    liste = [0.5 for _ in range(i)]\n",
    "    liste2 = [5 for _ in range(i)]\n",
    "    func = GenzGaussian(tuple(liste), tuple(liste2))\n",
    "    data, target = construct_dataset(i, func, 400)\n",
    "    lambdaC = find_best_lambda(data, target, 'C', 1, 5)\n",
    "    operation = Regression(data, target, lambdaC, 'C')\n",
    "    combiObject = operation.train(0.2, 1, 5)\n",
    "    stringBuilderC += \"\"+str(i)+\" & \"+str(combiObject.get_time_used())+\"\\\\\\\\\\n\"\n",
    "\n",
    "    \n",
    "stringBuilderI = \"\"\n",
    "for i in range(2, 10):\n",
    "    liste = [0.5 for _ in range(i)]\n",
    "    liste2 = [5 for _ in range(i)]\n",
    "    func = GenzGaussian(tuple(liste), tuple(liste2))\n",
    "    data, target = construct_dataset(i, func, 400)\n",
    "    lambdaI = find_best_lambda(data, target, 'I', 1, 5)\n",
    "    operation = Regression(data, target, lambdaI, 'I')\n",
    "    combiObject = operation.train(0.2, 1, 5)\n",
    "    stringBuilderI += \"\"+str(i)+\" & \"+str(combiObject.get_time_used())+\"\\\\\\\\\\n\"\n",
    "  \n",
    "    \n",
    "print(\"Matrix C:\")\n",
    "print(stringBuilderC)\n",
    "print(\"Matrix I:\")\n",
    "print(stringBuilderI)"
   ]
  },
  {
   "cell_type": "markdown",
   "metadata": {},
   "source": [
    "# Spatially adaptive"
   ]
  },
  {
   "cell_type": "markdown",
   "metadata": {},
   "source": [
    "## Test: Increase margin"
   ]
  },
  {
   "cell_type": "code",
   "execution_count": null,
   "metadata": {},
   "outputs": [],
   "source": [
    "# import sparseSpACE\n",
    "%matplotlib inline\n",
    "import numpy as np\n",
    "from sparseSpACE.ErrorCalculator import *\n",
    "from sparseSpACE.GridOperation import *\n",
    "from sparseSpACE.StandardCombi import *\n",
    "from sklearn import datasets\n",
    "\n",
    "func = GenzGaussian((0.5,0.5), (10,10))\n",
    "data, target = construct_dataset(2, func, 400)\n",
    "\n",
    "\n",
    "stringBuilderC = \"\"\n",
    "for i in range(0, 11):\n",
    "    operation = Regression(data, target, 10**-6, 'C')\n",
    "    adaptiveCombiInstanceSingleDim = operation.train_spatially_adaptive(percentage_of_testdata=0.2, margin=i/10, tolerance=10**-3, max_evaluations=500)\n",
    "    error = operation.test_spatially_adaptive(adaptiveCombiInstanceSingleDim)\n",
    "    stringBuilderC += \"\"+str(i/10)+\" & \"+str(error)+\"\\\\\\\\\\n\"\n",
    "\n",
    "stringBuilderI = \"\"\n",
    "for i in range(0, 11):\n",
    "    operation = Regression(data, target, 10**-6, 'I')\n",
    "    adaptiveCombiInstanceSingleDim = operation.train_spatially_adaptive(percentage_of_testdata=0.2, margin=i/10, tolerance=10**-3, max_evaluations=500)\n",
    "    error = operation.test_spatially_adaptive(adaptiveCombiInstanceSingleDim)\n",
    "    stringBuilderI += \"\"+str(i/10)+\" & \"+str(error)+\"\\\\\\\\\\n\"\n",
    "\n",
    "    \n",
    "print(\"Matrix C:\")\n",
    "print(stringBuilderC)\n",
    "print(\"Matrix I:\")\n",
    "print(stringBuilderI)"
   ]
  },
  {
   "cell_type": "markdown",
   "metadata": {},
   "source": [
    "## Test: Increasing lambda -> Fault\n"
   ]
  },
  {
   "cell_type": "code",
   "execution_count": null,
   "metadata": {
    "scrolled": true
   },
   "outputs": [],
   "source": [
    "# import sparseSpACE\n",
    "%matplotlib inline\n",
    "import numpy as np\n",
    "from sparseSpACE.ErrorCalculator import *\n",
    "from sparseSpACE.GridOperation import *\n",
    "from sparseSpACE.StandardCombi import *\n",
    "from sklearn import datasets\n",
    "\n",
    "func = GenzGaussian((0.5,0.5), (10,10))\n",
    "data, target = construct_dataset(2, func, 400)\n",
    "\n",
    "\n",
    "stringBuilderC = \"\"\n",
    "for i in range(0, 11):\n",
    "    operation = Regression(data, target, 10**-i, 'C')\n",
    "    adaptiveCombiInstanceSingleDim = operation.train_spatially_adaptive(percentage_of_testdata=0.2, margin=0.4, tolerance=10**-3, max_evaluations=500)\n",
    "    error = operation.test_spatially_adaptive(adaptiveCombiInstanceSingleDim)\n",
    "    stringBuilderC += \"\"+str(10**-i)+\" & \"+str(error)+\"\\\\\\\\\\n\"\n",
    "\n",
    "stringBuilderI = \"\"\n",
    "for i in range(0, 11):\n",
    "    operation = Regression(data, target, 10**-i, 'I')\n",
    "    adaptiveCombiInstanceSingleDim = operation.train_spatially_adaptive(percentage_of_testdata=0.2, margin=0.4, tolerance=10**-3, max_evaluations=500)\n",
    "    error = operation.test_spatially_adaptive(adaptiveCombiInstanceSingleDim)\n",
    "    stringBuilderI += \"\"+str(10**-i)+\" & \"+str(error)+\"\\\\\\\\\\n\"\n",
    "\n",
    "    \n",
    "print(\"Matrix C:\")\n",
    "print(stringBuilderC)\n",
    "print(\"Matrix I:\")\n",
    "print(stringBuilderI)"
   ]
  },
  {
   "cell_type": "markdown",
   "metadata": {},
   "source": [
    "## Test: Increasing max evaluations -> Fault\n"
   ]
  },
  {
   "cell_type": "code",
   "execution_count": null,
   "metadata": {
    "scrolled": true
   },
   "outputs": [],
   "source": [
    "# import sparseSpACE\n",
    "%matplotlib inline\n",
    "import numpy as np\n",
    "from sparseSpACE.ErrorCalculator import *\n",
    "from sparseSpACE.GridOperation import *\n",
    "from sparseSpACE.StandardCombi import *\n",
    "from sklearn import datasets\n",
    "\n",
    "func = GenzGaussian((0.5,0.5), (10,10))\n",
    "data, target = construct_dataset(2, func, 400)\n",
    "\n",
    "\n",
    "stringBuilderC = \"\"\n",
    "for i in range(1, 5):\n",
    "    operation = Regression(data, target, 10**-6, 'C')\n",
    "    adaptiveCombiInstanceSingleDim = operation.train_spatially_adaptive(percentage_of_testdata=0.2, margin=0.4, tolerance=10**-3, max_evaluations=(10*i)**2)\n",
    "    error = operation.test_spatially_adaptive(adaptiveCombiInstanceSingleDim)\n",
    "    stringBuilderC += \"\"+str((10*i)**2)+\" & \"+str(error)+\"\\\\\\\\\\n\"\n",
    "\n",
    "stringBuilderI = \"\"\n",
    "for i in range(1, 5):\n",
    "    operation = Regression(data, target, 10**-6, 'I')\n",
    "    adaptiveCombiInstanceSingleDim = operation.train_spatially_adaptive(percentage_of_testdata=0.2, margin=0.4, tolerance=10**-3, max_evaluations=(10*i)**2)\n",
    "    error = operation.test_spatially_adaptive(adaptiveCombiInstanceSingleDim)\n",
    "    stringBuilderI += \"\"+str((10*i)**2)+\" & \"+str(error)+\"\\\\\\\\\\n\"\n",
    "\n",
    "    \n",
    "print(\"Matrix C:\")\n",
    "print(stringBuilderC)\n",
    "print(\"Matrix I:\")\n",
    "print(stringBuilderI)"
   ]
  },
  {
   "cell_type": "code",
   "execution_count": null,
   "metadata": {},
   "outputs": [],
   "source": []
  }
 ],
 "metadata": {
  "kernelspec": {
   "display_name": "Python 3",
   "language": "python",
   "name": "python3"
  },
  "language_info": {
   "codemirror_mode": {
    "name": "ipython",
    "version": 3
   },
   "file_extension": ".py",
   "mimetype": "text/x-python",
   "name": "python",
   "nbconvert_exporter": "python",
   "pygments_lexer": "ipython3",
   "version": "3.8.5"
  },
  "pycharm": {
   "stem_cell": {
    "cell_type": "raw",
    "metadata": {
     "collapsed": false
    },
    "source": []
   }
  }
 },
 "nbformat": 4,
 "nbformat_minor": 1
}
