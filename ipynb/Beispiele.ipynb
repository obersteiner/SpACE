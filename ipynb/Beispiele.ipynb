{
 "cells": [
  {
   "cell_type": "markdown",
   "metadata": {
    "pycharm": {
     "name": "#%% md\n"
    }
   },
   "source": [
    "## Sparse Grid Regression with the Combination Technique: \n"
   ]
  },
  {
   "cell_type": "markdown",
   "metadata": {
    "pycharm": {
     "name": "#%% md\n"
    }
   },
   "source": [
    "### Function to construct a dataset:"
   ]
  },
  {
   "cell_type": "code",
   "execution_count": null,
   "metadata": {},
   "outputs": [],
   "source": [
    "from sparseSpACE.Function import *\n",
    "from sparseSpACE.Utils import *\n",
    "import numpy as np\n",
    "\n",
    "def construct_dataset(dim, function):\n",
    "    one_d_grid = np.linspace(0, 1, 50)\n",
    "    grid_arr = [one_d_grid]*dim\n",
    "    grid_points = get_cross_product_numpy_array(grid_arr)\n",
    "    y_vals = np.array([function(x) for x in grid_points])\n",
    "    return grid_points, y_vals.flatten()\n",
    "\n",
    "    "
   ]
  },
  {
   "cell_type": "markdown",
   "metadata": {},
   "source": [
    "### Function to split the dataset into training and test data"
   ]
  },
  {
   "cell_type": "code",
   "execution_count": null,
   "metadata": {},
   "outputs": [],
   "source": [
    "def split_dataset(data, targets):\n",
    "    training_size = 0\n",
    "    test_size = 0\n",
    "    for i in range(len(data)):\n",
    "        if i%5 != 0:\n",
    "            training_size += 1\n",
    "        else:\n",
    "            test_size += 1\n",
    "            \n",
    "    training_data = np.zeros((training_size, len(data[0]))) \n",
    "    training_targets = np.zeros(training_size) \n",
    "    \n",
    "    test_data = np.zeros((test_size, len(data[0]))) \n",
    "    test_targets = np.zeros(test_size) \n",
    "    \n",
    "    training_index = 0\n",
    "    test_index = 0\n",
    "    \n",
    "    for i in range(len(data)):\n",
    "        if i%5 != 0:\n",
    "            training_data[training_index] = data[i]\n",
    "            training_targets[training_index] = targets[i]\n",
    "            training_index += 1\n",
    "        else:\n",
    "            test_data[test_index] = data[i]\n",
    "            test_targets[test_index] = targets[i]\n",
    "            test_index += 1\n",
    "    \n",
    "    return training_data, training_targets, test_data, test_targets"
   ]
  },
  {
   "cell_type": "markdown",
   "metadata": {},
   "source": [
    "### Function to train a combiObject"
   ]
  },
  {
   "cell_type": "code",
   "execution_count": null,
   "metadata": {},
   "outputs": [],
   "source": [
    "def train_regression(training_data, training_targets, regularization, minimum_level, maximum_level):\n",
    "    dim = len(training_data[0])\n",
    "    \n",
    "    a = np.zeros(dim)\n",
    "    b = np.ones(dim)\n",
    "    \n",
    "    operation = Regression(training_data, training_targets, regularization, dim)\n",
    "    \n",
    "    combiObject = StandardCombi(a, b, operation=operation)\n",
    "    \n",
    "    combiObject.perform_operation(minimum_level, maximum_level)\n",
    "    \n",
    "    return operation, combiObject"
   ]
  },
  {
   "cell_type": "markdown",
   "metadata": {},
   "source": [
    "### Function to test the regression"
   ]
  },
  {
   "cell_type": "code",
   "execution_count": null,
   "metadata": {},
   "outputs": [],
   "source": [
    "import math\n",
    "\n",
    "def test_regression(test_data, test_targets, combiObject):\n",
    "    learned_targets = combiObject(test_data)\n",
    "    \n",
    "    difference = 0\n",
    "    for i in range(len(learned_targets)):\n",
    "        difference += (test_targets[i] - learned_targets[i]) ** 2\n",
    "        \n",
    "    return math.sqrt(difference/len(test_targets))"
   ]
  },
  {
   "cell_type": "markdown",
   "metadata": {},
   "source": [
    "# Result 1: gaussian data set, (size of data set TO error, levels of comp grids TO error)"
   ]
  },
  {
   "cell_type": "code",
   "execution_count": null,
   "metadata": {
    "pycharm": {
     "is_executing": false,
     "name": "#%%\n"
    },
    "scrolled": false
   },
   "outputs": [],
   "source": [
    "# import sparseSpACE\n",
    "%matplotlib inline\n",
    "import numpy as np\n",
    "from sparseSpACE.ErrorCalculator import *\n",
    "from sparseSpACE.GridOperation import *\n",
    "from sparseSpACE.StandardCombi import *\n",
    "from sklearn import datasets\n",
    "\n",
    "func = GenzGaussian((0.5,0.5), (10,10))\n",
    "data, target = construct_dataset(2, func)\n",
    "\n",
    "\n",
    "#split the dataset into training and test data\n",
    "training_data, training_targets, test_data, test_targets = split_dataset(data, target)   \n",
    "\n",
    "#initialize the objects with the training data and train them \n",
    "operation, combiObject = train_regression(training_data, training_targets, 0.00001, 1, 5)\n",
    "\n",
    "print(\"Testfehler:\")\n",
    "print(test_regression(test_data, test_targets, combiObject))\n",
    "\n",
    "\n",
    "print(\"Combination Scheme:\")\n",
    "# when you pass the operation the function also plots the contour plot of each component grid\n",
    "combiObject.print_resulting_combi_scheme()\n",
    "print(\"Sparse Grid:\")\n",
    "combiObject.print_resulting_sparsegrid(markersize=20)\n",
    "#print(\"Plot of dataset:\")\n",
    "#operation.plot_dataset()\n",
    "print(\"Plot of Regression:\")\n",
    "# when contour = True, the contour plot is shown next to the 3D plot\n",
    "combiObject.plot(contour=True)\n",
    "#y = combiObject([(0,0), (1,1)])"
   ]
  },
  {
   "cell_type": "markdown",
   "metadata": {
    "pycharm": {
     "is_executing": false,
     "name": "#%% md\n"
    }
   },
   "source": [
    "\n"
   ]
  },
  {
   "cell_type": "code",
   "execution_count": null,
   "metadata": {},
   "outputs": [],
   "source": []
  },
  {
   "cell_type": "code",
   "execution_count": null,
   "metadata": {
    "pycharm": {
     "is_executing": false,
     "name": "#%%\n"
    },
    "scrolled": false
   },
   "outputs": [],
   "source": []
  },
  {
   "cell_type": "markdown",
   "metadata": {
    "pycharm": {
     "is_executing": false,
     "name": "#%% md\n"
    }
   },
   "source": []
  },
  {
   "cell_type": "code",
   "execution_count": null,
   "metadata": {
    "pycharm": {
     "is_executing": false,
     "name": "#%%\n"
    }
   },
   "outputs": [],
   "source": []
  },
  {
   "cell_type": "code",
   "execution_count": null,
   "metadata": {},
   "outputs": [],
   "source": []
  },
  {
   "cell_type": "code",
   "execution_count": null,
   "metadata": {},
   "outputs": [],
   "source": []
  }
 ],
 "metadata": {
  "kernelspec": {
   "display_name": "Python 3",
   "language": "python",
   "name": "python3"
  },
  "language_info": {
   "codemirror_mode": {
    "name": "ipython",
    "version": 3
   },
   "file_extension": ".py",
   "mimetype": "text/x-python",
   "name": "python",
   "nbconvert_exporter": "python",
   "pygments_lexer": "ipython3",
   "version": "3.8.5"
  },
  "pycharm": {
   "stem_cell": {
    "cell_type": "raw",
    "metadata": {
     "collapsed": false
    },
    "source": []
   }
  }
 },
 "nbformat": 4,
 "nbformat_minor": 1
}
