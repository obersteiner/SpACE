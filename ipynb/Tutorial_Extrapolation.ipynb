{
 "cells": [
  {
   "cell_type": "markdown",
   "source": [
    "# Extrapolation\n",
    "\n",
    "This tutorial explains the calling conventions and various variants that can be used for extrapolation."
   ],
   "metadata": {
    "collapsed": false
   }
  },
  {
   "cell_type": "code",
   "execution_count": null,
   "metadata": {
    "collapsed": true,
    "pycharm": {
     "is_executing": false
    }
   },
   "outputs": [],
   "source": [
    "from spatiallyAdaptiveSingleDimension2 import *\n",
    "from GridOperation import *\n",
    "\n",
    "# Settings\n",
    "dim = 2\n",
    "a = np.zeros(dim)\n",
    "b = np.ones(dim)\n",
    "max_tol = 10 ** (-5)\n",
    "max_evaluations = 10 ** 4\n",
    "\n",
    "coeffs = np.array([np.float64(i) for i in range(1, dim + 1)])\n",
    "midpoint = np.ones(dim) * 0.99\n",
    "f = GenzGaussian(coeffs, midpoint)\n",
    "\n",
    "# plot function\n",
    "f.plot(np.ones(dim)*a,np.ones(dim)*b)\n",
    "reference_solution = f.getAnalyticSolutionIntegral(a, b)\n",
    "errorOperator = ErrorCalculatorSingleDimVolumeGuided()"
   ]
  },
  {
   "cell_type": "markdown",
   "source": [
    "## Global Romberg Grid\n",
    "\n",
    "A Romberg grid consists of (multiple) containers that each contain some slices.\n",
    "If a container contains only one slice then the slice is extrapolated separately according to the specified option.\n",
    "Otherwise the whole container is extrapolated using the method provided as an parameter.\n",
    "\n",
    "Each Romberg grid has three parameters that determine the type of extrapolation: \n",
    "* `slice_grouping`: This option determines how grid sliced should be grouped into larger containers.\n",
    "    * `UNIT`: Each slice has it's own container.\n",
    "    * `GROUPED`: Slices are grouped into containers that contain a multiple of 2 slices.\n",
    "    * `GROUPED_OPTIMIZED`: Slices are grouped into containers that contain a multiple of 2 slices. This method also tries to maximize each containers size.\n",
    "* slice_version: This option determines the extrapolation type of unit slices.\n",
    "    * `ROMBERG_DEFAULT`: sliced Romberg extrapolation.\n",
    "    * `TRAPEZOID`: default trapezoidal rule without extrapolation.\n",
    "    * `ROMBERG_DEFAULT_CONST_SUBTRACTION`: sliced Romberg extrapolation with subtraction of extrapolation constants.\n",
    "* container_version: This options determines the container type.\n",
    "    * `ROMBERG_DEFAULT`: executes a default Romberg method inside this container.\n",
    "    * `LAGRANGE_ROMBERG`: executes a default Romberg method inside this container while missing points are interpolated.\n",
    "    * `LAGRANGE_FULL_GRID_ROMBERG`: the whole grid is understood as one big container. All missing points up to the maximal level are interpolated. Afterwards a default Romberg method is executed.\n",
    "    * `SIMPSON_ROMBERG`: Instead of using trapezoidal rules as a base rule, here, the Simpson rule is used.\n",
    "    "
   ],
   "metadata": {
    "collapsed": false
   }
  },
  {
   "cell_type": "code",
   "execution_count": null,
   "outputs": [],
   "source": [
    "grid = GlobalRombergGrid(a=a, b=b, modified_basis=False, boundary=True,\n",
    "                         slice_grouping=SliceGrouping.UNIT,\n",
    "                         slice_version=SliceVersion.ROMBERG_DEFAULT,\n",
    "                         container_version=SliceContainerVersion.ROMBERG_DEFAULT)\n"
   ],
   "metadata": {
    "collapsed": false,
    "pycharm": {
     "name": "#%%\n",
     "is_executing": false
    }
   }
  },
  {
   "cell_type": "markdown",
   "source": [
    "Afterwards we create the grid operation and spatial adaptive object.\n",
    "Another option that can be se is `force_balanced_refinement_tree`. \n",
    "If enabled, each the refinement tree of each one-dimensional grid stripe is force to a balanced refinement tree.\n",
    "This means that each node either has zero or two children. "
   ],
   "metadata": {
    "collapsed": false
   }
  },
  {
   "cell_type": "code",
   "execution_count": null,
   "outputs": [],
   "source": [
    "balanced = False\n",
    "\n",
    "operation = Integration(f=f, grid=grid, dim=dim, reference_solution=reference_solution)\n",
    "adaptiveCombiInstanceSingleDim = SpatiallyAdaptiveSingleDimensions2(a, b, operation=operation, rebalancing=False,\n",
    "                                                                    force_balanced_refinement_tree=balanced)"
   ],
   "metadata": {
    "collapsed": false,
    "pycharm": {
     "name": "#%%\n",
     "is_executing": false
    }
   }
  },
  {
   "cell_type": "markdown",
   "source": [
    "Finally we perform the spatially adaptive refinement:"
   ],
   "metadata": {
    "collapsed": false
   }
  },
  {
   "cell_type": "code",
   "execution_count": null,
   "outputs": [],
   "source": [
    "adaptiveCombiInstanceSingleDim.performSpatiallyAdaptiv(1, 2, errorOperator,\n",
    "                                                       max_tol, max_evaluations=max_evaluations,\n",
    "                                                       do_plot=True)\n",
    "\n",
    "print(\"Number of points used in refinement:\", adaptiveCombiInstanceSingleDim.get_total_num_points())\n"
   ],
   "metadata": {
    "collapsed": false,
    "pycharm": {
     "name": "#%%\n",
     "is_executing": false
    }
   }
  }
 ],
 "metadata": {
  "kernelspec": {
   "name": "pycharm-fcc6cfaa",
   "language": "python",
   "display_name": "PyCharm (bachelorarbeit)"
  },
  "language_info": {
   "codemirror_mode": {
    "name": "ipython",
    "version": 2
   },
   "file_extension": ".py",
   "mimetype": "text/x-python",
   "name": "python",
   "nbconvert_exporter": "python",
   "pygments_lexer": "ipython2",
   "version": "2.7.6"
  },
  "pycharm": {
   "stem_cell": {
    "cell_type": "raw",
    "source": [],
    "metadata": {
     "collapsed": false
    }
   }
  }
 },
 "nbformat": 4,
 "nbformat_minor": 0
}