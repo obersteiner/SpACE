{
 "cells": [
  {
   "cell_type": "markdown",
   "metadata": {
    "pycharm": {
     "name": "#%% md\n"
    }
   },
   "source": [
    "## Sparse Grid Regression with the Combination Technique: \n",
    "This notebook provides an overview on how to use the Regression with the (spatially adaptve) Combination Technique. The complexity of the computation is lowered while still providing accurate results compared to full grids. The class $\\texttt{Regression}$ implements those functionalities. Its methods $\\texttt{train}$, $\\texttt{optimize\\_coefficients}$ and $\\texttt{test}$ encapsulate the most important steps.\n",
    "\n",
    "First, an object of class $\\texttt{Regression}$ has to be initialized. The data set and its target values have to be given in the constructor. Additionally, a regularization parameter $\\lambda$ and the choice for the regularization matrix (C or I) have to be determined. Additionally, the range to which the data is scaled to can be changed. The standard value is $[0.05,0.95]$.\n",
    "\n",
    "In the next step, the regression object can be trained. The method $\\texttt{train}$ takes 4 parameters. The percentage of testdata decides, how the data set given in the constructor is split (training, validation and test). Minimum and maximum level have to be given for the Combination Technique and with the last boolean parameter, white noise can be added to the target values of the training and validation data. The $\\texttt{train}$ method returns a combiObject. With this, predictions of new data points can be made.\n",
    "\n",
    "As a next, optional step, the combination technique can be optimized (Opticom). Therefore, the method $\\texttt{optimize\\_coefficients}$ of Regression has to be called. It needs the combiObject from the previous method and the choice of option: 1 -> Garcke approach, 2 -> least squares based, 3 -> error based approach.\n",
    "\n",
    "The last step is to test the computed function with the help of $\\texttt{test}$. It again needs the combiObject and it computes the mean squared error of the test data. "
   ]
  },
  {
   "cell_type": "markdown",
   "metadata": {},
   "source": [
    "### Regression with the normal combination technique:"
   ]
  },
  {
   "cell_type": "code",
   "execution_count": null,
   "metadata": {
    "pycharm": {
     "is_executing": false,
     "name": "#%%\n"
    },
    "scrolled": false
   },
   "outputs": [],
   "source": [
    "# import sparseSpACE\n",
    "%matplotlib inline\n",
    "import numpy as np\n",
    "from sparseSpACE.ErrorCalculator import *\n",
    "from sparseSpACE.GridOperation import *\n",
    "from sparseSpACE.StandardCombi import *\n",
    "from sparseSpACE.DEMachineLearning import *\n",
    "import math\n",
    "\n",
    "def construct_dataset(dim, function, num_points):\n",
    "    grid_points = np.random.rand(num_points,dim)\n",
    "    y_vals = np.array([function(x) for x in grid_points])\n",
    "    return grid_points, y_vals.flatten()\n",
    "\n",
    "function = GenzGaussian((0.5,0.5), (10,10))\n",
    "data, target = construct_dataset(2, function, 300)\n",
    "\n",
    "operation = Regression(data, target, 0, 'C')\n",
    "\n",
    "\n",
    "print(\"Plot of the data samples: \")\n",
    "operation.plot_dataset()\n",
    "print(\"Plot of the function: \")\n",
    "function.plot((0,0),(1,1))\n",
    "combiObject = operation.train(0.2, 1, 4, noisy_data=False)\n",
    "combiObject.print_resulting_combi_scheme(operation=operation)\n",
    "print(\"Sparse Grid:\")\n",
    "combiObject.print_resulting_sparsegrid(markersize=20)\n",
    "print(\"Plot of Regression:\")\n",
    "combiObject.plot(contour=True)\n",
    "print(\"Testing error: \")\n",
    "print(operation.test(combiObject))\n",
    "print(\"Time used: \")\n",
    "print(combiObject.get_time_used())\n"
   ]
  },
  {
   "cell_type": "markdown",
   "metadata": {
    "pycharm": {
     "is_executing": false,
     "name": "#%% md\n"
    }
   },
   "source": [
    "### Regression with the spatially adaptive combination technique:\n",
    "\n",
    "The same steps as above can be performed. For the training methods, the following parameters can be specified: \n",
    "- percentage of test data: how many data points are used for testing\n",
    "- margin: at what points will be refined (at those with error >= margin*max_error \n",
    "- tolerance: stopping criterion depending on error\n",
    "- max_evaluations: refinement stops when current evaluations >= max_evalauations\n",
    "- do_plot: specifiy whether each refinement step is plotted\n",
    "- noisy_data: decide whether white noise is added to the training target values"
   ]
  },
  {
   "cell_type": "code",
   "execution_count": null,
   "metadata": {
    "pycharm": {
     "is_executing": false,
     "name": "#%%\n"
    },
    "scrolled": false
   },
   "outputs": [],
   "source": [
    "# import sparseSpACE\n",
    "%matplotlib inline\n",
    "import numpy as np\n",
    "from sparseSpACE.ErrorCalculator import *\n",
    "from sparseSpACE.GridOperation import *\n",
    "from sparseSpACE.StandardCombi import *\n",
    "from sparseSpACE.DEMachineLearning import *\n",
    "import math\n",
    "\n",
    "def construct_dataset(dim, function, num_points):\n",
    "    grid_points = np.random.rand(num_points,dim)\n",
    "    y_vals = np.array([function(x) for x in grid_points])\n",
    "    return grid_points, y_vals.flatten()\n",
    "\n",
    "function = GenzGaussian((0.7,0.7), (30,30))\n",
    "data, target = construct_dataset(2, function, 300)\n",
    "\n",
    "operation = Regression(data, target, 0, 'C')\n",
    "\n",
    "\n",
    "print(\"Plot of the data samples: \")\n",
    "operation.plot_dataset()\n",
    "print(\"Plot of the function: \")\n",
    "function.plot((0,0),(1,1))\n",
    "adaptiveCombiInstanceSingleDim = operation.train_spatially_adaptive(0.2, 0.7, 10.**-5, 18, do_plot=False, noisy_data=False)\n",
    "adaptiveCombiInstanceSingleDim.print_resulting_combi_scheme(operation=operation)\n",
    "print(\"Sparse Grid:\")\n",
    "adaptiveCombiInstanceSingleDim.print_resulting_sparsegrid(markersize=20)\n",
    "print(\"Plot of Regression:\")\n",
    "adaptiveCombiInstanceSingleDim.plot(contour=True)\n",
    "print(\"Testing error: \")\n",
    "print(operation.test_spatially_adaptive(adaptiveCombiInstanceSingleDim))"
   ]
  },
  {
   "cell_type": "code",
   "execution_count": null,
   "metadata": {
    "pycharm": {
     "is_executing": false,
     "name": "#%% md\n"
    }
   },
   "outputs": [],
   "source": []
  },
  {
   "cell_type": "code",
   "execution_count": null,
   "metadata": {
    "pycharm": {
     "is_executing": false,
     "name": "#%%\n"
    }
   },
   "outputs": [],
   "source": []
  },
  {
   "cell_type": "code",
   "execution_count": null,
   "metadata": {},
   "outputs": [],
   "source": []
  },
  {
   "cell_type": "code",
   "execution_count": null,
   "metadata": {},
   "outputs": [],
   "source": []
  },
  {
   "cell_type": "code",
   "execution_count": null,
   "metadata": {},
   "outputs": [],
   "source": []
  },
  {
   "cell_type": "code",
   "execution_count": null,
   "metadata": {},
   "outputs": [],
   "source": []
  }
 ],
 "metadata": {
  "kernelspec": {
   "display_name": "Python 3",
   "language": "python",
   "name": "python3"
  },
  "language_info": {
   "codemirror_mode": {
    "name": "ipython",
    "version": 3
   },
   "file_extension": ".py",
   "mimetype": "text/x-python",
   "name": "python",
   "nbconvert_exporter": "python",
   "pygments_lexer": "ipython3",
   "version": "3.8.10"
  },
  "pycharm": {
   "stem_cell": {
    "cell_type": "raw",
    "metadata": {
     "collapsed": false
    },
    "source": []
   }
  }
 },
 "nbformat": 4,
 "nbformat_minor": 1
}
