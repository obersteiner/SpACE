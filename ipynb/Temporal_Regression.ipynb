{
 "cells": [
  {
   "cell_type": "markdown",
   "metadata": {
    "pycharm": {
     "name": "#%% md\n"
    }
   },
   "source": [
    "## Sparse Grid Regression with the Combination Technique: \n"
   ]
  },
  {
   "cell_type": "markdown",
   "metadata": {
    "pycharm": {
     "name": "#%% md\n"
    }
   },
   "source": [
    "### Function to construct a dataset:"
   ]
  },
  {
   "cell_type": "code",
   "execution_count": null,
   "metadata": {},
   "outputs": [],
   "source": [
    "from sparseSpACE.Function import *\n",
    "from sparseSpACE.Utils import *\n",
    "import numpy as np\n",
    "\n",
    "def construct_dataset(dim, function):\n",
    "    one_d_grid = np.linspace(0, 1, 20)\n",
    "    grid_arr = [one_d_grid]*dim\n",
    "    grid_points = get_cross_product_numpy_array(grid_arr)\n",
    "    y_vals = np.array([function(x) for x in grid_points])\n",
    "    return grid_points, y_vals.flatten()\n",
    "\n",
    "    "
   ]
  },
  {
   "cell_type": "markdown",
   "metadata": {},
   "source": [
    "### Version without spatial adaptivity:"
   ]
  },
  {
   "cell_type": "code",
   "execution_count": null,
   "metadata": {
    "pycharm": {
     "is_executing": false,
     "name": "#%%\n"
    },
    "scrolled": false
   },
   "outputs": [],
   "source": [
    "# import sparseSpACE\n",
    "%matplotlib inline\n",
    "import numpy as np\n",
    "from sparseSpACE.ErrorCalculator import *\n",
    "from sparseSpACE.GridOperation import *\n",
    "from sparseSpACE.StandardCombi import *\n",
    "from sklearn import datasets\n",
    "\n",
    "# dimension of the data\n",
    "dim = 2\n",
    "\n",
    "# define size for the generated data sets\n",
    "size = 500\n",
    "\n",
    "# define the domain boundaries\n",
    "a = np.zeros(dim)\n",
    "b = np.ones(dim)\n",
    "\n",
    "# -------------------------------------- Dataset 0 (Gaussian) --------------------------------------------\n",
    "func = GenzGaussian((0.5,0.5), (10,10))\n",
    "print(\"Input Function:\")\n",
    "func.plot(a, b)\n",
    "data0, target0 = construct_dataset(dim, func)\n",
    "\n",
    "\n",
    "# -------------------------------------- Dataset 1 (Circle) --------------------------------------------\n",
    "data = datasets.make_circles(size, noise = 0.05)\n",
    "target = np.zeros(500)\n",
    "for i in range(500):\n",
    "    target[i] = 100\n",
    "    \n",
    "    \n",
    "# -------------------------------------- Dataset 2 (Moons) ---------------------------------------------\n",
    "data2, target2 = datasets.make_moons(size, noise = 0.05)\n",
    "for i in range(500):\n",
    "    target2[i] = (target2[i] + 1) * 10\n",
    "    \n",
    "    \n",
    "# -------------------------------------- Dataset 3 (Boston) --------------------------------------------\n",
    "data3, target3 = datasets.load_boston(return_X_y=True)\n",
    "\n",
    "# -------------------------------------- Dataset 0 (Standard Regression dataset) -----------------------\n",
    "data4, target4 = datasets.make_regression(n_samples=size, n_features=1)\n",
    "for i in range(500):\n",
    "    target4[i] = target4[i]\n",
    "    \n",
    "    \n",
    "\n",
    "# initialize the grid operation\n",
    "operation = Regression(data0, target0, 0.0001, dim)\n",
    "\n",
    "# initialize the StandardCombi with the Regression\n",
    "combiObject = StandardCombi(a, b, operation=operation)\n",
    "\n",
    "# define the min and max level of the combi grid\n",
    "minimum_level = 1\n",
    "maximum_level = 5\n",
    "\n",
    "# perform the density estimation operation, has to be done before the printing and plotting\n",
    "combiObject.perform_operation(minimum_level, maximum_level)\n",
    "print(\"Combination Scheme:\")\n",
    "# when you pass the operation the function also plots the contour plot of each component grid\n",
    "combiObject.print_resulting_combi_scheme()\n",
    "print(\"Sparse Grid:\")\n",
    "combiObject.print_resulting_sparsegrid(markersize=20)\n",
    "print(\"Plot of dataset:\")\n",
    "operation.plot_dataset()\n",
    "print(\"Plot of Regression:\")\n",
    "# when contour = True, the contour plot is shown next to the 3D plot\n",
    "combiObject.plot(contour=True)"
   ]
  },
  {
   "cell_type": "markdown",
   "metadata": {
    "pycharm": {
     "is_executing": false,
     "name": "#%% md\n"
    }
   },
   "source": [
    "## Version with the spatial adaptivity:"
   ]
  },
  {
   "cell_type": "code",
   "execution_count": null,
   "metadata": {
    "pycharm": {
     "is_executing": false,
     "name": "#%%\n"
    },
    "scrolled": false
   },
   "outputs": [],
   "source": [
    "%matplotlib inline\n",
    "import sparseSpACE\n",
    "import numpy as np\n",
    "from sparseSpACE.spatiallyAdaptiveSingleDimension2 import *\n",
    "from sparseSpACE.Function import *\n",
    "from sparseSpACE.ErrorCalculator import *\n",
    "\n",
    "# dimension of the problem\n",
    "dim = 2\n",
    "\n",
    "# define integration domain boundaries\n",
    "a = np.zeros(dim)\n",
    "b = np.ones(dim)\n",
    "\n",
    "# define function to be integrated\n",
    "midpoint = np.ones(dim) * 0.5\n",
    "coefficients = np.array([ 10**0 * (d+1) for d in range(dim)])\n",
    "\n",
    "data2, target2 = datasets.make_moons(size, noise = 0.05)\n",
    "\n",
    "func = GenzGaussian((0.5,0.5), (10,10))\n",
    "func.plot(a, b)\n",
    "data0, target0 = construct_dataset(dim, func)\n",
    "\n",
    "print(data0)\n",
    "\n",
    "func1 = FunctionLinear((1,1))\n",
    "#func1.plot(a,b)\n",
    "data1, target1 = construct_dataset(dim, func1)\n",
    "\n",
    "# define error estimator for refinement\n",
    "errorOperator = ErrorCalculatorSingleDimVolumeGuided()\n",
    "\n",
    "# define equidistant grid\n",
    "grid=GlobalTrapezoidalGrid(a=a, b=b, modified_basis=False, boundary=False)\n",
    "\n",
    "# define operation which shall be performed in the combination technique\n",
    "from sparseSpACE.GridOperation import *\n",
    "operation = Regression(data0, target0, 0.0003, dim, grid=grid)\n",
    "\n",
    "# define SingleDim refinement strategy for Spatially Adaptive Combination Technique\n",
    "adaptiveCombiInstanceSingleDim = SpatiallyAdaptiveSingleDimensions2(np.ones(dim) * a, np.ones(dim) * b, margin=0.5, operation=operation)\n",
    "\n",
    "# performing the spatially adaptive refinement with the SingleDim method\n",
    "adaptiveCombiInstanceSingleDim.performSpatiallyAdaptiv(1, 2, errorOperator, 10**-5, do_plot=True)"
   ]
  },
  {
   "cell_type": "markdown",
   "metadata": {
    "pycharm": {
     "is_executing": false,
     "name": "#%% md\n"
    }
   },
   "source": []
  },
  {
   "cell_type": "code",
   "execution_count": null,
   "metadata": {
    "pycharm": {
     "is_executing": false,
     "name": "#%%\n"
    }
   },
   "outputs": [],
   "source": []
  },
  {
   "cell_type": "code",
   "execution_count": null,
   "metadata": {},
   "outputs": [],
   "source": []
  }
 ],
 "metadata": {
  "kernelspec": {
   "display_name": "Python 3",
   "language": "python",
   "name": "python3"
  },
  "language_info": {
   "codemirror_mode": {
    "name": "ipython",
    "version": 3
   },
   "file_extension": ".py",
   "mimetype": "text/x-python",
   "name": "python",
   "nbconvert_exporter": "python",
   "pygments_lexer": "ipython3",
   "version": "3.8.5"
  },
  "pycharm": {
   "stem_cell": {
    "cell_type": "raw",
    "metadata": {
     "collapsed": false
    },
    "source": []
   }
  }
 },
 "nbformat": 4,
 "nbformat_minor": 1
}
