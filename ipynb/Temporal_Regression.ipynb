{
 "cells": [
  {
   "cell_type": "markdown",
   "metadata": {
    "pycharm": {
     "name": "#%% md\n"
    }
   },
   "source": [
    "## Sparse Grid Regression with the Combination Technique: \n"
   ]
  },
  {
   "cell_type": "markdown",
   "metadata": {
    "pycharm": {
     "name": "#%% md\n"
    }
   },
   "source": [
    "### Utility functions"
   ]
  },
  {
   "cell_type": "code",
   "execution_count": null,
   "metadata": {},
   "outputs": [],
   "source": [
    "from sparseSpACE.Function import *\n",
    "from sparseSpACE.Utils import *\n",
    "import numpy as np\n",
    "import math\n",
    "\n",
    "def construct_dataset(dim, function, num_points):\n",
    "    #one_d_grid = np.linspace(0, 1, points_per_dim)\n",
    "    #grid_arr = [one_d_grid]*dim\n",
    "    grid_points = np.random.rand(num_points,2)\n",
    "    #grid_points = get_cross_product_numpy_array(grid_arr)\n",
    "    y_vals = np.array([function(x) for x in grid_points])\n",
    "    return grid_points, y_vals.flatten()\n",
    "\n",
    "    \n",
    "def split_dataset(data, targets):\n",
    "    training_size = 0\n",
    "    test_size = 0\n",
    "    for i in range(len(data)):\n",
    "        if i%5 != 0:\n",
    "            training_size += 1\n",
    "        else:\n",
    "            test_size += 1\n",
    "            \n",
    "    training_data = np.zeros((training_size, len(data[0]))) \n",
    "    training_targets = np.zeros(training_size) \n",
    "    \n",
    "    test_data = np.zeros((test_size, len(data[0]))) \n",
    "    test_targets = np.zeros(test_size) \n",
    "    \n",
    "    training_index = 0\n",
    "    test_index = 0\n",
    "    \n",
    "    for i in range(len(data)):\n",
    "        if i%5 != 0:\n",
    "            training_data[training_index] = data[i]\n",
    "            training_targets[training_index] = targets[i]\n",
    "            training_index += 1\n",
    "        else:\n",
    "            test_data[test_index] = data[i]\n",
    "            test_targets[test_index] = targets[i]\n",
    "            test_index += 1\n",
    "    \n",
    "    return training_data, training_targets, test_data, test_targets\n",
    "\n",
    "\n",
    "def train_regression(training_data, training_targets, regularization, matrix, minimum_level, maximum_level):\n",
    "    dim = len(training_data[0])\n",
    "    \n",
    "    a = np.zeros(dim)\n",
    "    b = np.ones(dim)\n",
    "    \n",
    "    operation = Regression(training_data, training_targets, regularization, dim, regularization_matrix=matrix)\n",
    "    \n",
    "    combiObject = StandardCombi(a, b, operation=operation)\n",
    "    \n",
    "    combiObject.perform_operation(minimum_level, maximum_level)\n",
    "    \n",
    "    return operation, combiObject\n",
    "\n",
    "\n",
    "def test_regression(test_data, test_targets, combiObject):\n",
    "    learned_targets = combiObject(test_data)\n",
    "    \n",
    "    difference = 0\n",
    "    for i in range(len(learned_targets)):\n",
    "        difference += (test_targets[i] - learned_targets[i]) ** 2\n",
    "        \n",
    "    return math.sqrt(difference/len(test_targets))\n",
    "\n",
    "def scale_data(data, target, rangee=[0.05,0.95]):\n",
    "    dataSet = DataSetRegression((data, target))\n",
    "    dataSet.scale_range(rangee)\n",
    "    data, target = dataSet.get_data()[0], dataSet.get_data()[1]\n",
    "    return data, target"
   ]
  },
  {
   "cell_type": "markdown",
   "metadata": {},
   "source": [
    "### Version without spatial adaptivity:"
   ]
  },
  {
   "cell_type": "code",
   "execution_count": null,
   "metadata": {
    "pycharm": {
     "is_executing": false,
     "name": "#%%\n"
    },
    "scrolled": false
   },
   "outputs": [],
   "source": [
    "# import sparseSpACE\n",
    "%matplotlib inline\n",
    "import numpy as np\n",
    "from sparseSpACE.ErrorCalculator import *\n",
    "from sparseSpACE.GridOperation import *\n",
    "from sparseSpACE.StandardCombi import *\n",
    "from sparseSpACE.DEMachineLearning import *\n",
    "from sklearn import datasets\n",
    "\n",
    "# -------------------------------------- Dataset 0 (Gaussian) --------------------------------------------\n",
    "#func = GenzGaussian((0.5,0.5), (15,15))\n",
    "#data, target = construct_dataset(2, func, 400)\n",
    "# -------------------------------------- Dataset 0 (Gaussian) --------------------------------------------\n",
    "    \n",
    "    \n",
    "# -------------------------------------- Dataset 0 (Stern) --------------------------------------------\n",
    "# func = GenzC0((10,10), (0.5,0.5))\n",
    "# data, target = construct_dataset(2, func, 400)\n",
    "#func.plot((0,0),(1,1))\n",
    "# -------------------------------------- Dataset 0 (Stern) --------------------------------------------\n",
    "    \n",
    "# -------------------------------------- Dataset 1 (Boston) --------------------------------------------\n",
    "data, target = datasets.load_boston(return_X_y=True)\n",
    "# -------------------------------------- Dataset 1 (Boston) -------------------------------------------\n",
    "\n",
    "# -------------------------------------- Dataset 2 (Diabetes) --------------------------------------------\n",
    "# data, target = datasets.load_diabetes(return_X_y=True)\n",
    "# -------------------------------------- Dataset 2 (Diabetes) --------------------------------------------\n",
    "\n",
    "data, target = scale_data(data, target)\n",
    "#split the dataset into training and test data\n",
    "training_data, training_targets, test_data, test_targets = split_dataset(data, target)   \n",
    "\n",
    "stringBuilder1 = \"\"\n",
    "for i in range(10):\n",
    "    operation, combiObject = train_regression(training_data, training_targets, regularization=10**-i, matrix=0, minimum_level=1, maximum_level=4)\n",
    "    stringBuilder1 = stringBuilder1 + str(10**-i) +\" & \" + str(test_regression(test_data, test_targets, combiObject)) + \"\\\\\\\\\\n\"\n",
    "\n",
    "stringBuilder2 = \"\"\n",
    "for i in range(10):\n",
    "    operation, combiObject = train_regression(training_data, training_targets, regularization=10**-i, matrix=1, minimum_level=1, maximum_level=4)\n",
    "    stringBuilder2 = stringBuilder2 + str(10**-i) +\" & \" + str(test_regression(test_data, test_targets, combiObject))  + \"\\\\\\\\\\n\"\n",
    "    \n",
    "print(\"Tabelle:\")\n",
    "print(stringBuilder1)\n",
    "print(stringBuilder2)\n",
    "\n",
    "\n",
    "print(\"Combination Scheme:\")\n",
    "# when you pass the operation the function also plots the contour plot of each component grid\n",
    "combiObject.print_resulting_combi_scheme(operation=operation)\n",
    "print(\"Sparse Grid:\")\n",
    "#combiObject.print_resulting_sparsegrid(markersize=20)\n",
    "print(\"Plot of Regression:\")\n",
    "# when contour = True, the contour plot is shown next to the 3D plot\n",
    "combiObject.plot(contour=True)"
   ]
  },
  {
   "cell_type": "markdown",
   "metadata": {
    "pycharm": {
     "is_executing": false,
     "name": "#%% md\n"
    }
   },
   "source": [
    "## Version with the spatial adaptivity:"
   ]
  },
  {
   "cell_type": "code",
   "execution_count": null,
   "metadata": {},
   "outputs": [],
   "source": [
    "def test_regression_spatially_adaptive(test_data, test_targets, adaptiveCombiInstanceSingleDim, grid):\n",
    "    learned_targets = adaptiveCombiInstanceSingleDim(test_data)\n",
    "    \n",
    "    difference = 0\n",
    "    for i in range(len(learned_targets)):\n",
    "        difference += (test_targets[i] - learned_targets[i]) ** 2\n",
    "        \n",
    "    return difference/len(test_targets)"
   ]
  },
  {
   "cell_type": "code",
   "execution_count": null,
   "metadata": {
    "pycharm": {
     "is_executing": false,
     "name": "#%%\n"
    },
    "scrolled": false
   },
   "outputs": [],
   "source": [
    "%matplotlib inline\n",
    "import sparseSpACE\n",
    "import numpy as np\n",
    "from sparseSpACE.spatiallyAdaptiveSingleDimension2 import *\n",
    "from sparseSpACE.Function import *\n",
    "from sparseSpACE.ErrorCalculator import *\n",
    "from sparseSpACE.GridOperation import *\n",
    "\n",
    "# dimension of the problem\n",
    "dim = 13\n",
    "\n",
    "# define integration domain boundaries\n",
    "a = np.zeros(dim)\n",
    "b = np.ones(dim)\n",
    "\n",
    "# define function to be integrated\n",
    "#midpoint = np.ones(dim) * 0.5\n",
    "#coefficients = np.array([ 10**0 * (d+1) for d in range(dim)])\n",
    "\n",
    "# ---------------------------------- Dataset 0 (Gaussian) -------------------\n",
    "#func = GenzGaussian((0.5,0.5), (10,10))\n",
    "#data, target = construct_dataset(dim, func, 500)\n",
    "# ---------------------------------- Dataset 0 (Gaussian) -------------------\n",
    "\n",
    "# ---------------------------------- Dataset 1 (Linear) ---------------------\n",
    "#func = FunctionLinear((1,1))\n",
    "#data, target = construct_dataset(dim, func, 500)\n",
    "# ---------------------------------- Dataset 1 (Linear) ---------------------\n",
    "\n",
    "# ---------------------------------- Dataset 2 (Boston) dimension = 13 ------\n",
    "data, target = datasets.load_boston(return_X_y=True)\n",
    "print(data)\n",
    "print(target)\n",
    "# -------------------------------------- Dataset 2 (Boston) -----------------\n",
    "\n",
    "# ---------------------------------- Dataset 3 (Diabetes) dimension = 10 ----\n",
    "# data, target = datasets.load_diabetes(return_X_y=True)\n",
    "# ---------------------------------- Dataset 3 (Diabetes) -------------------\n",
    "\n",
    "\n",
    "#split the dataset into training and test data\n",
    "training_data, training_targets, test_data, test_targets = split_dataset(data, target)   \n",
    "\n",
    "# define error estimator for refinement\n",
    "errorOperator = ErrorCalculatorSingleDimVolumeGuided()\n",
    "\n",
    "# define equidistant grid\n",
    "grid=GlobalTrapezoidalGrid(a=a, b=b, modified_basis=False, boundary=False)\n",
    "\n",
    "# define operation which shall be performed in the combination technique\n",
    "operation = Regression(training_data, training_targets, 0.0000001, dim, regularization_matrix=0, grid=grid)\n",
    "\n",
    "# define SingleDim refinement strategy for Spatially Adaptive Combination Technique\n",
    "adaptiveCombiInstanceSingleDim = SpatiallyAdaptiveSingleDimensions2(np.ones(dim) * a, np.ones(dim) * b, margin=0.1, operation=operation, rebalancing=False)\n",
    "\n",
    "# performing the spatially adaptive refinement with the SingleDim method\n",
    "adaptiveCombiInstanceSingleDim.performSpatiallyAdaptiv(1, 2, errorOperator, 10**-3, do_plot=True, max_evaluations=200)\n",
    "\n",
    "difference = test_regression_spatially_adaptive(test_data, test_targets, adaptiveCombiInstanceSingleDim, operation.grid)\n",
    "\n",
    "print(\"Testfehler:\")\n",
    "print(difference)"
   ]
  },
  {
   "cell_type": "code",
   "execution_count": null,
   "metadata": {
    "pycharm": {
     "is_executing": false,
     "name": "#%% md\n"
    }
   },
   "outputs": [],
   "source": []
  },
  {
   "cell_type": "code",
   "execution_count": null,
   "metadata": {
    "pycharm": {
     "is_executing": false,
     "name": "#%%\n"
    }
   },
   "outputs": [],
   "source": []
  },
  {
   "cell_type": "code",
   "execution_count": null,
   "metadata": {},
   "outputs": [],
   "source": []
  },
  {
   "cell_type": "code",
   "execution_count": null,
   "metadata": {},
   "outputs": [],
   "source": []
  },
  {
   "cell_type": "code",
   "execution_count": null,
   "metadata": {},
   "outputs": [],
   "source": []
  },
  {
   "cell_type": "code",
   "execution_count": null,
   "metadata": {},
   "outputs": [],
   "source": []
  }
 ],
 "metadata": {
  "kernelspec": {
   "display_name": "Python 3",
   "language": "python",
   "name": "python3"
  },
  "language_info": {
   "codemirror_mode": {
    "name": "ipython",
    "version": 3
   },
   "file_extension": ".py",
   "mimetype": "text/x-python",
   "name": "python",
   "nbconvert_exporter": "python",
   "pygments_lexer": "ipython3",
   "version": "3.8.5"
  },
  "pycharm": {
   "stem_cell": {
    "cell_type": "raw",
    "metadata": {
     "collapsed": false
    },
    "source": []
   }
  }
 },
 "nbformat": 4,
 "nbformat_minor": 1
}
