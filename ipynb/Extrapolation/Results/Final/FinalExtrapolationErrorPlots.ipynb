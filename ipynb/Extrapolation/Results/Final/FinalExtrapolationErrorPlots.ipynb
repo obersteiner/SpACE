{
 "cells": [
  {
   "cell_type": "code",
   "execution_count": null,
   "outputs": [],
   "source": [
    "import csv\n",
    "import matplotlib.pyplot as plt\n",
    "\n",
    "colormap = {\n",
    "    \"Gauss-Legendre Grid (Standard Combi) lmin=1\": \"tab:gray\",\n",
    "    \"Gauss-Legendre Grid (Standard Combi) lmin=2\": \"silver\",\n",
    "    \"Trapezoidal Grid (Standard Combi) lmin=1\": \"violet\",\n",
    "    \"Trapezoidal Grid (Standard Combi) lmin=2\": \"mediumpurple\",\n",
    "    \"Trapezoidal Grid\": \"red\",\n",
    "    \"Trapezoidal Grid (Rebalancing)\": \"royalblue\",\n",
    "    \"HighOrder Grid\": \"slategrey\",\n",
    "    \"Simpson Grid (Balanced)\": \"lightgreen\",\n",
    "    \"Balanced Extrapolation Grid\": \"blue\",\n",
    "    \"Extrapolation Grid (Unit, Romberg, Default Romberg)\": \"darkorange\",\n",
    "    \"Extrapolation Grid (Unit, Romberg, Default Romberg, Balanced)\": \"lime\",\n",
    "    \"Extrapolation Grid (Grouped, Romberg, Default Romberg)\": \"lightseagreen\",\n",
    "    \"Extrapolation Grid (Grouped, Romberg, Default Romberg, Balanced)\": \"purple\",\n",
    "    \"Extrapolation Grid (Grouped, Trapezoid, Default Romberg)\": \"gold\",\n",
    "    \"Extrapolation Grid (Grouped, Trapezoid, Default Romberg, Balanced)\": \"lightskyblue\",\n",
    "    \"Extrapolation Grid (Grouped Optimized, Romberg, Default Romberg)\": \"deeppink\",\n",
    "    \"Extrapolation Grid (Grouped Optimized, Romberg, Default Romberg, Balanced)\": \"forestgreen\",\n",
    "    \"Extrapolation Grid (Grouped Optimized, Trapezoid, Romberg, Balanced)\": \"tab:gray\",\n",
    "    \"Extrapolation Grid (Grouped Optimized, Romberg, Lagrange Romberg)\": \"indigo\",\n",
    "    \"Extrapolation Grid (Grouped Optimized, Romberg, Lagrange Full Romberg)\": \"darkkhaki\",\n",
    "    \"Extrapolation Grid (Grouped Optimized, Romberg, Simpson Romberg, Balanced)\": \"red\",\n",
    "}\n",
    "\n",
    "line_style_map = {\n",
    "    \"Gauss-Legendre Grid (Standard Combi) lmin=1\": \"--\",\n",
    "    \"Gauss-Legendre Grid (Standard Combi) lmin=2\": \"--\",\n",
    "    \"Trapezoidal Grid (Standard Combi) lmin=1\": \"--\",\n",
    "    \"Trapezoidal Grid (Standard Combi) lmin=2\": \"--\",\n",
    "    \"Trapezoidal Grid\": \"-.\",\n",
    "    \"Trapezoidal Grid (Rebalancing)\": \"-.\",\n",
    "    \"HighOrder Grid\": \":\",\n",
    "    \"Simpson Grid (Balanced)\": \":\",\n",
    "    \"Balanced Extrapolation Grid\": \"-\",\n",
    "    \"Extrapolation Grid (Unit, Romberg, Default Romberg)\": \"-\",\n",
    "    \"Extrapolation Grid (Unit, Romberg, Default Romberg, Balanced)\": \"-\",\n",
    "    \"Extrapolation Grid (Grouped, Romberg, Default Romberg)\": \"-\",\n",
    "    \"Extrapolation Grid (Grouped, Romberg, Default Romberg, Balanced)\": \"-\",\n",
    "    \"Extrapolation Grid (Grouped, Trapezoid, Default Romberg)\": \"-\",\n",
    "    \"Extrapolation Grid (Grouped, Trapezoid, Default Romberg, Balanced)\": \"-\",\n",
    "    \"Extrapolation Grid (Grouped Optimized, Romberg, Default Romberg)\": \"-\",\n",
    "    \"Extrapolation Grid (Grouped Optimized, Romberg, Default Romberg, Balanced)\": \"-\",\n",
    "    \"Extrapolation Grid (Grouped Optimized, Trapezoid, Romberg, Balanced)\": \"-\",\n",
    "    \"Extrapolation Grid (Grouped Optimized, Romberg, Lagrange Romberg)\": \"-\",\n",
    "    \"Extrapolation Grid (Grouped Optimized, Romberg, Lagrange Full Romberg)\": \"-\",\n",
    "    \"Extrapolation Grid (Grouped Optimized, Romberg, Simpson Romberg, Balanced)\": \"-\"\n",
    "}\n",
    "\n",
    "def plot_csv_data(import_filename, algorithm_subset=None, plot_filename=None, \n",
    "                  import_filepath=\"../\", export_filepath=\"./\", legend_title=None):\n",
    "    # Read\n",
    "    import_data = []\n",
    "    \n",
    "    # if not os.path.isfile(import_filepath):\n",
    "    #     raise RuntimeError(\"Import-File {}{}.csv does not exist.\".format(import_filepath, import_filename))\n",
    "        \n",
    "    with open(\"{}{}.csv\".format(import_filepath, import_filename), newline='') as csvfile:\n",
    "        csv_reader = csv.reader(csvfile, delimiter='|', quoting=csv.QUOTE_NONNUMERIC)\n",
    "    \n",
    "        buffer = []\n",
    "        \n",
    "        for row in csv_reader:\n",
    "            if len(row) > 0:\n",
    "                row_type = row[0]\n",
    "                row_data = row[1:]\n",
    "                \n",
    "                if row_type == \"name\":\n",
    "                    buffer.extend(row_data)\n",
    "                else:\n",
    "                    buffer.append(row_data)\n",
    "            else:\n",
    "                import_data.append(buffer)\n",
    "                buffer = []\n",
    "        \n",
    "        # Append last algorithm, if buffer is not empty.\n",
    "        # This is for example the case if there is no blank line at the bottom of the csv file \n",
    "        if len(buffer) > 0:\n",
    "            import_data.append(buffer)\n",
    "\n",
    "    # Plot    \n",
    "    fig = plt.figure(num=None, figsize=(8, 6), dpi=100, facecolor='w', edgecolor='w')\n",
    "    ax = fig.add_subplot(111)\n",
    "    \n",
    "    for name, num_points, error in import_data:\n",
    "        if algorithm_subset is not None and name not in algorithm_subset:\n",
    "            continue\n",
    "            \n",
    "        color = colormap[name]\n",
    "        line_style = line_style_map[name]\n",
    "\n",
    "        ax.loglog(num_points, error, line_style, color=color, label=name)\n",
    "    \n",
    "    if legend_title is not None:\n",
    "        ax.legend(bbox_to_anchor=(0., 1.02, 1., .102), loc='lower left',\n",
    "                   ncol=1, mode=\"expand\", borderaxespad=0., title=legend_title)\n",
    "        \n",
    "    ax.set_xlabel('Number of points')\n",
    "    ax.set_ylabel('Approximation error')\n",
    "    \n",
    "    if plot_filename is not None:\n",
    "        ax.figure.savefig(\"{}{}.pdf\".format(export_filepath, plot_filename), bbox_inches='tight', dpi=300)\n",
    "\n",
    "# Make legend https://stackoverflow.com/questions/4534480/get-legend-as-a-separate-picture-in-matplotlib\n",
    "import pylab\n",
    "import numpy as np\n",
    "\n",
    "def export_legend(algorithms, filename=\"legend\", export_filepath=\".\"):\n",
    "    figData = pylab.figure()\n",
    "    ax = pylab.gca()\n",
    "    x = np.arange(10)\n",
    "    \n",
    "    for i, algo in enumerate(algorithms):\n",
    "        pylab.plot(x, x * (i+1), line_style_map[algo], color=colormap[algo], label=algo)\n",
    "    \n",
    "    figlegend = pylab.figure()\n",
    "    figlegend.legend(*ax.get_legend_handles_labels(), loc=\"center\", mode=\"expand\", prop={'size': 9})\n",
    "    figlegend.show()\n",
    "    figlegend.savefig(\"{}/{}.pdf\".format(export_filepath, filename))\n",
    "\n",
    "function_names = [\n",
    "    \"FunctionExpVar\",\n",
    "    \"GenzC0\",\n",
    "    \"GenzCornerPeak\",\n",
    "    \"GenzDiscontinious\",\n",
    "    \"GenzGaussian\",\n",
    "    \"GenzOszillatory\",\n",
    "    \"GenzProductPeak\"\n",
    "]\n",
    "\n",
    "dim = 5\n",
    "directory = \"{}d/medium_hard\".format(dim)\n"
   ],
   "metadata": {
    "collapsed": false,
    "pycharm": {
     "name": "#%%\n",
     "is_executing": false
    }
   }
  },
  {
   "cell_type": "markdown",
   "source": [
    "# Full comparison"
   ],
   "metadata": {
    "collapsed": false
   }
  },
  {
   "cell_type": "code",
   "execution_count": null,
   "outputs": [],
   "source": [
    "function_names = [\n",
    "    \"FunctionExpVar\",\n",
    "    \"GenzC0\",\n",
    "    \"GenzCornerPeak\",\n",
    "    \"GenzDiscontinious\",\n",
    "    \"GenzGaussian\",\n",
    "    \"GenzOszillatory\",\n",
    "    \"GenzProductPeak\"\n",
    "]\n",
    "\n",
    "compare_algorithms = [\n",
    "    \"Gauss-Legendre Grid (Standard Combi) lmin=1\",\n",
    "    \"Gauss-Legendre Grid (Standard Combi) lmin=2\",\n",
    "    \n",
    "    \"Trapezoidal Grid (Standard Combi) lmin=1\",\n",
    "    \"Trapezoidal Grid (Standard Combi) lmin=2\",\n",
    "    \n",
    "    \"Trapezoidal Grid\",\n",
    "    \"Trapezoidal Grid (Rebalancing)\",\n",
    "    \n",
    "    \"HighOrder Grid\",\n",
    "    \"Simpson Grid (Balanced)\",\n",
    "    \n",
    "    # \"Balanced Extrapolation Grid\",\n",
    "    \n",
    "    \"Extrapolation Grid (Unit, Romberg, Default Romberg)\",\n",
    "    \"Extrapolation Grid (Unit, Romberg, Default Romberg, Balanced)\",\n",
    "    \n",
    "    \"Extrapolation Grid (Grouped, Romberg, Default Romberg)\",\n",
    "    \"Extrapolation Grid (Grouped, Romberg, Default Romberg, Balanced)\",\n",
    "    \n",
    "    # \"Extrapolation Grid (Grouped, Trapezoid, Default Romberg)\",\n",
    "    # \"Extrapolation Grid (Grouped, Trapezoid, Default Romberg, Balanced)\",\n",
    "    \n",
    "    \"Extrapolation Grid (Grouped Optimized, Romberg, Default Romberg)\",\n",
    "    \"Extrapolation Grid (Grouped Optimized, Romberg, Default Romberg, Balanced)\",\n",
    "    # \"Extrapolation Grid (Grouped Optimized, Trapezoid, Romberg, Balanced)\",\n",
    "    \n",
    "    \"Extrapolation Grid (Grouped Optimized, Romberg, Lagrange Romberg)\",\n",
    "    \"Extrapolation Grid (Grouped Optimized, Romberg, Lagrange Full Romberg)\",\n",
    "    \n",
    "    \"Extrapolation Grid (Grouped Optimized, Romberg, Simpson Romberg, Balanced)\"\n",
    "]\n",
    "\n",
    "for function_name in function_names:\n",
    "    import_filename = \"error_comparison_{}_{}d\".format(function_name, dim)\n",
    "\n",
    "    title = \"{} {}D\".format(function_name, dim) \n",
    "    plot_filename = \"error_comparison_{}_{}d\".format(function_name, dim)\n",
    "\n",
    "    print(\"Processing {}.csv ...\".format(import_filename))\n",
    "\n",
    "    plot_csv_data(import_filename,\n",
    "                  import_filepath=\"../{}/\".format(directory),\n",
    "                  export_filepath=\"./{}/\".format(directory),\n",
    "                  algorithm_subset=compare_algorithms,\n",
    "                  legend_title=None,\n",
    "                  plot_filename=plot_filename)\n",
    "\n",
    "export_legend(compare_algorithms, export_filepath=directory)\n"
   ],
   "metadata": {
    "collapsed": false,
    "pycharm": {
     "name": "#%%\n",
     "is_executing": false
    }
   }
  },
  {
   "cell_type": "markdown",
   "source": [
    "# Refinement tree balancing off/on "
   ],
   "metadata": {
    "collapsed": false
   }
  },
  {
   "cell_type": "code",
   "execution_count": null,
   "outputs": [],
   "source": [
    "algorithms = [\n",
    "    \"Gauss-Legendre Grid (Standard Combi) lmin=1\",\n",
    "    \"Gauss-Legendre Grid (Standard Combi) lmin=2\",\n",
    "    \n",
    "    \"Trapezoidal Grid\",\n",
    "    \"Trapezoidal Grid (Rebalancing)\",\n",
    "    \n",
    "    \"Extrapolation Grid (Unit, Romberg, Default Romberg)\",\n",
    "    \"Extrapolation Grid (Unit, Romberg, Default Romberg, Balanced)\",\n",
    "    \n",
    "    \"Extrapolation Grid (Grouped, Romberg, Default Romberg)\",\n",
    "    \"Extrapolation Grid (Grouped, Romberg, Default Romberg, Balanced)\",\n",
    "    \n",
    "    \"Extrapolation Grid (Grouped Optimized, Romberg, Default Romberg)\",\n",
    "    \"Extrapolation Grid (Grouped Optimized, Romberg, Default Romberg, Balanced)\",\n",
    "]\n",
    "export_path = \"./{}/balancing/\".format(directory)\n",
    "\n",
    "for function_name in function_names:\n",
    "    plot_csv_data(\"error_comparison_{}_{}d\".format(function_name, dim),\n",
    "                  import_filepath=\"../{}/\".format(directory),\n",
    "                  export_filepath=export_path,\n",
    "                  algorithm_subset=algorithms,\n",
    "                  legend_title=None,\n",
    "                  plot_filename=\"balancing_{}_{}d\".format(function_name, dim))\n",
    "\n",
    "export_legend(algorithms, export_filepath=export_path, filename=\"balancing_legend\")"
   ],
   "metadata": {
    "collapsed": false,
    "pycharm": {
     "name": "#%%\n",
     "is_executing": false
    }
   }
  },
  {
   "cell_type": "markdown",
   "source": [
    "# Comparison of slice grouping\n",
    " \n",
    "### Balanced"
   ],
   "metadata": {
    "collapsed": false
   }
  },
  {
   "cell_type": "code",
   "execution_count": null,
   "outputs": [],
   "source": [
    "algorithms = [\n",
    "    \"Gauss-Legendre Grid (Standard Combi) lmin=1\",\n",
    "    \"Gauss-Legendre Grid (Standard Combi) lmin=2\",\n",
    "      \n",
    "    \"Trapezoidal Grid\",\n",
    "    \"Trapezoidal Grid (Rebalancing)\",\n",
    "      \n",
    "    \"Extrapolation Grid (Unit, Romberg, Default Romberg, Balanced)\",\n",
    "    \n",
    "    \"Extrapolation Grid (Grouped, Romberg, Default Romberg, Balanced)\",\n",
    "    \n",
    "    \"Extrapolation Grid (Grouped Optimized, Romberg, Default Romberg, Balanced)\",\n",
    "]\n",
    "export_path = \"./{}/grouping/\".format(directory)\n",
    "\n",
    "for function_name in function_names:\n",
    "    plot_csv_data(\"error_comparison_{}_5d\".format(function_name),\n",
    "                  import_filepath=\"../{}/\".format(directory),\n",
    "                  export_filepath=export_path,\n",
    "                  algorithm_subset=algorithms,\n",
    "                  legend_title=None,\n",
    "                  plot_filename=\"balanced_grouping_{}_5d\".format(function_name))\n",
    "\n",
    "export_legend(algorithms, export_filepath=export_path, filename=\"balanced_grouping_legend\")"
   ],
   "metadata": {
    "collapsed": false,
    "pycharm": {
     "name": "#%%\n",
     "is_executing": false
    }
   }
  },
  {
   "cell_type": "markdown",
   "source": [
    "### Unbalanced "
   ],
   "metadata": {
    "collapsed": false
   }
  },
  {
   "cell_type": "code",
   "execution_count": null,
   "outputs": [],
   "source": [
    "for function_name in function_names:\n",
    "    plot_csv_data(\"error_comparison_{}_5d\".format(function_name),\n",
    "                  import_filepath=\"../{}/\".format(directory),\n",
    "                  export_filepath=\"./{}/grouping/\".format(directory),\n",
    "                  algorithm_subset=[\n",
    "                    \"Gauss-Legendre Grid (Standard Combi) lmin=1\",\n",
    "                    \"Gauss-Legendre Grid (Standard Combi) lmin=2\",\n",
    "                      \n",
    "                    \"Trapezoidal Grid\",\n",
    "                    \"Trapezoidal Grid (Rebalancing)\",\n",
    "                      \n",
    "                    \"Extrapolation Grid (Unit, Romberg, Default Romberg)\",\n",
    "                    \n",
    "                    \"Extrapolation Grid (Grouped, Romberg, Default Romberg)\",\n",
    "                    \n",
    "                    \"Extrapolation Grid (Grouped Optimized, Romberg, Default Romberg)\",\n",
    "                  ],\n",
    "                  legend_title=\"{} 5D\".format(function_name),\n",
    "                  plot_filename=\"unbalanced_grouping_{}_5d\".format(function_name))"
   ],
   "metadata": {
    "collapsed": false,
    "pycharm": {
     "name": "#%%\n",
     "is_executing": false
    }
   }
  },
  {
   "cell_type": "markdown",
   "source": [
    "# Interpolation: Full grid vs. adaptive"
   ],
   "metadata": {
    "collapsed": false
   }
  },
  {
   "cell_type": "code",
   "execution_count": null,
   "outputs": [],
   "source": [
    "algorithms = [\n",
    "    \"Gauss-Legendre Grid (Standard Combi) lmin=1\",\n",
    "    \"Gauss-Legendre Grid (Standard Combi) lmin=2\",\n",
    "      \n",
    "    \"Trapezoidal Grid\",\n",
    "    \"Trapezoidal Grid (Rebalancing)\",\n",
    "    \"Extrapolation Grid (Grouped Optimized, Romberg, Lagrange Romberg)\",\n",
    "    \"Extrapolation Grid (Grouped Optimized, Romberg, Lagrange Full Romberg)\",\n",
    "]\n",
    "export_path = \"./{}/interpolation/\".format(directory)\n",
    "\n",
    "for function_name in function_names:\n",
    "    plot_csv_data(\"error_comparison_{}_5d\".format(function_name),\n",
    "                  import_filepath=\"../{}/\".format(directory),\n",
    "                  export_filepath=export_path,\n",
    "                  algorithm_subset=algorithms,\n",
    "                  legend_title=None,\n",
    "                  plot_filename=\"lagrange_{}_5d\".format(function_name))\n",
    "    \n",
    "export_legend(algorithms, export_filepath=export_path, filename=\"lagrange_legend\")"
   ],
   "metadata": {
    "collapsed": false,
    "pycharm": {
     "name": "#%%\n",
     "is_executing": false
    }
   }
  },
  {
   "cell_type": "markdown",
   "source": [
    "# Interpolation vs. other extrapolation variants"
   ],
   "metadata": {
    "collapsed": false
   }
  },
  {
   "cell_type": "code",
   "execution_count": null,
   "outputs": [],
   "source": [
    "algorithms = [\"Gauss-Legendre Grid (Standard Combi) lmin=1\",\n",
    "              \"Gauss-Legendre Grid (Standard Combi) lmin=2\",\n",
    "    \n",
    "              \"Trapezoidal Grid\",\n",
    "              \"Trapezoidal Grid (Rebalancing)\",\n",
    "              \n",
    "              \"Extrapolation Grid (Unit, Romberg, Default Romberg, Balanced)\",\n",
    "              \"Extrapolation Grid (Grouped, Romberg, Default Romberg, Balanced)\",\n",
    "              \"Extrapolation Grid (Grouped Optimized, Romberg, Default Romberg, Balanced)\",\n",
    "                      \n",
    "              \"Extrapolation Grid (Grouped Optimized, Romberg, Lagrange Romberg)\",\n",
    "              \"Extrapolation Grid (Grouped Optimized, Romberg, Lagrange Full Romberg)\"]\n",
    "\n",
    "export_path = \"./{}/interpolation/\".format(directory)\n",
    "\n",
    "for function_name in function_names:\n",
    "    plot_csv_data(\"error_comparison_{}_5d\".format(function_name),\n",
    "                  import_filepath=\"../{}/\".format(directory),\n",
    "                  export_filepath=export_path,\n",
    "                  algorithm_subset=algorithms,\n",
    "                  legend_title=None,\n",
    "                  plot_filename=\"comparison_{}_5d\".format(function_name))\n",
    "    \n",
    "export_legend(algorithms, export_filepath=export_path, filename=\"comparison_legend\")"
   ],
   "metadata": {
    "collapsed": false,
    "pycharm": {
     "name": "#%%\n",
     "is_executing": false
    }
   }
  },
  {
   "cell_type": "markdown",
   "source": [
    "# Impact of unit slice extrapolation"
   ],
   "metadata": {
    "collapsed": false
   }
  },
  {
   "cell_type": "code",
   "execution_count": null,
   "outputs": [],
   "source": [
    "algorithms = [\n",
    "    \"Gauss-Legendre Grid (Standard Combi) lmin=1\",\n",
    "    \"Gauss-Legendre Grid (Standard Combi) lmin=2\",\n",
    "      \n",
    "    \"Trapezoidal Grid\",\n",
    "    \"Trapezoidal Grid (Rebalancing)\",\n",
    "    \"Extrapolation Grid (Grouped Optimized, Romberg, Default Romberg, Balanced)\",\n",
    "    \"Extrapolation Grid (Grouped Optimized, Trapezoid, Romberg, Balanced)\"\n",
    "]\n",
    "export_path = \"./{}/slices/\".format(directory)\n",
    "\n",
    "for function_name in function_names:\n",
    "    plot_csv_data(\"error_comparison_{}_5d\".format(function_name),\n",
    "                  import_filepath=\"../{}/\".format(directory),\n",
    "                  export_filepath=export_path,\n",
    "                  algorithm_subset=algorithms,\n",
    "                  legend_title=None,\n",
    "                  plot_filename=\"slice_version_{}_5d\".format(function_name))\n",
    "\n",
    "export_legend(algorithms, export_filepath=export_path, filename=\"slice_version_legend\")"
   ],
   "metadata": {
    "collapsed": false,
    "pycharm": {
     "name": "#%%\n",
     "is_executing": false
    }
   }
  },
  {
   "cell_type": "markdown",
   "source": [
    "# Comparison with other high order methods"
   ],
   "metadata": {
    "collapsed": false
   }
  },
  {
   "cell_type": "code",
   "execution_count": null,
   "outputs": [],
   "source": [
    "algorithms = [\n",
    "    \"Gauss-Legendre Grid (Standard Combi) lmin=1\",\n",
    "    \"Gauss-Legendre Grid (Standard Combi) lmin=2\",\n",
    "      \n",
    "    \"HighOrder Grid\",\n",
    "    # \"Balanced Extrapolation Grid\",\n",
    "    \n",
    "    \"Extrapolation Grid (Unit, Romberg, Default Romberg, Balanced)\",\n",
    "    \"Extrapolation Grid (Grouped Optimized, Romberg, Default Romberg, Balanced)\",\n",
    "]\n",
    "export_path = \"./{}/high_order/\".format(directory)\n",
    "\n",
    "for function_name in function_names:\n",
    "    plot_csv_data(\"error_comparison_{}_5d\".format(function_name),\n",
    "                  import_filepath=\"../{}/\".format(directory),\n",
    "                  export_filepath=export_path,\n",
    "                  algorithm_subset=algorithms,\n",
    "                  legend_title=None,\n",
    "                  plot_filename=\"high_order_{}_5d\".format(function_name))\n",
    "\n",
    "export_legend(algorithms, export_filepath=export_path, filename=\"high_order_legend\")\n"
   ],
   "metadata": {
    "collapsed": false,
    "pycharm": {
     "name": "#%%\n",
     "is_executing": false
    }
   }
  },
  {
   "cell_type": "markdown",
   "source": [
    "# Influence of the dimensionality"
   ],
   "metadata": {
    "collapsed": false
   }
  },
  {
   "cell_type": "code",
   "execution_count": null,
   "outputs": [],
   "source": [
    "function_names = [\n",
    "    # \"FunctionExpVar\",\n",
    "    \"GenzC0\",\n",
    "    # \"GenzCornerPeak\",\n",
    "    # \"GenzDiscontinious\",\n",
    "    \"GenzGaussian\",\n",
    "    \"GenzOszillatory\",\n",
    "    \"GenzProductPeak\"\n",
    "]\n",
    "\n",
    "algorithms = [\n",
    "    \"Gauss-Legendre Grid (Standard Combi) lmin=1\",\n",
    "    \"Gauss-Legendre Grid (Standard Combi) lmin=2\",\n",
    "      \n",
    "    \"Trapezoidal Grid\",\n",
    "    \"Trapezoidal Grid (Rebalancing)\",\n",
    "    \n",
    "    \"Extrapolation Grid (Unit, Romberg, Default Romberg, Balanced)\",\n",
    "    \n",
    "    \"Extrapolation Grid (Grouped, Romberg, Default Romberg, Balanced)\",\n",
    "    \n",
    "    \"Extrapolation Grid (Grouped Optimized, Romberg, Default Romberg, Balanced)\",\n",
    "    \n",
    "    \"Extrapolation Grid (Grouped Optimized, Romberg, Lagrange Romberg)\",\n",
    "    \"Extrapolation Grid (Grouped Optimized, Romberg, Lagrange Full Romberg)\"\n",
    "]\n",
    "export_path = \"./2d/medium_hard/\"\n",
    "\n",
    "for function_name in function_names:\n",
    "    plot_csv_data(\"error_comparison_{}_2d\".format(function_name),\n",
    "                  import_filepath=\"../2d/medium_hard/\",\n",
    "                  export_filepath=export_path,\n",
    "                  algorithm_subset=algorithms,\n",
    "                  legend_title=None,\n",
    "                  plot_filename=\"dimensionality_{}_2d\".format(function_name))\n",
    "\n",
    "export_legend(algorithms, export_filepath=export_path, filename=\"dimensionality_legend\")"
   ],
   "metadata": {
    "collapsed": false,
    "pycharm": {
     "name": "#%%\n",
     "is_executing": false
    }
   }
  }
 ],
 "metadata": {
  "kernelspec": {
   "name": "pycharm-fcc6cfaa",
   "language": "python",
   "display_name": "PyCharm (bachelorarbeit)"
  },
  "language_info": {
   "codemirror_mode": {
    "name": "ipython",
    "version": 2
   },
   "file_extension": ".py",
   "mimetype": "text/x-python",
   "name": "python",
   "nbconvert_exporter": "python",
   "pygments_lexer": "ipython2",
   "version": "2.7.6"
  },
  "pycharm": {
   "stem_cell": {
    "cell_type": "raw",
    "source": [],
    "metadata": {
     "collapsed": false
    }
   }
  }
 },
 "nbformat": 4,
 "nbformat_minor": 0
}