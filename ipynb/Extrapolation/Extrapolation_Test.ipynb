{
 "cells": [
  {
   "cell_type": "code",
   "execution_count": null,
   "metadata": {
    "pycharm": {
     "name": "#%%\n"
    }
   },
   "outputs": [],
   "source": [
    "from spatiallyAdaptiveSingleDimension2 import SpatiallyAdaptiveSingleDimensions2\n",
    "%matplotlib inline\n",
    "import matplotlib.pyplot as plt\n",
    "from sys import path\n",
    "import numpy as np\n",
    "\n",
    "#from numpy import *\n",
    "import scipy as sp\n",
    "\n",
    "from PerformTestCase import *\n",
    "from Function import *\n",
    "from ErrorCalculator import *\n",
    "import math\n",
    "\n",
    "# evaluation points for error estimation\n",
    "def evaluation_points(a, b, d):\n",
    "    # n_bins =  100 * np.ones(d)\n",
    "    # bounds = np.repeat([(0,1)], d, axis = 0) # TODO change to actual bounds\n",
    "    # grid = np.mgrid[[slice(row[0], row[1], n*1j) for row, n in zip(bounds, n_bins)]]\n",
    "    # return grid.reshape(d,-1).T\n",
    "\n",
    "    grid = np.meshgrid(*(np.linspace(a[i], b[i], 10) for i in range(len(a))))\n",
    "    points = list(zip(*(x.flat for x in grid)))\n",
    "\n",
    "    return points\n",
    "\n",
    "\n",
    "# shortcut for romberg SASD\n",
    "def get_single_dim_romberg(a, b, f, reference_solution,\n",
    "                           grid_version, coefficient_version, force_full_binary_tree_grid,\n",
    "                           optimized_container_splitting):\n",
    "    grid_romberg = GlobalRombergGrid(a=a, b=b, modified_basis=False, boundary=True,\n",
    "                                     grid_version=grid_version,\n",
    "                                     coefficient_version=coefficient_version,\n",
    "                                     optimized_container_splitting=optimized_container_splitting)\n",
    "\n",
    "    operation_romberg = Integration(f=f, grid=grid_romberg, dim=dim, reference_solution=reference_solution)\n",
    "\n",
    "    return SpatiallyAdaptiveSingleDimensions2(a, b, operation=operation_romberg, rebalancing=False,\n",
    "                                              force_full_binary_tree_grid=force_full_binary_tree_grid)\n",
    "\n",
    "# Settings\n",
    "dim = 5\n",
    "a = np.zeros(dim)\n",
    "b = np.ones(dim)\n",
    "max_tol = 8\n",
    "max_evaluations = 10 ** 5\n",
    "evaluation_points = evaluation_points(a, b, dim)\n",
    "print(evaluation_points)\n",
    "\n",
    "# --- Smooth functions\n",
    "\n",
    "# coeffs = np.ones(dim)\n",
    "# midpoint = np.ones(dim) * 0.5\n",
    "# f = GenzProductPeak(coeffs, midpoint)\n",
    "\n",
    "# coeffs = np.ones(dim)\n",
    "# f = GenzCornerPeak(coeffs=coeffs)\n",
    "\n",
    "# coeffs = np.ones(dim)\n",
    "# offset = 1\n",
    "# f = GenzOszillatory(coeffs, offset)\n",
    "\n",
    "# coeffs = np.ones(dim)\n",
    "# midpoint = np.ones(dim) * 0.5\n",
    "# f = GenzGaussian(coeffs, midpoint)\n",
    "\n",
    "# --- Genz discontinuous\n",
    "\n",
    "midpoint = np.ones(dim) * 0.5\n",
    "coefficients = np.array([10**0 * (d+1) for d in range(dim)])\n",
    "\n",
    "f = GenzDiscontinious(border=midpoint,coeffs=coefficients)\n",
    "# f = GenzDiscontinious2(border=midpoint,coeffs=coefficients)\n",
    "\n",
    "# Plot\n",
    "f.plot(np.ones(dim)*a,np.ones(dim)*b)\n",
    "reference_solution = f.getAnalyticSolutionIntegral(a,b)\n",
    "\n",
    "# Trapezoidal Grid\n",
    "grid_trapezoidal = GlobalTrapezoidalGrid(a=a, b=b, modified_basis=False, boundary=True)\n",
    "operation_trapezoidal = Integration(f=f, grid=grid_trapezoidal, dim=dim, reference_solution=reference_solution)\n",
    "SASD_trapezoidal = SpatiallyAdaptiveSingleDimensions2(a, b,\n",
    "                                                            operation=operation_trapezoidal, rebalancing=False,\n",
    "                                                            force_full_binary_tree_grid=False)\n",
    "\n",
    "errorOperator = ErrorCalculatorSingleDimVolumeGuided()\n",
    "\n",
    "# grid for error estimation\n",
    "grid = TrapezoidalGrid(a, b, boundary=True)"
   ]
  },
  {
   "cell_type": "markdown",
   "metadata": {},
   "source": [
    "Unit Slices"
   ]
  },
  {
   "cell_type": "code",
   "execution_count": null,
   "metadata": {
    "pycharm": {
     "name": "#%%\n"
    }
   },
   "outputs": [],
   "source": [
    "r_unit = get_single_dim_romberg(a, b, f, reference_solution,\n",
    "                                grid_version=RombergGridVersion.UNIT_SLICES,\n",
    "                                coefficient_version=ExtrapolationCoefficientVersion.ROMBERG,\n",
    "                                force_full_binary_tree_grid=False,\n",
    "                                optimized_container_splitting=False)\n",
    "\n",
    "r_full_binary_unit = get_single_dim_romberg(a, b, f, reference_solution,\n",
    "                                            grid_version=RombergGridVersion.UNIT_SLICES,\n",
    "                                            coefficient_version=ExtrapolationCoefficientVersion.ROMBERG,\n",
    "                                            force_full_binary_tree_grid=True,\n",
    "                                            optimized_container_splitting=False)\n",
    "\n",
    "algorithmArray = [\n",
    "    (SASD_trapezoidal, 1, 2, errorOperator, 'Trapezoidal Grid.'),\n",
    "    (r_unit, 1, 2, errorOperator, 'RombergGrid (Unit).'),\n",
    "    (r_full_binary_unit, 1, 2, errorOperator, 'RombergGrid (Full, Unit).'),\n",
    "]\n",
    "performTestcaseArbitraryDim(f, a, b, algorithmArray,\n",
    "                            max_tol, dim, 2, grid=grid, evaluation_points=evaluation_points,\n",
    "                            max_evaluations=max_evaluations,\n",
    "                            save_with_name=\"unit_slices\"\n",
    "                            )"
   ]
  },
  {
   "cell_type": "markdown",
   "metadata": {},
   "source": [
    "Slice Grouping"
   ]
  },
  {
   "cell_type": "code",
   "execution_count": null,
   "metadata": {
    "pycharm": {
     "name": "#%%\n"
    }
   },
   "outputs": [],
   "source": [
    "r_grouped = get_single_dim_romberg(a, b, f, reference_solution,\n",
    "                                   grid_version=RombergGridVersion.GROUPED_SLICES,\n",
    "                                   coefficient_version=ExtrapolationCoefficientVersion.ROMBERG,\n",
    "                                   force_full_binary_tree_grid=False,\n",
    "                                   optimized_container_splitting=False)\n",
    "\n",
    "r_full_binary_grouped = get_single_dim_romberg(a, b, f, reference_solution,\n",
    "                                               grid_version=RombergGridVersion.GROUPED_SLICES,\n",
    "                                               coefficient_version=ExtrapolationCoefficientVersion.ROMBERG,\n",
    "                                               force_full_binary_tree_grid=True,\n",
    "                                               optimized_container_splitting=False)\n",
    "\n",
    "algorithmArray = [\n",
    "    (SASD_trapezoidal, 1, 2, errorOperator, 'Trapezoidal Grid.'),\n",
    "    (r_grouped, 1, 2, errorOperator, 'RombergGrid (Grouped).'),\n",
    "    (r_full_binary_grouped, 1, 2, errorOperator, 'RombergGrid (Full, Grouped).'),\n",
    "]\n",
    "\n",
    "performTestcaseArbitraryDim(f, a, b, algorithmArray,\n",
    "                            max_tol, dim, 2, grid=grid, evaluation_points=evaluation_points,\n",
    "                            max_evaluations=max_evaluations,\n",
    "                            save_with_name=\"grouped_slices\"\n",
    "                            )\n"
   ]
  },
  {
   "cell_type": "markdown",
   "metadata": {},
   "source": [
    "Optimized slice grouping"
   ]
  },
  {
   "cell_type": "code",
   "execution_count": null,
   "metadata": {
    "pycharm": {
     "name": "#%%\n"
    }
   },
   "outputs": [],
   "source": [
    "r_grouped_optimized = get_single_dim_romberg(a, b, f, reference_solution,\n",
    "                                   grid_version=RombergGridVersion.GROUPED_SLICES,\n",
    "                                   coefficient_version=ExtrapolationCoefficientVersion.ROMBERG,\n",
    "                                   force_full_binary_tree_grid=False,\n",
    "                                   optimized_container_splitting=True)\n",
    "\n",
    "r_full_binary_grouped_optimized = get_single_dim_romberg(a, b, f, reference_solution,\n",
    "                                               grid_version=RombergGridVersion.GROUPED_SLICES,\n",
    "                                               coefficient_version=ExtrapolationCoefficientVersion.ROMBERG,\n",
    "                                               force_full_binary_tree_grid=True,\n",
    "                                               optimized_container_splitting=True)\n",
    "\n",
    "algorithmArray = [\n",
    "    (SASD_trapezoidal, 1, 2, errorOperator, 'Trapezoidal Grid.'),\n",
    "    (r_grouped_optimized, 1, 2, errorOperator, 'RombergGrid (Grouped, Optimized).'),\n",
    "    (r_full_binary_grouped_optimized, 1, 2, errorOperator, 'RombergGrid (Full, Grouped, Optimized).'),\n",
    "]\n",
    "\n",
    "performTestcaseArbitraryDim(f, a, b, algorithmArray,\n",
    "                            max_tol, dim, 2, grid=grid, evaluation_points=evaluation_points,\n",
    "                            max_evaluations=max_evaluations,\n",
    "                            save_with_name=\"grouped_slices_optimized\"\n",
    "                            )\n"
   ]
  },
  {
   "cell_type": "markdown",
   "metadata": {},
   "source": [
    "Slice Grouping Trapezoidal Coefficients"
   ]
  },
  {
   "cell_type": "code",
   "execution_count": null,
   "metadata": {
    "pycharm": {
     "name": "#%%\n"
    }
   },
   "outputs": [],
   "source": [
    "r_full_binary_slice = get_single_dim_romberg(a, b, f, reference_solution,\n",
    "                                             grid_version=RombergGridVersion.UNIT_SLICES,\n",
    "                                             coefficient_version=ExtrapolationCoefficientVersion.TRAPEZOIDAL_SLICE,\n",
    "                                             force_full_binary_tree_grid=True,\n",
    "                                             optimized_container_splitting=False)\n",
    "\n",
    "algorithmArray = [\n",
    "    (SASD_trapezoidal, 1, 2, errorOperator, 'Trapezoidal Grid.'),\n",
    "    (r_full_binary_slice, 1, 2, errorOperator, 'RombergGrid (Full, Unit, Trapezoidal).'),\n",
    "]\n",
    "\n",
    "performTestcaseArbitraryDim(f, a, b, algorithmArray,\n",
    "                            max_tol, dim, 2, grid=grid, evaluation_points=evaluation_points,\n",
    "                            max_evaluations=max_evaluations,\n",
    "                            save_with_name=\"unit_slices_trapezoidal\"\n",
    "                            )"
   ]
  }
 ],
 "metadata": {
  "kernelspec": {
   "display_name": "PyCharm (sparseSpACE)",
   "language": "python",
   "name": "pycharm-4d8d33d1"
  },
  "language_info": {
   "codemirror_mode": {
    "name": "ipython",
    "version": 3
   },
   "file_extension": ".py",
   "mimetype": "text/x-python",
   "name": "python",
   "nbconvert_exporter": "python",
   "pygments_lexer": "ipython3",
   "version": "3.6.9"
  }
 },
 "nbformat": 4,
 "nbformat_minor": 1
}