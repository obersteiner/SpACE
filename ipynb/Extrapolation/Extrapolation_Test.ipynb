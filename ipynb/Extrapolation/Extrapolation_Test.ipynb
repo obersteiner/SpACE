{
 "cells": [
  {
   "cell_type": "code",
   "execution_count": null,
   "metadata": {
    "pycharm": {
     "name": "#%%\n"
    }
   },
   "outputs": [],
   "source": [
    "from spatiallyAdaptiveSingleDimension2 import SpatiallyAdaptiveSingleDimensions2\n",
    "%matplotlib inline\n",
    "import matplotlib.pyplot as plt\n",
    "from sys import path\n",
    "import numpy as np\n",
    "\n",
    "#from numpy import *\n",
    "import scipy as sp\n",
    "\n",
    "from PerformTestCase import *\n",
    "from Function import *\n",
    "from ErrorCalculator import *\n",
    "import math\n",
    "\n",
    "# evaluation points for error estimation\n",
    "def evaluation_points(a, b, d):\n",
    "    grid = np.meshgrid(*(np.linspace(a[i], b[i], 10) for i in range(len(a))))\n",
    "    points = list(zip(*(x.flat for x in grid)))\n",
    "\n",
    "    return points\n",
    "\n",
    "\n",
    "# shortcut for romberg SASD\n",
    "def get_single_dim_romberg(a, b, f, reference_solution,\n",
    "                           slice_grouping, slice_version, container_version,\n",
    "                           force_full_binary_tree_grid):\n",
    "    grid_romberg = GlobalRombergGrid(a=a, b=b, modified_basis=False, boundary=True,\n",
    "                                     slice_grouping=slice_grouping,\n",
    "                                     slice_version=slice_version,\n",
    "                                     container_version=container_version)\n",
    "\n",
    "    operation_romberg = Integration(f=f, grid=grid_romberg, dim=dim, reference_solution=reference_solution)\n",
    "\n",
    "    return SpatiallyAdaptiveSingleDimensions2(a, b, operation=operation_romberg, rebalancing=False,\n",
    "                                              force_full_binary_tree_grid=force_full_binary_tree_grid)\n",
    "\n",
    "# Settings\n",
    "dim = 2\n",
    "a = np.zeros(dim)\n",
    "b = np.ones(dim)\n",
    "max_tol = 20  # set to max, for better comparison\n",
    "max_evaluations = 10 ** 2\n",
    "evaluation_points = evaluation_points(a, b, dim)\n",
    "\n",
    "# --- Smooth functions\n",
    "\n",
    "# coeffs = np.ones(dim)\n",
    "# midpoint = np.ones(dim) * 0.5\n",
    "# f = GenzProductPeak(coeffs, midpoint)\n",
    "\n",
    "coeffs = np.ones(dim)\n",
    "f = GenzCornerPeak(coeffs=coeffs)\n",
    "\n",
    "# coeffs = np.ones(dim)\n",
    "# offset = 1\n",
    "# f = GenzOszillatory(coeffs, offset)\n",
    "\n",
    "# coeffs = np.ones(dim)\n",
    "# midpoint = np.ones(dim) * 0.5\n",
    "# f = GenzGaussian(coeffs, midpoint)\n",
    "\n",
    "# --- Genz discontinuous\n",
    "\n",
    "# midpoint = np.ones(dim) * 0.5\n",
    "# coefficients = np.array([10**0 * (d+1) for d in range(dim)])\n",
    "\n",
    "# f = GenzDiscontinious(border=midpoint,coeffs=coefficients)\n",
    "# f = GenzDiscontinious2(border=midpoint,coeffs=coefficients)\n",
    "\n",
    "# Plot\n",
    "f.plot(np.ones(dim)*a,np.ones(dim)*b)\n",
    "reference_solution = f.getAnalyticSolutionIntegral(a,b)\n",
    "\n",
    "# Trapezoidal Grid\n",
    "grid_trapezoidal = GlobalTrapezoidalGrid(a=a, b=b, modified_basis=False, boundary=True)\n",
    "operation_trapezoidal = Integration(f=f, grid=grid_trapezoidal, dim=dim, reference_solution=reference_solution)\n",
    "trapezoidal = SpatiallyAdaptiveSingleDimensions2(a, b, operation=operation_trapezoidal, rebalancing=False,\n",
    "                                                 force_full_binary_tree_grid=False)\n",
    "errorOperator = ErrorCalculatorSingleDimVolumeGuided()\n",
    "\n",
    "# grids for standard combi\n",
    "grid = TrapezoidalGrid(a, b, boundary=True)\n",
    "grid_gauss = GaussLegendreGrid(a=a, b=b)"
   ]
  },
  {
   "cell_type": "markdown",
   "metadata": {},
   "source": [
    "Unit Slices"
   ]
  },
  {
   "cell_type": "code",
   "execution_count": null,
   "metadata": {
    "pycharm": {
     "name": "#%%\n"
    }
   },
   "outputs": [],
   "source": [
    "r_unit = get_single_dim_romberg(a, b, f, reference_solution,\n",
    "                                slice_grouping=SliceGrouping.UNIT,\n",
    "                                slice_version=SliceVersion.ROMBERG_DEFAULT,\n",
    "                                container_version=SliceContainerVersion.ROMBERG_DEFAULT,\n",
    "                                force_full_binary_tree_grid=False)\n",
    "\n",
    "r_full_unit = get_single_dim_romberg(a, b, f, reference_solution,\n",
    "                                     slice_grouping=SliceGrouping.UNIT,\n",
    "                                     slice_version=SliceVersion.ROMBERG_DEFAULT,\n",
    "                                     container_version=SliceContainerVersion.ROMBERG_DEFAULT,\n",
    "                                     force_full_binary_tree_grid=True)\n",
    "\n",
    "r_trapezoidal = get_single_dim_romberg(a, b, f, reference_solution,\n",
    "                                       slice_grouping=SliceGrouping.UNIT,\n",
    "                                       slice_version=SliceVersion.TRAPEZOID,\n",
    "                                       container_version=SliceContainerVersion.ROMBERG_DEFAULT,\n",
    "                                       force_full_binary_tree_grid=False)"
   ]
  },
  {
   "cell_type": "markdown",
   "metadata": {},
   "source": [
    "Slice Grouping"
   ]
  },
  {
   "cell_type": "code",
   "execution_count": null,
   "metadata": {
    "pycharm": {
     "name": "#%%\n"
    }
   },
   "outputs": [],
   "source": [
    "r_grouped = get_single_dim_romberg(a, b, f, reference_solution,\n",
    "                                   slice_grouping=SliceGrouping.GROUPED,\n",
    "                                   slice_version=SliceVersion.ROMBERG_DEFAULT,\n",
    "                                   container_version=SliceContainerVersion.ROMBERG_DEFAULT,\n",
    "                                   force_full_binary_tree_grid=False)\n",
    "\n",
    "r_full_grouped = get_single_dim_romberg(a, b, f, reference_solution,\n",
    "                                        slice_grouping=SliceGrouping.GROUPED,\n",
    "                                        slice_version=SliceVersion.ROMBERG_DEFAULT,\n",
    "                                        container_version=SliceContainerVersion.ROMBERG_DEFAULT,\n",
    "                                        force_full_binary_tree_grid=True)"
   ]
  },
  {
   "cell_type": "markdown",
   "metadata": {},
   "source": [
    "Optimized slice grouping"
   ]
  },
  {
   "cell_type": "code",
   "execution_count": null,
   "metadata": {
    "pycharm": {
     "name": "#%%\n"
    }
   },
   "outputs": [],
   "source": [
    "r_grouped_optimized = get_single_dim_romberg(a, b, f, reference_solution,\n",
    "                                             slice_grouping=SliceGrouping.GROUPED_OPTIMIZED,\n",
    "                                             slice_version=SliceVersion.ROMBERG_DEFAULT,\n",
    "                                             container_version=SliceContainerVersion.ROMBERG_DEFAULT,\n",
    "                                             force_full_binary_tree_grid=False)\n",
    "\n",
    "r_full_grouped_optimized = get_single_dim_romberg(a, b, f, reference_solution,\n",
    "                                                  slice_grouping=SliceGrouping.GROUPED_OPTIMIZED,\n",
    "                                                  slice_version=SliceVersion.ROMBERG_DEFAULT,\n",
    "                                                  container_version=SliceContainerVersion.ROMBERG_DEFAULT,\n",
    "                                                  force_full_binary_tree_grid=True)"
   ]
  },
  {
   "cell_type": "markdown",
   "metadata": {},
   "source": [
    "Unit Slices with sliced Romberg"
   ]
  },
  {
   "cell_type": "code",
   "execution_count": null,
   "metadata": {
    "pycharm": {
     "name": "#%%\n"
    }
   },
   "outputs": [],
   "source": [
    "\n",
    "r_unit_sliced = get_single_dim_romberg(a, b, f, reference_solution,\n",
    "                                       slice_grouping=SliceGrouping.UNIT,\n",
    "                                       slice_version=SliceVersion.ROMBERG_SLICED,\n",
    "                                       container_version=SliceContainerVersion.ROMBERG_DEFAULT,\n",
    "                                       force_full_binary_tree_grid=False)\n",
    "\n",
    "r_full_unit_sliced = get_single_dim_romberg(a, b, f, reference_solution,\n",
    "                                            slice_grouping=SliceGrouping.UNIT,\n",
    "                                            slice_version=SliceVersion.ROMBERG_SLICED,\n",
    "                                            container_version=SliceContainerVersion.ROMBERG_DEFAULT,\n",
    "                                            force_full_binary_tree_grid=True)"
   ]
  },
  {
   "cell_type": "markdown",
   "source": [
    "Compare all variants"
   ],
   "metadata": {
    "collapsed": false
   }
  },
  {
   "cell_type": "code",
   "execution_count": null,
   "outputs": [],
   "source": [
    "algorithmArray = [\n",
    "    (trapezoidal, 1, 2, errorOperator, 'Trapezoidal Grid'),\n",
    "\n",
    "    # (r_trapezoidal, 1, 2, errorOperator, 'Romberg Grid (Unit, Trapezoid)'),\n",
    "\n",
    "    # (r_unit, 1, 2, errorOperator, 'Romberg Grid (Unit, Default)'),\n",
    "    (r_full_unit, 1, 2, errorOperator, 'Romberg Grid (Full, Unit, Default)'),\n",
    "\n",
    "    # (r_unit_sliced, 1, 2, errorOperator, 'Romberg Grid (Unit, Sliced)'),\n",
    "    # (r_full_unit_sliced, 1, 2, errorOperator, 'Romberg Grid (Full, Unit, Sliced)'),\n",
    "\n",
    "    # (r_grouped, 1, 2, errorOperator, 'Romberg Grid (Grouped, Default)'),\n",
    "    (r_full_grouped, 1, 2, errorOperator, 'Romberg Grid (Full, Grouped, Default)'),\n",
    "\n",
    "    # TODO check code of optimized\n",
    "    # (r_grouped_optimized, 1, 2, errorOperator, 'RombergGrid (Grouped Optimized, Default)'),\n",
    "    # (r_full_grouped_optimized, 1, 2, errorOperator, 'RombergGrid (Full, Grouped Optimized, Default)'),\n",
    "]\n",
    "\n",
    "performTestcaseArbitraryDim(f, a, b, algorithmArray,\n",
    "                            max_tol, dim, 6, grid=grid_gauss, evaluation_points=evaluation_points,\n",
    "                            max_evaluations=max_evaluations,\n",
    "                            save_with_name=\"full_comparison\",\n",
    "                            calc_standard_schemes=True, # enable for standard schemes\n",
    "                            minLmin=1,\n",
    "                            maxLmin=3,\n",
    "                            standard_combi_grid_name=\"Gauss-Legendre Grid\"\n",
    "                            )"
   ],
   "metadata": {
    "collapsed": false,
    "pycharm": {
     "name": "#%%\n"
    }
   }
  }
 ],
 "metadata": {
  "kernelspec": {
   "display_name": "PyCharm (sparseSpACE)",
   "language": "python",
   "name": "pycharm-4d8d33d1"
  },
  "language_info": {
   "codemirror_mode": {
    "name": "ipython",
    "version": 3
   },
   "file_extension": ".py",
   "mimetype": "text/x-python",
   "name": "python",
   "nbconvert_exporter": "python",
   "pygments_lexer": "ipython3",
   "version": "3.6.9"
  }
 },
 "nbformat": 4,
 "nbformat_minor": 1
}