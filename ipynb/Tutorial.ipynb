{
 "cells": [
  {
   "cell_type": "markdown",
   "metadata": {},
   "source": [
    "# General"
   ]
  },
  {
   "cell_type": "markdown",
   "metadata": {},
   "source": [
    "The spatially-adaptive-combi framework aims at providing a generalized interface for calculating the Combination Technique with spatial adaptive strategies.\n",
    "\n",
    "Currently this is restricted to the calculation of an integral over a function $f$:\n",
    "\n",
    "$$\\int_{x \\in D} f(x) dx$$\n",
    "\n",
    "where $x$ is an d-dimensional vector and D is the d-dimensional Domain which is defined by the lower bound $a$ and the upper bound $b$. Usually one defines $D=[0,1]^d$ but other rectangular domains are also possible."
   ]
  },
  {
   "cell_type": "markdown",
   "metadata": {},
   "source": [
    "# Functions"
   ]
  },
  {
   "cell_type": "markdown",
   "metadata": {},
   "source": [
    "So let's first look at the pre-defined functions that we can use in the framework. All implemented funcitons can be found in Functions.py and they typically offer the functionality to evaluate the function at a certain point and to return the analytic integral value for a specified domain. Furthermore plotting a function is already available directly in the framework. So let's try one of the functions namely $GenzCornerPeak$."
   ]
  },
  {
   "cell_type": "code",
   "execution_count": null,
   "metadata": {},
   "outputs": [],
   "source": [
    "%matplotlib inline\n",
    "from sys import path\n",
    "path.append('../src/')\n",
    "\n",
    "from Function import *\n",
    "import numpy as np\n",
    "dim = 2\n",
    "coeffs = np.ones(dim)\n",
    "a = np.zeros(dim)\n",
    "b = np.ones(dim)\n",
    "f = GenzCornerPeak(coeffs=coeffs)\n",
    "f.plot(a, b)\n",
    "print(\"The function value at (0,0.5) is\", f.eval((0,0.5)))\n",
    "print(\"The analytical integral value in the Domain [0,1]^d is\", \n",
    "      f.getAnalyticSolutionIntegral(np.zeros(dim), np.ones(dim)))"
   ]
  },
  {
   "cell_type": "markdown",
   "metadata": {},
   "source": [
    "There are many more functions pre-defined in Function.py. It is also possible to compose functions and create combined and scaled functions."
   ]
  },
  {
   "cell_type": "markdown",
   "metadata": {},
   "source": [
    "# Standard Combination Technique"
   ]
  },
  {
   "cell_type": "markdown",
   "metadata": {},
   "source": [
    "So now let's first look at the Truncated Combination Technique with a predefined maximum und minimum level and let's integrate the GenzCornerPeak from before with it. For this purpose we also have to select a grid on which we want to perform the combi. We will use here the equidistant Trapezoidal grid that applies the trapezoidal rule to integrate the function. There are more grids available such as Leja, Clenshaw-Curtis, Gauss-Legendre..."
   ]
  },
  {
   "cell_type": "code",
   "execution_count": null,
   "metadata": {},
   "outputs": [],
   "source": [
    "%matplotlib inline\n",
    "from sys import path\n",
    "path.append('../src/')\n",
    "from Function import *\n",
    "from StandardCombi import *\n",
    "from Grid import *\n",
    "import numpy as np\n",
    "dim = 2\n",
    "coeffs = np.ones(dim)\n",
    "a = np.zeros(dim)\n",
    "b = np.ones(dim)\n",
    "grid = TrapezoidalGrid(a=a, b=b, boundary=True)\n",
    "f = GenzCornerPeak(coeffs=coeffs)\n",
    "# NEW! define operation which shall be performed in the combination technique\n",
    "from GridOperation import *\n",
    "operation = Integration(f=f, grid=grid, dim=dim, reference_solution = f.getAnalyticSolutionIntegral(a,b))\n",
    "combiObject = StandardCombi(a, b, operation=operation)\n",
    "minimum_level = 1\n",
    "maximum_level = 4\n",
    "combiObject.perform_operation(minimum_level, maximum_level)\n",
    "print(\"Combination Scheme:\")\n",
    "combiObject.print_resulting_combi_scheme(markersize=5)\n",
    "print(\"Sparse Grid:\")\n",
    "combiObject.print_resulting_sparsegrid(markersize=10)\n",
    "print(\"Plot of combimodel for function:\")\n",
    "combiObject.plot()\n"
   ]
  },
  {
   "cell_type": "markdown",
   "metadata": {},
   "source": [
    "The output shows the combination Scheme that is used which defines the level vectors and the coefficients of the grids. Then the solution of the combination integral is listed followed by the analytic solution and the absolute error. Finally the graphical plot of the combination scheme and the resulting sparse grid is shown."
   ]
  },
  {
   "cell_type": "markdown",
   "metadata": {},
   "source": [
    "# Dimension Adaptive Combination Technique"
   ]
  },
  {
   "cell_type": "markdown",
   "metadata": {},
   "source": [
    "An often used variant of the Standard Combination Technique is the dimension adaptive Combination Technique. An implementation which applies this method is now available within the framework. It is called similarly to the Standard Combination Technique but now we also have to define a tolerance to indicate how long we want to adapt the scheme. The adaptation stops once the relative error of the integration falls below this tolerance threshold."
   ]
  },
  {
   "cell_type": "code",
   "execution_count": null,
   "metadata": {},
   "outputs": [],
   "source": [
    "%matplotlib inline\n",
    "from sys import path\n",
    "path.append('../src/')\n",
    "from Function import *\n",
    "from DimAdaptiveCombi import *\n",
    "from Grid import *\n",
    "import numpy as np\n",
    "dim = 2\n",
    "coeffs = [1, 100]\n",
    "a = np.zeros(dim)\n",
    "b = np.ones(dim)\n",
    "grid = TrapezoidalGrid(a=a, b=b)\n",
    "f = GenzCornerPeak(coeffs=coeffs)\n",
    "from GridOperation import *\n",
    "operation = Integration(f=f, grid=grid, dim=dim, reference_solution = f.getAnalyticSolutionIntegral(a,b))\n",
    "combiObject = DimAdaptiveCombi(a, b, operation)\n",
    "minimum_level = 1\n",
    "maximum_level = 2\n",
    "combiObject.perform_combi(minimum_level, maximum_level, 10**-3)\n",
    "combiObject.print_resulting_combi_scheme(markersize=5)\n",
    "combiObject.print_resulting_sparsegrid(markersize=10)"
   ]
  },
  {
   "cell_type": "markdown",
   "metadata": {},
   "source": [
    "# SpatiallyAdaptiveCombi"
   ]
  },
  {
   "cell_type": "markdown",
   "metadata": {},
   "source": [
    "Now we come to the core element of this framework: The spatially adaptive Combination Technique. Here several techniques are implemented and can be tested for all test functions. After configuring the grid, the function, and the dimension we need to create the object for the respective strategy (currently we have the $\\textit{SpatiallyAdaptiveFixedScheme}$, the $SpatiallyAdaptiveExtendScheme$, the $SpatiallyAdaptiveCellScheme$ and the  $SpatiallyAdaptiveSingleDimensions$). The different Schemes have different configuration parameters one can choose. For further information have a look in the respective class file. The calling conventions for the spatially adaptive combi slightly differe from those of the standard combis and also include and $errorOperator$ which controls the error estimations and we also have the oportunity to plot the sparse grid and the combination scheme after each refinement step by setting $do\\_plot$ to $true$. In the following we will demonstrate the refinement for to schemes including the respective plots."
   ]
  },
  {
   "cell_type": "code",
   "execution_count": null,
   "metadata": {},
   "outputs": [],
   "source": [
    "%matplotlib inline\n",
    "from sys import path\n",
    "path.append('../src/')\n",
    "import numpy as np\n",
    "from spatiallyAdaptiveCell import *\n",
    "from Function import *\n",
    "from ErrorCalculator import *\n",
    "\n",
    "#dimension of the problem\n",
    "dim = 2\n",
    "\n",
    "# define integration domain boundaries\n",
    "a = np.zeros(dim)\n",
    "b = np.ones(dim)\n",
    "\n",
    "# define function to be integrated\n",
    "midpoint = np.ones(dim) * 0.5\n",
    "coefficients = np.array([ 10**0 * (d+1) for d in range(dim)])\n",
    "f = GenzDiscontinious(border=midpoint,coeffs=coefficients)\n",
    "# plot function\n",
    "f.plot(np.ones(dim)*a,np.ones(dim)*b)\n",
    "\n",
    "# reference integral solution for calculating errors\n",
    "reference_solution = f.getAnalyticSolutionIntegral(a,b)\n",
    "\n",
    "# define error estimator for refinement\n",
    "errorOperator=ErrorCalculatorSurplusCell()\n",
    "\n",
    "# define equidistant grid\n",
    "grid=TrapezoidalGrid(a=a, b=b)\n",
    "\n",
    "# NEW! define operation which shall be performed in the combination technique\n",
    "from GridOperation import *\n",
    "operation = Integration(f=f, grid=grid, dim=dim, reference_solution = reference_solution)\n",
    "\n",
    "# define Cell refinement strategy for Spatially Adaptive Combination Technique\n",
    "adaptiveCombiInstanceCell = SpatiallyAdaptiveCellScheme(a, b, operation=operation)\n",
    "\n",
    "# the cell method does not have component grids and therefore the sparse grid is printed twice per iteration!\n",
    "# performing the spatially adaptive refinement with the Cell method\n",
    "adaptiveCombiInstanceCell.performSpatiallyAdaptiv(2, 2, errorOperator, 10**-2, do_plot=True)\n",
    "\n",
    "print(\"Number of points used in refinement:\", adaptiveCombiInstanceCell.get_total_num_points())"
   ]
  },
  {
   "cell_type": "code",
   "execution_count": null,
   "metadata": {},
   "outputs": [],
   "source": [
    "%matplotlib inline\n",
    "from sys import path\n",
    "path.append('../src/')\n",
    "import numpy as np\n",
    "from spatiallyAdaptiveExtendSplit import *\n",
    "from Function import *\n",
    "from ErrorCalculator import *\n",
    "\n",
    "# dimension of the problem\n",
    "dim = 2\n",
    "\n",
    "# define integration domain boundaries\n",
    "a = np.zeros(dim)\n",
    "b = np.ones(dim)\n",
    "\n",
    "# define function to be integrated\n",
    "midpoint = np.ones(dim) * 0.5\n",
    "coefficients = np.array([ 10**0 * (d+1) for d in range(dim)])\n",
    "f = GenzDiscontinious(border=midpoint,coeffs=coefficients)\n",
    "# plot function\n",
    "f.plot(np.ones(dim)*a,np.ones(dim)*b)\n",
    "\n",
    "# reference integral solution for calculating errors\n",
    "reference_solution = f.getAnalyticSolutionIntegral(a,b)\n",
    "\n",
    "# define error estimator for refinement\n",
    "errorOperator2=ErrorCalculatorExtendSplit()\n",
    "\n",
    "# define equidistant grid\n",
    "grid=TrapezoidalGrid(a=a, b=b)\n",
    "\n",
    "# NEW! define operation which shall be performed in the combination technique\n",
    "from GridOperation import *\n",
    "operation = Integration(f=f, grid=grid, dim=dim, reference_solution = reference_solution)\n",
    "\n",
    "# define Extend-Split refinement strategy for Spatially Adaptive Combination Technique\n",
    "adaptiveCombiInstanceExtend = SpatiallyAdaptiveExtendScheme(a, b, 3, version=0, operation=operation)\n",
    "\n",
    "# performing the spatially adaptive refinement with the Extend-Split method\n",
    "adaptiveCombiInstanceExtend.performSpatiallyAdaptiv(1, 2, errorOperator2, 10**-2, do_plot=True)\n",
    "\n",
    "print(\"Number of points used in refinement:\", adaptiveCombiInstanceExtend.get_total_num_points())"
   ]
  },
  {
   "cell_type": "code",
   "execution_count": null,
   "metadata": {},
   "outputs": [],
   "source": [
    "%matplotlib inline\n",
    "from sys import path\n",
    "path.append('../src/')\n",
    "import numpy as np\n",
    "from spatiallyAdaptiveSingleDimension2 import *\n",
    "from Function import *\n",
    "from ErrorCalculator import *\n",
    "\n",
    "# dimension of the problem\n",
    "dim = 2\n",
    "\n",
    "# define integration domain boundaries\n",
    "a = np.zeros(dim)\n",
    "b = np.ones(dim)\n",
    "\n",
    "# define function to be integrated\n",
    "midpoint = np.ones(dim) * 0.5\n",
    "coefficients = np.array([ 10**0 * (d+1) for d in range(dim)])\n",
    "f = GenzDiscontinious(border=midpoint,coeffs=coefficients)\n",
    "# plot function\n",
    "f.plot(np.ones(dim)*a,np.ones(dim)*b)\n",
    "\n",
    "# reference integral solution for calculating errors\n",
    "reference_solution = f.getAnalyticSolutionIntegral(a,b)\n",
    "\n",
    "# define error estimator for refinement\n",
    "errorOperator = ErrorCalculatorSingleDimVolumeGuided()\n",
    "\n",
    "# define equidistant grid\n",
    "grid=GlobalTrapezoidalGrid(a=a, b=b, modified_basis=False, boundary=True)\n",
    "\n",
    "# NEW! define operation which shall be performed in the combination technique\n",
    "from GridOperation import *\n",
    "operation = Integration(f=f, grid=grid, dim=dim, reference_solution=reference_solution)\n",
    "\n",
    "# define SingleDim refinement strategy for Spatially Adaptive Combination Technique\n",
    "adaptiveCombiInstanceSingleDim = SpatiallyAdaptiveSingleDimensions2(np.ones(dim) * a, np.ones(dim) * b, operation=operation)\n",
    "\n",
    "# performing the spatially adaptive refinement with the SingleDim method\n",
    "adaptiveCombiInstanceSingleDim.performSpatiallyAdaptiv(1, 2, errorOperator, 10**-2, do_plot=True)\n",
    "\n",
    "print(\"Number of points used in refinement:\", adaptiveCombiInstanceSingleDim.get_total_num_points())"
   ]
  },
  {
   "cell_type": "markdown",
   "metadata": {},
   "source": [
    "Now experiment with different functions, different dimensions and different tolerances to get to know the framework."
   ]
  },
  {
   "cell_type": "code",
   "execution_count": null,
   "metadata": {},
   "outputs": [],
   "source": []
  }
 ],
 "metadata": {
  "kernelspec": {
   "display_name": "Python 3",
   "language": "python",
   "name": "python3"
  },
  "language_info": {
   "codemirror_mode": {
    "name": "ipython",
    "version": 3
   },
   "file_extension": ".py",
   "mimetype": "text/x-python",
   "name": "python",
   "nbconvert_exporter": "python",
   "pygments_lexer": "ipython3",
   "version": "3.6.9"
  }
 },
 "nbformat": 4,
 "nbformat_minor": 1
}
