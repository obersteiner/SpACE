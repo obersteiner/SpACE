{
 "cells": [
  {
   "cell_type": "markdown",
   "metadata": {},
   "source": [
    "# Nodal Basis"
   ]
  },
  {
   "cell_type": "code",
   "execution_count": null,
   "metadata": {},
   "outputs": [],
   "source": [
    "from __future__ import division\n",
    "#from sympy import *\n",
    "import numpy as np\n",
    "from numpy.linalg import *\n",
    "import time\n",
    "import matplotlib.pyplot as plt\n",
    "%matplotlib inline"
   ]
  },
  {
   "cell_type": "code",
   "execution_count": null,
   "metadata": {},
   "outputs": [],
   "source": [
    "def plot_basis(xVec, yVec, filename, plot_surplus=True, plot_interpolation=True, plot_points=True, color=None, figsize=None, hierarchical=False, tickz=False):\n",
    "    #first plot the training data\n",
    "    if figsize is not None:\n",
    "        fig, ax = plt.subplots(figsize=figsize)\n",
    "    else:\n",
    "        fig, ax = plt.subplots()\n",
    "\n",
    "    if plot_points:\n",
    "        plt.scatter(xVec,yVec, label=\"data\", color=\"black\")\n",
    "    #the resulting function will just be the linear interpolation of the extended points\n",
    "    if plot_interpolation:\n",
    "        plt.plot(xVecExtended,yVecExtended,color=\"black\",label=\"linear interpolation\",linewidth=3,linestyle='--')\n",
    "    #calculate the hat functions from before but now scale them with the height v_i\n",
    "    if hierarchical:\n",
    "        stride = 2\n",
    "    else:\n",
    "        stride = 1\n",
    "    for i in range(0, len(xVec), stride):\n",
    "        if i == 0:\n",
    "            x_1 = 0\n",
    "        else:\n",
    "            x_1 = xVec[i-1]\n",
    "        if i == len(xVec)-1:\n",
    "            x_3 = 1\n",
    "        else:\n",
    "            x_3 = xVec[i+1]\n",
    "        xHat = [x_1,xVec[i],x_3]\n",
    "        yHat = [0,yVec[i],0]\n",
    "        if color is not None:\n",
    "            plt.plot(xHat,yHat,color=color)\n",
    "        else:\n",
    "            plt.plot(xHat,yHat)\n",
    "        if plot_surplus:\n",
    "            plt.plot([xVec[i],xVec[i]],[0,yVec[i]], color=\"black\")\n",
    "    plt.ylim([0, max(yVec)*1.2])\n",
    "    if not tickz:\n",
    "        ax.set_xticks([],[])\n",
    "        ax.set_yticks([],[])\n",
    "    plt.savefig(filename, bbox_inches='tight')\n",
    "    plt.show()\n",
    "xVec = [0.125,0.25,0.375,0.5,0.625,0.75,0.875]\n",
    "xVecExtended = [0] + xVec + [1]\n",
    "\n",
    "yVec = [x * (1-x) for x in xVec]\n",
    "yVecExtended = [0] + yVec + [0]\n",
    "plot_basis(xVec, yVec, \"nodal1D.pdf\", tickz=True)"
   ]
  },
  {
   "cell_type": "code",
   "execution_count": null,
   "metadata": {},
   "outputs": [],
   "source": [
    "for l in range(1,4):\n",
    "    xVec = np.linspace(0,1,2**l+1)[1:-1]\n",
    "    yVec = np.ones(len(xVec))\n",
    "    plot_basis(xVec,yVec, \"nodal_basis_level_\" + str(l), plot_surplus=False, plot_interpolation=False, plot_points=False, color=\"black\", figsize=(6,2))"
   ]
  },
  {
   "cell_type": "markdown",
   "metadata": {},
   "source": [
    "# Hierarchical Basis"
   ]
  },
  {
   "cell_type": "code",
   "execution_count": null,
   "metadata": {},
   "outputs": [],
   "source": [
    "for l in range(1,4):\n",
    "    xVec = np.linspace(0,1,2**l+1)[1:-1]\n",
    "    yVec = np.ones(len(xVec))\n",
    "    plot_basis(xVec,yVec, \"hierarchical_basis_level_\" + str(l), plot_surplus=False, plot_interpolation=False, plot_points=False, color=\"black\", figsize=(6,2), hierarchical=True)"
   ]
  },
  {
   "cell_type": "code",
   "execution_count": null,
   "metadata": {},
   "outputs": [],
   "source": [
    "from math import log2\n",
    "#plt.plot(xVecExtended,yVecExtended,color=\"black\",label=\"linear interpolation\",linewidth=3,linestyle='--')\n",
    "plt.scatter(xVec,yVec, label=\"data\", color=\"black\")\n",
    "\n",
    "numlevel = int(log2(len(xVec)+1))\n",
    "yVecHier = list(yVec)\n",
    "for l in range(numlevel):\n",
    "    for j in range(2**l):\n",
    "        offset = int(2**(numlevel - l))\n",
    "        jLevel = offset//2 + j * offset - 1\n",
    "        if jLevel - offset >= 0:\n",
    "            leftPoint = xVec[jLevel - offset//2]\n",
    "        else:\n",
    "            leftPoint = 0\n",
    "        if jLevel + offset < len(xVec):\n",
    "            rightPoint = xVec[jLevel + offset//2]\n",
    "        else:\n",
    "            rightPoint = 1\n",
    "        xHat = [leftPoint, xVec[jLevel], rightPoint]\n",
    "        #print(jLevel)\n",
    "        if l != 0:\n",
    "            leftParent = jLevel - int(2**numlevel/2**(l+1))\n",
    "            rightParent = jLevel + int(2**numlevel/2**(l+1))\n",
    "            y = yVec[jLevel]\n",
    "            yRight=yLeft=0\n",
    "            if leftParent >= 0:\n",
    "                y -= 0.5 * yVec[leftParent]\n",
    "                yLeft = yVec[leftParent]\n",
    "            if rightParent < len(yVec):\n",
    "                y -= 0.5 * yVec[rightParent]\n",
    "                yRight= yVec[rightParent]\n",
    "            yVecHier[jLevel] = y\n",
    "            yHat = [yLeft,yVec[jLevel],yRight]\n",
    "\n",
    "        else:\n",
    "            y = yVec[jLevel]\n",
    "            yHat = [0,y,0]\n",
    "        #print(xHat,yHat)\n",
    "        plt.plot(xHat,yHat)\n",
    "        plt.plot([xVec[jLevel],xVec[jLevel]], [yVec[jLevel], yVec[jLevel]-yVecHier[jLevel]], color=\"black\")\n",
    "        plt.ylim([0, 0.3])\n",
    "plt.savefig(\"hierarchical1D.pdf\", bbox_inches='tight')"
   ]
  },
  {
   "cell_type": "code",
   "execution_count": null,
   "metadata": {},
   "outputs": [],
   "source": [
    "from math import log2\n",
    "#plt.plot(xVecExtended,yVecExtended,color=\"black\",label=\"linear interpolation\",linewidth=3,linestyle='--')\n",
    "#plt.scatter(xVec,yVec, label=\"data\", color=\"black\")\n",
    "\n",
    "numlevel = int(log2(len(xVec)+1))\n",
    "yVecHier = list(yVec)\n",
    "for l in range(numlevel):\n",
    "    for j in range(2**l):\n",
    "        offset = int(2**(numlevel - l))\n",
    "        jLevel = offset//2 + j * offset - 1\n",
    "        if jLevel - offset >= 0:\n",
    "            leftPoint = xVec[jLevel - offset//2]\n",
    "        else:\n",
    "            leftPoint = 0\n",
    "        if jLevel + offset < len(xVec):\n",
    "            rightPoint = xVec[jLevel + offset//2]\n",
    "        else:\n",
    "            rightPoint = 1\n",
    "        xHat = [leftPoint, xVec[jLevel], rightPoint]\n",
    "        #print(jLevel)\n",
    "        if l != 0:\n",
    "            leftParent = jLevel - int(2**numlevel/2**(l+1))\n",
    "            rightParent = jLevel + int(2**numlevel/2**(l+1))\n",
    "            y = yVec[jLevel]\n",
    "            yRight=yLeft=0\n",
    "            if leftParent >= 0:\n",
    "                y -= 0.5 * yVec[leftParent]\n",
    "                yLeft = yVec[leftParent]\n",
    "            if rightParent < len(yVec):\n",
    "                y -= 0.5 * yVec[rightParent]\n",
    "                yRight= yVec[rightParent]\n",
    "            yVecHier[jLevel] = y\n",
    "            yHat = [0,yVecHier[jLevel],0]\n",
    "\n",
    "        else:\n",
    "            y = yVec[jLevel]\n",
    "            yHat = [0,y,0]\n",
    "        #print(xHat,yHat)\n",
    "        plt.plot(xHat,yHat)\n",
    "        plt.plot([xVec[jLevel],xVec[jLevel]], [0, yVecHier[jLevel]], color=\"black\")\n",
    "        plt.ylim([0, 0.3])\n",
    "plt.savefig(\"hierarchical1Dflat.pdf\", bbox_inches='tight')"
   ]
  },
  {
   "cell_type": "code",
   "execution_count": null,
   "metadata": {},
   "outputs": [],
   "source": [
    "%matplotlib inline\n",
    "from sys import path\n",
    "path.append('../../src/')\n",
    "from Function import *\n",
    "from StandardCombi import *\n",
    "from Grid import *\n",
    "import numpy as np\n",
    "dim = 2\n",
    "a = np.zeros(dim)\n",
    "b = np.ones(dim)\n",
    "grid = TrapezoidalGrid(a=a, b=b, boundary=True)\n",
    "f = FunctionExpVar()\n",
    "from GridOperation import *\n",
    "operation = Integration(f=f, grid=grid, dim=dim, reference_solution = f.getAnalyticSolutionIntegral(a,b))\n",
    "combiObject = StandardCombi(a, b, operation=operation)\n",
    "minimum_level = 1\n",
    "maximum_level = 3\n",
    "combiObject.set_combi_parameters(minimum_level, maximum_level)\n",
    "combiObject.print_subspaces(sparse_grid_spaces=False, ticks=False, fade_full_grid=False, filename=\"hierarchical_subspaces.pdf\")"
   ]
  },
  {
   "cell_type": "markdown",
   "metadata": {},
   "source": [
    "# Sparse Grid"
   ]
  },
  {
   "cell_type": "code",
   "execution_count": null,
   "metadata": {},
   "outputs": [],
   "source": [
    "%matplotlib inline\n",
    "from sys import path\n",
    "path.append('../../src/')\n",
    "from Function import *\n",
    "from StandardCombi import *\n",
    "from Grid import *\n",
    "import numpy as np\n",
    "dim = 2\n",
    "a = np.zeros(dim)\n",
    "b = np.ones(dim)\n",
    "grid = TrapezoidalGrid(a=a, b=b, boundary=True)\n",
    "f = FunctionExpVar()\n",
    "from GridOperation import *\n",
    "operation = Integration(f=f, grid=grid, dim=dim, reference_solution = f.getAnalyticSolutionIntegral(a,b))\n",
    "combiObject = StandardCombi(a, b, operation=operation)\n",
    "minimum_level = 1\n",
    "maximum_level = 3\n",
    "combiObject.set_combi_parameters(minimum_level, maximum_level)\n",
    "combiObject.print_subspaces(sparse_grid_spaces=False, ticks=False, fade_full_grid=True, filename=\"sparsegrid_subspaces.pdf\")"
   ]
  },
  {
   "cell_type": "code",
   "execution_count": null,
   "metadata": {},
   "outputs": [],
   "source": [
    "combiObject.print_resulting_sparsegrid(ticks=False, show_border=True, filename=\"sparsegrid.pdf\")"
   ]
  },
  {
   "cell_type": "markdown",
   "metadata": {},
   "source": [
    "# Combination Technique"
   ]
  },
  {
   "cell_type": "code",
   "execution_count": null,
   "metadata": {
    "scrolled": true
   },
   "outputs": [],
   "source": [
    "%matplotlib inline\n",
    "from sys import path\n",
    "path.append('../../src/')\n",
    "from Function import *\n",
    "from StandardCombi import *\n",
    "from Grid import *\n",
    "import numpy as np\n",
    "dim = 2\n",
    "a = np.zeros(dim)\n",
    "b = np.ones(dim)\n",
    "grid = TrapezoidalGrid(a=a, b=b, boundary=True)\n",
    "f = FunctionExpVar()\n",
    "from GridOperation import *\n",
    "operation = Integration(f=f, grid=grid, dim=dim, reference_solution = f.getAnalyticSolutionIntegral(a,b))\n",
    "combiObject = StandardCombi(a, b, operation=operation)\n",
    "minimum_level = 1\n",
    "maximum_level = 3\n",
    "combiObject.set_combi_parameters(minimum_level, maximum_level)\n",
    "combiObject.print_resulting_combi_scheme(ticks=False, filename=\"combi.pdf\")"
   ]
  },
  {
   "cell_type": "markdown",
   "metadata": {},
   "source": [
    "# Dimension Adaptive Combination Technique"
   ]
  },
  {
   "cell_type": "code",
   "execution_count": null,
   "metadata": {
    "scrolled": false
   },
   "outputs": [],
   "source": [
    "%matplotlib inline\n",
    "from sys import path\n",
    "path.append('../src/')\n",
    "from Function import *\n",
    "from DimAdaptiveCombi import *\n",
    "from Grid import *\n",
    "import numpy as np\n",
    "dim = 2\n",
    "coeffs = np.ones(dim)\n",
    "a = np.zeros(dim)\n",
    "b = np.ones(dim)\n",
    "grid = TrapezoidalGrid(a=a, b=b)\n",
    "f = GenzCornerPeak(coeffs=coeffs)\n",
    "from GridOperation import *\n",
    "operation = Integration(f=f, grid=grid, dim=dim, reference_solution = f.getAnalyticSolutionIntegral(a,b))\n",
    "combiObject = DimAdaptiveCombi(a, b, operation=operation)\n",
    "minimum_level = 1\n",
    "maximum_level = 1\n",
    "combiObject.perform_combi(minimum_level, maximum_level, 2*10**-3)\n",
    "combiObject.print_resulting_combi_scheme(ticks=False, filename=\"combi_dimadaptive.pdf\", fontsize=60)\n",
    "combiObject.print_resulting_sparsegrid(ticks=False, show_border=True, filename=\"sparsegrid_dimadaptive.pdf\")"
   ]
  },
  {
   "cell_type": "markdown",
   "metadata": {},
   "source": [
    "# SpatiallyAdaptiveCombi"
   ]
  },
  {
   "cell_type": "code",
   "execution_count": null,
   "metadata": {},
   "outputs": [],
   "source": []
  }
 ],
 "metadata": {
  "kernelspec": {
   "display_name": "Python 3",
   "language": "python",
   "name": "python3"
  },
  "language_info": {
   "codemirror_mode": {
    "name": "ipython",
    "version": 3
   },
   "file_extension": ".py",
   "mimetype": "text/x-python",
   "name": "python",
   "nbconvert_exporter": "python",
   "pygments_lexer": "ipython3",
   "version": "3.6.9"
  }
 },
 "nbformat": 4,
 "nbformat_minor": 1
}
