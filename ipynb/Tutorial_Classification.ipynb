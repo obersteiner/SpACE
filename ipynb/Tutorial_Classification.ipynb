{
 "cells": [
  {
   "cell_type": "markdown",
   "metadata": {},
   "source": [
    "## Classification with the use of Density Estimation\n",
    "\n",
    "This notebook provides a quick summary and introduction on how to use the Classification and DataSet wrappers.\n",
    "The wrappers work with Python version 3.8.3 or higher.\n",
    "\n",
    "The DataSet class is intended to simplify operations on datasets, e.g. Density Estimation.\n",
    "First we take a look on how to initialize a DataSet object, then we use some methods on this object to demonstrate functionality of DataSet objects.\n",
    "After that you will see some examples of Classification on DataSets and their functionality.\n",
    "For more information you can check out the documentation of DataSet and Classification.\n",
    "\n",
    "***"
   ]
  },
  {
   "cell_type": "markdown",
   "metadata": {},
   "source": [
    "The DataSet Constructor takes 2 arguments: the actual samples (data), and optionally a name for this DataSet object.\n",
    "Data can take the form of:\n",
    "+ a string (path to a CSV file which will be read and transformed into usable data; *not implemented yet*)\n",
    "+ a n-dimensional ndarray with type float64\n",
    "+ a 2-dimensional tuple with its first entry being a n-dimensional ndarray of size m with type float64 and its second entry being a 1-dimensional ndarray of size m with type int64\n",
    "\n",
    "No matter the input, after initialization the data will have the form of the 3rd possibility.\n",
    "A possible dataset generator with randomized samples but a still distinguishable form is the dataset module from sklearn (which we will use during this tutorial)."
   ]
  },
  {
   "cell_type": "code",
   "execution_count": 17,
   "metadata": {},
   "outputs": [],
   "source": [
    "from sys import path\n",
    "path.append('../src/')\n",
    "import DatasetOperation as do\n",
    "\n",
    "\n",
    "# generate a Circle-Dataset of size with the sklearn library\n",
    "size = 500\n",
    "#sklearn_dataset = do.datasets.make_circles(n_samples=size, noise=0.05)\n",
    "# sklearn_dataset = do.datasets.make_moons(n_samples=size, noise=0.3)\n",
    "# sklearn_dataset = do.datasets.make_classification(size, n_features=2, n_redundant=0, n_clusters_per_class=1, n_informative=1, n_classes=2)\n",
    "# sklearn_dataset = do.datasets.make_classification(size, n_features=3, n_redundant=0, n_clusters_per_class=1, n_informative=2, n_classes=3)\n",
    "sklearn_dataset = do.datasets.make_blobs(n_samples=size, n_features=10, centers=4)\n",
    "# sklearn_dataset = do.datasets.make_gaussian_quantiles(n_samples=size, n_features=2, n_classes=6)\n",
    "\n",
    "# now we can transform this dataset into a DataSet object and give it an appropriate name\n",
    "data = do.DataSet(sklearn_dataset, name='Testset')\n",
    "\n",
    "# -----------------------------------------------------------------------------------------------------------------------------------------------------------------------------------------------------\n",
    "# now let's look at some functions of the DataSet class\n",
    "\n",
    "# DataSet objects can e.g. be ...\n",
    "data_copy = data.copy()                                              # deepcopied\n",
    "data_copy.scale_range((0.005, 0.995))                                # scaled\n",
    "part0, part1 = data_copy.split_pieces(0.5)                           # split\n",
    "data_copy = part0.concatenate(part1)                                 # concatenated\n",
    "data_copy.set_name('2nd_Set')                                        # renamed\n",
    "data_copy.remove_classes(0.5)                                        # freed of some class assignments to samples\n",
    "without_classes, with_classes = data_copy.split_without_classes()    # seperated into samples with and without classes\n",
    "#data_copy.plot()                                                     # plotted\n",
    "\n",
    "# and of course we can perform a regular density estimation on a DataSet object:\n",
    "#de_retval = data_copy.density_estimation(plot_de_dataset=False, plot_sparsegrid=False, plot_density_estimation=True, plot_combi_scheme=True)"
   ]
  },
  {
   "cell_type": "markdown",
   "metadata": {},
   "source": [
    "***\n",
    "\n",
    "## How to use the Classification Class\n",
    "\n",
    "Now that we created some DataSets we can perform classifications on them.\n",
    "\n",
    "First we need to initialize a Classification object.\n",
    "The Classification Constructor therefore accepts 4 arguments: a DataSet and three optional parameters:\n",
    "+ initial DataSat on which to perform the classification\n",
    "+ an optional explicitly stated data range of the DataSet\n",
    "+ a percentage factor which specifies how much percentage of the input DataSet should be used as learning dataset, the rest will be used for testing later on\n",
    "+ a boolean value which specifies whether the learning data should consist of evenly or randomly sized classes (not valid if 0 < percentage < 1)\n",
    "\n",
    "After initialization there is a more or less strict order in which methods to a created Classification object should be called."
   ]
  },
  {
   "cell_type": "code",
   "execution_count": null,
   "metadata": {},
   "outputs": [
    {
     "name": "stdout",
     "output_type": "stream",
     "text": [
      "Performed Classification of 'Testset' DataSet.\n",
      "_________________________________________________________________________________________________________________________________\n",
      "---------------------------------------------------------------------------------------------------------------------------------\n"
     ]
    },
    {
     "name": "stderr",
     "output_type": "stream",
     "text": [
      "<ipython-input-18-d054cb905cb8>:12: UserWarning: Invalid dimension for plotting. Couldn't plot DataSet.\n"
     ]
    },
    {
     "data": {
      "text/plain": [
       "<Figure size 864x864 with 0 Axes>"
      ]
     },
     "metadata": {},
     "output_type": "display_data"
    },
    {
     "name": "stdout",
     "output_type": "stream",
     "text": [
      "Can only plot 2D results\n",
      "Can only plot 2D results\n",
      "Can only plot 2D results\n",
      "Can only plot 2D results\n",
      "Testing classes of Test_new_data DataSet...\n"
     ]
    }
   ],
   "source": [
    "# initialize Classification object with our original unedited data, 80% of this data is going to be used as learning data which has equally\n",
    "# distributed classes\n",
    "classification = do.Classification(data, split_percentage=1.0, split_evenly=True)\n",
    "\n",
    "# after that we should immediately perform the classification for the learning data tied to the Classification object, since we can't really call any other method before that without raising an error\n",
    "classification.perform_classification(masslumping=True, lambd=0.0, minimum_level=1, maximum_level=3)\n",
    "\n",
    "# -----------------------------------------------------------------------------------------------------------------------------------------------------------------------------------------------------\n",
    "# now we can perform some other operations on this classification object\n",
    "\n",
    "# we could e.g. plot its classificators and corresponding density estimations\n",
    "classification.plot(plot_class_sparsegrid=False, plot_class_combi_scheme=False, plot_class_dataset=True, plot_class_density_estimation=True)\n",
    "\n",
    "# if we already added some testing data to the Classification object (which we did in the initialization process, 20% of samples are testing samples), we can print the current evaluation\n",
    "#classification.print_evaluation()\n",
    "\n",
    "# we can also add more testing data and print the results immediately\n",
    "with_classes.set_name(\"Test_new_data\")\n",
    "classification.test_data(with_classes, print_output=True)\n",
    "\n",
    "# and we can call the Classification object to perform blind classification on a dataset with unknown class assignments to its samples\n",
    "data_copy.remove_classes(1.0)\n",
    "calcult_classes = classification(data_copy)\n",
    "\n",
    "# because we used 2D datasets before, we can plot the results to easily see which samples were classified correctly and which not\n",
    "correct_classes = data.copy()\n",
    "correct_classes.scale_range((0.005, 0.995))\n",
    "correct_classes.set_name('Correct_Classes')\n",
    "calcult_classes.set_name('Calculated_Classes')\n",
    "retfig0 = correct_classes.plot()\n",
    "retfig1 = calcult_classes.plot()"
   ]
  },
  {
   "cell_type": "code",
   "execution_count": 2,
   "metadata": {},
   "outputs": [],
   "source": []
  }
 ],
 "metadata": {
  "kernelspec": {
   "display_name": "Python 3",
   "language": "python",
   "name": "python3"
  },
  "language_info": {
   "codemirror_mode": {
    "name": "ipython",
    "version": 3
   },
   "file_extension": ".py",
   "mimetype": "text/x-python",
   "name": "python",
   "nbconvert_exporter": "python",
   "pygments_lexer": "ipython3",
   "version": "3.8.3"
  }
 },
 "nbformat": 4,
 "nbformat_minor": 4
}