{
 "cells": [
  {
   "cell_type": "markdown",
   "metadata": {},
   "source": [
    "# Grids"
   ]
  },
  {
   "cell_type": "markdown",
   "metadata": {},
   "source": [
    "In this tutorial we will loook at the different Grids that are implemented in the framework. All grids can be used as well in the Standard Combination Technique, the Dimension Adaptive Combi Technique and the Spatial Adaptive Combi Technique. However some Spatial Adaptive Strategies do currently not support arbitrary distributions such as the CellMethod (which is restricted to Trapezoidal Grids)."
   ]
  },
  {
   "cell_type": "markdown",
   "metadata": {},
   "source": [
    "## Trapezoidal Grid"
   ]
  },
  {
   "cell_type": "markdown",
   "metadata": {},
   "source": [
    "In this example we will look at the most common Trapezoidal or Equidistant Grid which implements the trapezoidal rule for integration."
   ]
  },
  {
   "cell_type": "code",
   "execution_count": null,
   "metadata": {},
   "outputs": [],
   "source": [
    "%matplotlib inline\n",
    "from sys import path\n",
    "path.append('../src/')\n",
    "\n",
    "from Function import *\n",
    "from StandardCombi import *\n",
    "from Grid import *\n",
    "import numpy as np\n",
    "dim = 2\n",
    "coeffs = np.ones(dim)\n",
    "a = np.zeros(dim)\n",
    "b = np.ones(dim)\n",
    "grid = TrapezoidalGrid(a=a, b=b)\n",
    "f = GenzCornerPeak(coeffs=coeffs)\n",
    "# NEW! define operation which shall be performed in the combination technique\n",
    "from GridOperation import *\n",
    "operation = Integration(f=f, grid=grid, dim=dim, reference_solution = f.getAnalyticSolutionIntegral(a,b))\n",
    "combiObject = StandardCombi(a, b, operation=operation)\n",
    "minimum_level = 1\n",
    "maximum_level = 4\n",
    "combiObject.perform_combi(minimum_level, maximum_level, f)\n",
    "combiObject.print_resulting_combi_scheme()\n",
    "combiObject.print_resulting_sparsegrid()\n"
   ]
  },
  {
   "cell_type": "markdown",
   "metadata": {},
   "source": [
    "## Clenshaw Curtis Grid"
   ]
  },
  {
   "cell_type": "markdown",
   "metadata": {},
   "source": [
    "Clenshaw Curtis Grids use Chebyshev distributed grids with more points towards the boundaries. The method is exact for polynomials up to degree n-1 if we use n points in a 1D integration. One key feature in contrast to Gauss quadrature is that Clenshaw Curtis points are nested."
   ]
  },
  {
   "cell_type": "code",
   "execution_count": null,
   "metadata": {},
   "outputs": [],
   "source": [
    "%matplotlib inline\n",
    "from sys import path\n",
    "path.append('../src/')\n",
    "\n",
    "from Function import *\n",
    "from StandardCombi import *\n",
    "from Grid import *\n",
    "import numpy as np\n",
    "dim = 2\n",
    "coeffs = np.ones(dim)\n",
    "a = np.zeros(dim)\n",
    "b = np.ones(dim)\n",
    "grid = ClenshawCurtisGrid(a=a, b=b)\n",
    "f = GenzCornerPeak(coeffs=coeffs)\n",
    "# NEW! define operation which shall be performed in the combination technique\n",
    "from GridOperation import *\n",
    "operation = Integration(f=f, grid=grid, dim=dim, reference_solution = f.getAnalyticSolutionIntegral(a,b))\n",
    "combiObject = StandardCombi(a, b, operation=operation)\n",
    "minimum_level = 1\n",
    "maximum_level = 4\n",
    "combiObject.perform_combi(minimum_level, maximum_level, f)\n",
    "combiObject.print_resulting_combi_scheme()\n",
    "combiObject.print_resulting_sparsegrid()\n"
   ]
  },
  {
   "cell_type": "markdown",
   "metadata": {},
   "source": [
    "## Gauss-Legendre Quadrature"
   ]
  },
  {
   "cell_type": "markdown",
   "metadata": {},
   "source": [
    "Probably one of the most famous advanced quadrature rules which gives exact rules up to degree 2n-1 with n points in 1D. It is quite often used in scenarios where function evaluations are the most time consuming part and we want to spent as little points as possible to get good results. However, if the function is not smooth enough (or not even continous) Gauss Quadrature can also take a significant amount of points to get good results. One drawback in comparison the Clenshaw Curtis points is that the points of different levels are not nested for Gauss Quadrature."
   ]
  },
  {
   "cell_type": "code",
   "execution_count": null,
   "metadata": {},
   "outputs": [],
   "source": [
    "%matplotlib inline\n",
    "from sys import path\n",
    "path.append('../src/')\n",
    "\n",
    "from Function import *\n",
    "from StandardCombi import *\n",
    "from Grid import *\n",
    "import numpy as np\n",
    "dim = 2\n",
    "coeffs = np.ones(dim)\n",
    "a = np.zeros(dim)\n",
    "b = np.ones(dim)\n",
    "grid = GaussLegendreGrid(a=a, b=b)\n",
    "f = GenzCornerPeak(coeffs=coeffs)\n",
    "# NEW! define operation which shall be performed in the combination technique\n",
    "from GridOperation import *\n",
    "operation = Integration(f=f, grid=grid, dim=dim, reference_solution = f.getAnalyticSolutionIntegral(a,b))\n",
    "combiObject = StandardCombi(a, b, operation=operation)\n",
    "minimum_level = 1\n",
    "maximum_level = 4\n",
    "combiObject.perform_combi(minimum_level, maximum_level, f)\n",
    "combiObject.print_resulting_combi_scheme()\n",
    "combiObject.print_resulting_sparsegrid()\n"
   ]
  },
  {
   "cell_type": "markdown",
   "metadata": {},
   "source": [
    "## Leja Points"
   ]
  },
  {
   "cell_type": "markdown",
   "metadata": {},
   "source": [
    "This grid type uses Leja points to build up the grid. One important difference to other schemes is that Leja points have a linear not exponential growth factor. That mean currently we always add 2 points if we go up 1 level insted of doubling the number of points. Typically Leja points have shown to be very effective when it comes to interpolating functions with few points."
   ]
  },
  {
   "cell_type": "code",
   "execution_count": null,
   "metadata": {},
   "outputs": [],
   "source": [
    "%matplotlib inline\n",
    "from sys import path\n",
    "path.append('../src/')\n",
    "\n",
    "from Function import *\n",
    "from StandardCombi import *\n",
    "from Grid import *\n",
    "import numpy as np\n",
    "dim = 2\n",
    "coeffs = np.ones(dim)\n",
    "a = np.zeros(dim)\n",
    "b = np.ones(dim)\n",
    "grid = LejaGrid(a=a, b=b)\n",
    "f = GenzCornerPeak(coeffs=coeffs)\n",
    "# NEW! define operation which shall be performed in the combination technique\n",
    "from GridOperation import *\n",
    "operation = Integration(f=f, grid=grid, dim=dim, reference_solution = f.getAnalyticSolutionIntegral(a,b))\n",
    "combiObject = StandardCombi(a, b, operation=operation)\n",
    "minimum_level = 1\n",
    "maximum_level = 4\n",
    "combiObject.perform_combi(minimum_level, maximum_level, f)\n",
    "combiObject.print_resulting_combi_scheme()\n",
    "combiObject.print_resulting_sparsegrid()\n"
   ]
  },
  {
   "cell_type": "markdown",
   "metadata": {},
   "source": [
    "## Mixed Grids"
   ]
  },
  {
   "cell_type": "markdown",
   "metadata": {},
   "source": [
    "It is now also possible to mix different grid distributions for different dimensions of our grid. We can use the MixedGrid Integration which calls the 1D routines for every dimension individually.  In the example below we use a Equidistant Trapezoidal grid in the x direction and a Clenshaw Curtis grid in the y direction."
   ]
  },
  {
   "cell_type": "code",
   "execution_count": null,
   "metadata": {},
   "outputs": [],
   "source": [
    "%matplotlib inline\n",
    "from sys import path\n",
    "path.append('../src/')\n",
    "\n",
    "from Function import *\n",
    "from StandardCombi import *\n",
    "from Grid import *\n",
    "import numpy as np\n",
    "dim = 2\n",
    "coeffs = np.ones(dim)\n",
    "a = np.zeros(dim)\n",
    "b = np.ones(dim)\n",
    "grid1 = TrapezoidalGrid1D(a[0],b[0])\n",
    "grid2 = ClenshawCurtisGrid1D(a[0],b[0])\n",
    "grids = [grid1,grid2]\n",
    "grid=MixedGrid(a=a, b=b, grids=grids)\n",
    "f = GenzCornerPeak(coeffs=coeffs)\n",
    "# NEW! define operation which shall be performed in the combination technique\n",
    "from GridOperation import *\n",
    "operation = Integration(f=f, grid=grid, dim=dim, reference_solution = f.getAnalyticSolutionIntegral(a,b))\n",
    "combiObject = StandardCombi(a, b, operation=operation)\n",
    "minimum_level = 1\n",
    "maximum_level = 4\n",
    "combiObject.perform_combi(minimum_level, maximum_level, f)\n",
    "combiObject.print_resulting_combi_scheme()\n",
    "combiObject.print_resulting_sparsegrid()\n"
   ]
  },
  {
   "cell_type": "markdown",
   "metadata": {},
   "source": [
    "## Special Grids for UQ"
   ]
  },
  {
   "cell_type": "markdown",
   "metadata": {},
   "source": [
    "When it comes to Uncertainty Quantification one often aims to not just compute\n",
    "$$\\int_{x \\in D} f(x) dx$$\n",
    "\n",
    "but to include a probability distribution $\\phi(x)$:\n",
    "$$\\int_{x \\in D} \\phi(x) f(x) dx$$\n",
    "\n",
    "For these special problems better point distributions can be found such as Gauss points for the Truncated Normal distribution which can be seen below."
   ]
  },
  {
   "cell_type": "code",
   "execution_count": null,
   "metadata": {},
   "outputs": [],
   "source": [
    "%matplotlib inline\n",
    "from sys import path\n",
    "path.append('../src/')\n",
    "\n",
    "from Function import *\n",
    "from StandardCombi import *\n",
    "from Grid import *\n",
    "import numpy as np\n",
    "dim = 2\n",
    "coeffs = np.ones(dim)\n",
    "a = np.ones(dim) * 0\n",
    "b = np.ones(dim) * 10\n",
    "mean = np.ones(dim)\n",
    "std_dev = np.ones(dim)\n",
    "grid = TruncatedNormalDistributionGrid(a=a,b=b, mean=mean, std_dev=std_dev)\n",
    "\n",
    "model = FunctionUQNormal2(FunctionUQ2(), mean, std_dev, a, b)\n",
    "# NEW! define operation which shall be performed in the combination technique\n",
    "from GridOperation import *\n",
    "operation = Integration(f=model, grid=grid, dim=dim, reference_solution = model.getAnalyticSolutionIntegral(a,b))\n",
    "combiObject = StandardCombi(a, b, operation=operation)\n",
    "minimum_level = 1\n",
    "maximum_level = 7\n",
    "combiObject.perform_combi(minimum_level, maximum_level, model)\n",
    "combiObject.print_resulting_combi_scheme()\n",
    "combiObject.print_resulting_sparsegrid()\n"
   ]
  },
  {
   "cell_type": "code",
   "execution_count": null,
   "metadata": {},
   "outputs": [],
   "source": []
  }
 ],
 "metadata": {
  "kernelspec": {
   "display_name": "Python 3",
   "language": "python",
   "name": "python3"
  },
  "language_info": {
   "codemirror_mode": {
    "name": "ipython",
    "version": 3
   },
   "file_extension": ".py",
   "mimetype": "text/x-python",
   "name": "python",
   "nbconvert_exporter": "python",
   "pygments_lexer": "ipython3",
   "version": "3.6.7"
  }
 },
 "nbformat": 4,
 "nbformat_minor": 2
}
